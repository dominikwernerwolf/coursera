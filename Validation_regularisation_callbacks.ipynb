{
  "cells": [
    {
      "cell_type": "markdown",
      "metadata": {
        "id": "view-in-github",
        "colab_type": "text"
      },
      "source": [
        "<a href=\"https://colab.research.google.com/github/dominikwernerwolf/coursera/blob/main/Validation_regularisation_callbacks.ipynb\" target=\"_parent\"><img src=\"https://colab.research.google.com/assets/colab-badge.svg\" alt=\"Open In Colab\"/></a>"
      ]
    },
    {
      "cell_type": "code",
      "execution_count": 1,
      "metadata": {
        "scrolled": true,
        "id": "ZjxRZnho6rwH",
        "outputId": "8501e303-2862-4ecf-8895-561f88fd379c",
        "colab": {
          "base_uri": "https://localhost:8080/"
        }
      },
      "outputs": [
        {
          "output_type": "stream",
          "name": "stdout",
          "text": [
            "2.9.2\n"
          ]
        }
      ],
      "source": [
        "import tensorflow as tf\n",
        "print(tf.__version__)"
      ]
    },
    {
      "cell_type": "markdown",
      "metadata": {
        "id": "kKUsagKe6rwL"
      },
      "source": [
        "# Validation, regularisation and callbacks"
      ]
    },
    {
      "cell_type": "markdown",
      "metadata": {
        "id": "HHg4uL9f6rwM"
      },
      "source": [
        " ## Coding tutorials\n",
        " #### [1. Validation sets](#coding_tutorial_1)\n",
        " #### [2. Model regularisation](#coding_tutorial_2)\n",
        " #### [3. Introduction to callbacks](#coding_tutorial_3)\n",
        " #### [4. Early stopping / patience](#coding_tutorial_4)"
      ]
    },
    {
      "cell_type": "markdown",
      "metadata": {
        "id": "Fjf3Svhh6rwM"
      },
      "source": [
        "***\n",
        "<a id=\"coding_tutorial_1\"></a>\n",
        "## Validation sets"
      ]
    },
    {
      "cell_type": "markdown",
      "metadata": {
        "id": "zY9tBoSV6rwN"
      },
      "source": [
        "#### Load the data"
      ]
    },
    {
      "cell_type": "code",
      "execution_count": 2,
      "metadata": {
        "id": "PbO0Rij56rwN",
        "outputId": "d89ee275-c6f8-4d7a-d9d5-a2d4f427dc69",
        "colab": {
          "base_uri": "https://localhost:8080/"
        }
      },
      "outputs": [
        {
          "output_type": "stream",
          "name": "stdout",
          "text": [
            ".. _diabetes_dataset:\n",
            "\n",
            "Diabetes dataset\n",
            "----------------\n",
            "\n",
            "Ten baseline variables, age, sex, body mass index, average blood\n",
            "pressure, and six blood serum measurements were obtained for each of n =\n",
            "442 diabetes patients, as well as the response of interest, a\n",
            "quantitative measure of disease progression one year after baseline.\n",
            "\n",
            "**Data Set Characteristics:**\n",
            "\n",
            "  :Number of Instances: 442\n",
            "\n",
            "  :Number of Attributes: First 10 columns are numeric predictive values\n",
            "\n",
            "  :Target: Column 11 is a quantitative measure of disease progression one year after baseline\n",
            "\n",
            "  :Attribute Information:\n",
            "      - age     age in years\n",
            "      - sex\n",
            "      - bmi     body mass index\n",
            "      - bp      average blood pressure\n",
            "      - s1      tc, total serum cholesterol\n",
            "      - s2      ldl, low-density lipoproteins\n",
            "      - s3      hdl, high-density lipoproteins\n",
            "      - s4      tch, total cholesterol / HDL\n",
            "      - s5      ltg, possibly log of serum triglycerides level\n",
            "      - s6      glu, blood sugar level\n",
            "\n",
            "Note: Each of these 10 feature variables have been mean centered and scaled by the standard deviation times `n_samples` (i.e. the sum of squares of each column totals 1).\n",
            "\n",
            "Source URL:\n",
            "https://www4.stat.ncsu.edu/~boos/var.select/diabetes.html\n",
            "\n",
            "For more information see:\n",
            "Bradley Efron, Trevor Hastie, Iain Johnstone and Robert Tibshirani (2004) \"Least Angle Regression,\" Annals of Statistics (with discussion), 407-499.\n",
            "(https://web.stanford.edu/~hastie/Papers/LARS/LeastAngle_2002.pdf)\n"
          ]
        }
      ],
      "source": [
        "# Load the diabetes dataset\n",
        "\n",
        "from sklearn.datasets import load_diabetes\n",
        "\n",
        "diabetes_dataset = load_diabetes()\n",
        "print(diabetes_dataset[\"DESCR\"])"
      ]
    },
    {
      "cell_type": "code",
      "execution_count": 3,
      "metadata": {
        "id": "c57ZaQAK6rwN",
        "outputId": "23d2963b-3c6e-4421-f736-0822c6ad055c",
        "colab": {
          "base_uri": "https://localhost:8080/"
        }
      },
      "outputs": [
        {
          "output_type": "stream",
          "name": "stdout",
          "text": [
            "dict_keys(['data', 'target', 'frame', 'DESCR', 'feature_names', 'data_filename', 'target_filename', 'data_module'])\n"
          ]
        }
      ],
      "source": [
        "# Save the input and target variables\n",
        "\n",
        "print(diabetes_dataset.keys())\n",
        "data = diabetes_dataset[\"data\"]\n",
        "targets = diabetes_dataset[\"target\"]"
      ]
    },
    {
      "cell_type": "code",
      "execution_count": 4,
      "metadata": {
        "id": "lAXZZf7J6rwO"
      },
      "outputs": [],
      "source": [
        "# Normalise the target data (this will make clearer training curves)\n",
        "\n",
        "targets = (targets - targets.mean(axis=0))/targets.std()"
      ]
    },
    {
      "cell_type": "code",
      "execution_count": 5,
      "metadata": {
        "id": "_tdo11pz6rwO",
        "outputId": "28bf6e2a-14b0-42df-e3cc-6d1795b9fdce",
        "colab": {
          "base_uri": "https://localhost:8080/"
        }
      },
      "outputs": [
        {
          "output_type": "stream",
          "name": "stdout",
          "text": [
            "(397, 10)\n",
            "(45, 10)\n",
            "(397,)\n",
            "(45,)\n"
          ]
        }
      ],
      "source": [
        "# Split the data into train and test sets\n",
        "\n",
        "from sklearn.model_selection import train_test_split\n",
        "train_data, test_data, train_target, test_target = train_test_split(data, targets, test_size=0.1)\n",
        "\n",
        "print(train_data.shape)\n",
        "print(test_data.shape)\n",
        "print(train_target.shape)\n",
        "print(test_target.shape)"
      ]
    },
    {
      "cell_type": "markdown",
      "metadata": {
        "id": "zs15XNEW6rwP"
      },
      "source": [
        "#### Train a feedforward neural network model"
      ]
    },
    {
      "cell_type": "code",
      "execution_count": 6,
      "metadata": {
        "id": "oGhCvuUm6rwP"
      },
      "outputs": [],
      "source": [
        "# Build the model\n",
        "\n",
        "from tensorflow.keras.models import Sequential\n",
        "from tensorflow.keras.layers import Dense\n",
        "\n",
        "def get_model(train_data):\n",
        "    model = Sequential([\n",
        "      Dense(128, activation='relu', input_shape=(train_data.shape[1],)),\n",
        "      Dense(128, activation='relu'),\n",
        "      Dense(128, activation='relu'),\n",
        "      Dense(128, activation='relu'),\n",
        "      Dense(128, activation='relu'),\n",
        "      Dense(128, activation='relu'),\n",
        "      Dense(1)\n",
        "    ])\n",
        "    return model\n",
        "\n",
        "model = get_model(train_data)"
      ]
    },
    {
      "cell_type": "code",
      "execution_count": 7,
      "metadata": {
        "id": "5aAQr-i_6rwP",
        "outputId": "f85c5eaf-b0dc-402f-933c-d0124fee5aa4",
        "colab": {
          "base_uri": "https://localhost:8080/"
        }
      },
      "outputs": [
        {
          "output_type": "stream",
          "name": "stdout",
          "text": [
            "Model: \"sequential\"\n",
            "_________________________________________________________________\n",
            " Layer (type)                Output Shape              Param #   \n",
            "=================================================================\n",
            " dense (Dense)               (None, 128)               1408      \n",
            "                                                                 \n",
            " dense_1 (Dense)             (None, 128)               16512     \n",
            "                                                                 \n",
            " dense_2 (Dense)             (None, 128)               16512     \n",
            "                                                                 \n",
            " dense_3 (Dense)             (None, 128)               16512     \n",
            "                                                                 \n",
            " dense_4 (Dense)             (None, 128)               16512     \n",
            "                                                                 \n",
            " dense_5 (Dense)             (None, 128)               16512     \n",
            "                                                                 \n",
            " dense_6 (Dense)             (None, 1)                 129       \n",
            "                                                                 \n",
            "=================================================================\n",
            "Total params: 84,097\n",
            "Trainable params: 84,097\n",
            "Non-trainable params: 0\n",
            "_________________________________________________________________\n"
          ]
        }
      ],
      "source": [
        "# Print the model summary\n",
        "model.summary()"
      ]
    },
    {
      "cell_type": "code",
      "execution_count": 8,
      "metadata": {
        "id": "NiV1hMyK6rwQ"
      },
      "outputs": [],
      "source": [
        "# Compile the model\n",
        "\n",
        "model.compile(optimizer='adam', loss='mse', metrics=['mae'])"
      ]
    },
    {
      "cell_type": "code",
      "execution_count": 9,
      "metadata": {
        "id": "mzpa9jPJ6rwQ"
      },
      "outputs": [],
      "source": [
        "# Train the model, with some of the data reserved for validation\n",
        "\n",
        "history = model.fit(train_data, train_target, epochs=100, validation_split=0.15, batch_size=64, verbose=False)"
      ]
    },
    {
      "cell_type": "code",
      "execution_count": 10,
      "metadata": {
        "id": "Q_7XtJ0M6rwR",
        "outputId": "60a2e1b6-9460-4b27-d6ba-1afc0789f542",
        "colab": {
          "base_uri": "https://localhost:8080/"
        }
      },
      "outputs": [
        {
          "output_type": "stream",
          "name": "stdout",
          "text": [
            "2/2 - 0s - loss: 1.4854 - mae: 0.9345 - 17ms/epoch - 9ms/step\n"
          ]
        },
        {
          "output_type": "execute_result",
          "data": {
            "text/plain": [
              "[1.4854146242141724, 0.9345197081565857]"
            ]
          },
          "metadata": {},
          "execution_count": 10
        }
      ],
      "source": [
        "# Evaluate the model on the test set\n",
        "\n",
        "model.evaluate(test_data, test_target, verbose=2)"
      ]
    },
    {
      "cell_type": "markdown",
      "metadata": {
        "id": "3kth3Vpd6rwR"
      },
      "source": [
        "#### Plot the learning curves"
      ]
    },
    {
      "cell_type": "code",
      "execution_count": 11,
      "metadata": {
        "id": "3xPqAdmy6rwS"
      },
      "outputs": [],
      "source": [
        "import matplotlib.pyplot as plt\n",
        "%matplotlib inline"
      ]
    },
    {
      "cell_type": "code",
      "execution_count": 12,
      "metadata": {
        "id": "jNJG1ksI6rwS",
        "outputId": "972c8f2f-e4a0-4350-ca16-7ab41b2da7dc",
        "colab": {
          "base_uri": "https://localhost:8080/",
          "height": 295
        }
      },
      "outputs": [
        {
          "output_type": "display_data",
          "data": {
            "text/plain": [
              "<Figure size 432x288 with 1 Axes>"
            ],
            "image/png": "[encoded data removed]"
          },
          "metadata": {
            "needs_background": "light"
          }
        }
      ],
      "source": [
        "# Plot the training and validation loss\n",
        "\n",
        "plt.plot(history.history['loss'])\n",
        "plt.plot(history.history['val_loss'])\n",
        "plt.title('Loss vs. epochs')\n",
        "plt.ylabel('Loss')\n",
        "plt.xlabel('Epoch')\n",
        "plt.legend(['Training', 'Validation'], loc='upper right')\n",
        "plt.show()"
      ]
    },
    {
      "cell_type": "markdown",
      "metadata": {
        "id": "uCwNCmbY6rwS"
      },
      "source": [
        "***\n",
        "<a id=\"coding_tutorial_2\"></a>\n",
        "## Model regularisation"
      ]
    },
    {
      "cell_type": "markdown",
      "metadata": {
        "id": "2p6iUYhD6rwT"
      },
      "source": [
        "#### Adding regularisation with weight decay and dropout"
      ]
    },
    {
      "cell_type": "code",
      "execution_count": 13,
      "metadata": {
        "id": "PMXMUlfN6rwT"
      },
      "outputs": [],
      "source": [
        "from tensorflow.keras.layers import Dropout\n",
        "from tensorflow.keras import regularizers"
      ]
    },
    {
      "cell_type": "code",
      "execution_count": 14,
      "metadata": {
        "id": "yPx6qora6rwT"
      },
      "outputs": [],
      "source": [
        "def get_regularised_model(wd, rate):\n",
        "    model = Sequential([\n",
        "        Dense(128, kernel_regularizer=regularizers.l2(wd), activation=\"relu\", input_shape=(train_data.shape[1],)),\n",
        "        Dropout(rate),\n",
        "        Dense(128, kernel_regularizer=regularizers.l2(wd), activation=\"relu\"),\n",
        "        Dropout(rate),\n",
        "        Dense(128, kernel_regularizer=regularizers.l2(wd), activation=\"relu\"),\n",
        "        Dropout(rate),\n",
        "        Dense(128, kernel_regularizer=regularizers.l2(wd), activation=\"relu\"),\n",
        "        Dropout(rate),\n",
        "        Dense(128, kernel_regularizer=regularizers.l2(wd), activation=\"relu\"),\n",
        "        Dropout(rate),\n",
        "        Dense(128, kernel_regularizer=regularizers.l2(wd), activation=\"relu\"),\n",
        "        Dropout(rate),\n",
        "        Dense(1)\n",
        "    ])\n",
        "    return model"
      ]
    },
    {
      "cell_type": "code",
      "execution_count": 15,
      "metadata": {
        "id": "74VE5k8U6rwU"
      },
      "outputs": [],
      "source": [
        "# Re-build the model with weight decay and dropout layers\n",
        "\n",
        "model = get_regularised_model(1E-5, 0.3)"
      ]
    },
    {
      "cell_type": "code",
      "execution_count": 16,
      "metadata": {
        "id": "r8wHtZ366rwU"
      },
      "outputs": [],
      "source": [
        "# Compile the model\n",
        "\n",
        "model.compile(optimizer='adam', loss='mse', metrics=['mae'])"
      ]
    },
    {
      "cell_type": "code",
      "execution_count": 17,
      "metadata": {
        "id": "6CUqoZzw6rwU"
      },
      "outputs": [],
      "source": [
        "# Train the model, with some of the data reserved for validation\n",
        "\n",
        "history = model.fit(train_data, train_target, epochs=100, validation_split=0.15, batch_size=64, verbose=False)"
      ]
    },
    {
      "cell_type": "code",
      "execution_count": 18,
      "metadata": {
        "id": "8Lw2Pdms6rwV",
        "outputId": "1f0bf69a-74b6-4412-b88e-d2bbec86814a",
        "colab": {
          "base_uri": "https://localhost:8080/"
        }
      },
      "outputs": [
        {
          "output_type": "stream",
          "name": "stdout",
          "text": [
            "2/2 - 0s - loss: 0.8707 - mae: 0.7166 - 15ms/epoch - 8ms/step\n"
          ]
        },
        {
          "output_type": "execute_result",
          "data": {
            "text/plain": [
              "[0.8707431554794312, 0.7166360020637512]"
            ]
          },
          "metadata": {},
          "execution_count": 18
        }
      ],
      "source": [
        "# Evaluate the model on the test set\n",
        "\n",
        "model.evaluate(test_data, test_target, verbose=2)"
      ]
    },
    {
      "cell_type": "markdown",
      "metadata": {
        "id": "98KIXN726rwV"
      },
      "source": [
        "#### Plot the learning curves"
      ]
    },
    {
      "cell_type": "code",
      "execution_count": 19,
      "metadata": {
        "id": "vTLX5kOZ6rwV",
        "outputId": "006d0df3-44fd-4efb-960c-1dd8692872a1",
        "colab": {
          "base_uri": "https://localhost:8080/",
          "height": 295
        }
      },
      "outputs": [
        {
          "output_type": "display_data",
          "data": {
            "text/plain": [
              "<Figure size 432x288 with 1 Axes>"
            ],
            "image/png": "[encoded data removed]"
          },
          "metadata": {
            "needs_background": "light"
          }
        }
      ],
      "source": [
        "# Plot the training and validation loss\n",
        "\n",
        "import matplotlib.pyplot as plt\n",
        "\n",
        "plt.plot(history.history['loss'])\n",
        "plt.plot(history.history['val_loss'])\n",
        "plt.title('Loss vs. epochs')\n",
        "plt.ylabel('Loss')\n",
        "plt.xlabel('Epoch')\n",
        "plt.legend(['Training', 'Validation'], loc='upper right')\n",
        "plt.show()"
      ]
    },
    {
      "cell_type": "markdown",
      "metadata": {
        "id": "vDcAOKpp6rwW"
      },
      "source": [
        "***\n",
        "<a id=\"coding_tutorial_3\"></a>\n",
        "## Introduction to callbacks"
      ]
    },
    {
      "cell_type": "markdown",
      "metadata": {
        "id": "dEHZxqad6rwW"
      },
      "source": [
        "#### Example training callback"
      ]
    },
    {
      "cell_type": "code",
      "execution_count": 20,
      "metadata": {
        "id": "OwH6dI5g6rwW"
      },
      "outputs": [],
      "source": [
        "# Write a custom callback\n",
        "\n",
        "from tensorflow.keras.callbacks import Callback\n",
        "\n",
        "class TrainingCallback(Callback):\n",
        "\n",
        "  def on_train_begin(self, logs=None):\n",
        "    print(\"Training initialised!\")\n",
        "\n",
        "  def on_epoch_begin(self, epoch, logs=None):\n",
        "    print(f\"Starting epoch (epoch)\")\n",
        "\n",
        "  def on_train_batch_begin(self, batch, logs=None):\n",
        "    print(f\"Training: Starting batch (batch)\")\n",
        "\n",
        "  def on_train_batch_end(self, batch, logs=None):\n",
        "    print(f\"Training: Finished batch (batch)\")\n",
        "\n",
        "  def on_epoch_end(self, epoch, logs=None):\n",
        "    print(f\"Finished epoch (batch)\")\n",
        "\n",
        "  def on_train_end(self, logs=None):\n",
        "    print(\"Training completed!\")\n",
        "\n",
        "\n",
        "class TestingCallback(Callback):\n",
        "\n",
        "  def on_test_begin(self, logs=None):\n",
        "    print(\"Testing initialised!\")\n",
        "\n",
        "  def on_test_batch_begin(self, batch, logs=None):\n",
        "    print(f\"Testing: Starting batch (batch)\")\n",
        "\n",
        "  def on_test_batch_end(self, batch, logs=None):\n",
        "    print(f\"Testing: Finished batch (batch)\")\n",
        "\n",
        "  def on_test_end(self, logs=None):\n",
        "    print(\"Testing completed!\")\n",
        "\n",
        "\n",
        "class PredictionCallback(Callback):\n",
        "\n",
        "  def on_predict_begin(self, logs=None):\n",
        "    print(\"Prediction initialised!\")\n",
        "\n",
        "  def on_predict_batch_begin(self, batch, logs=None):\n",
        "    print(f\"Prediction: Starting batch (batch)\")\n",
        "\n",
        "  def on_predict_batch_end(self, batch, logs=None):\n",
        "    print(f\"Prediction: Finished batch (batch)\")\n",
        "\n",
        "  def on_predict_end(self, logs=None):\n",
        "    print(\"Prediction completed!\")\n"
      ]
    },
    {
      "cell_type": "code",
      "execution_count": 21,
      "metadata": {
        "id": "eHNbvs926rwW"
      },
      "outputs": [],
      "source": [
        "# Re-build the model\n",
        "\n",
        "model = get_regularised_model(1e-5, 0.3)"
      ]
    },
    {
      "cell_type": "code",
      "execution_count": 22,
      "metadata": {
        "id": "qhJESKV_6rwX"
      },
      "outputs": [],
      "source": [
        "# Compile the model\n",
        "\n",
        "model.compile(optimizer=\"adam\", loss=\"mse\")"
      ]
    },
    {
      "cell_type": "markdown",
      "metadata": {
        "id": "q_PRqOW76rwY"
      },
      "source": [
        "#### Train the model with the callback"
      ]
    },
    {
      "cell_type": "code",
      "execution_count": 23,
      "metadata": {
        "id": "hEM_mNSr6rwZ",
        "colab": {
          "base_uri": "https://localhost:8080/"
        },
        "outputId": "27a0eba6-698f-4687-8927-dd15b79ca4ca"
      },
      "outputs": [
        {
          "output_type": "stream",
          "name": "stdout",
          "text": [
            "Training initialised!\n",
            "Starting epoch (epoch)\n",
            "Epoch 1/3\n",
            "Training: Starting batch (batch)\n",
            "Training: Finished batch (batch)\n",
            "Training: Starting batch (batch)\n",
            "Training: Finished batch (batch)\n",
            "Training: Starting batch (batch)\n",
            "Training: Finished batch (batch)\n",
            "Training: Starting batch (batch)\n",
            "Training: Finished batch (batch)\n",
            "Finished epoch (batch)\n",
            "4/4 - 1s - loss: 0.9944 - 882ms/epoch - 221ms/step\n",
            "Starting epoch (epoch)\n",
            "Epoch 2/3\n",
            "Training: Starting batch (batch)\n",
            "Training: Finished batch (batch)\n",
            "Training: Starting batch (batch)\n",
            "Training: Finished batch (batch)\n",
            "Training: Starting batch (batch)\n",
            "Training: Finished batch (batch)\n",
            "Training: Starting batch (batch)\n",
            "Training: Finished batch (batch)\n",
            "Finished epoch (batch)\n",
            "4/4 - 0s - loss: 0.9840 - 29ms/epoch - 7ms/step\n",
            "Starting epoch (epoch)\n",
            "Epoch 3/3\n",
            "Training: Starting batch (batch)\n",
            "Training: Finished batch (batch)\n",
            "Training: Starting batch (batch)\n",
            "Training: Finished batch (batch)\n",
            "Training: Starting batch (batch)\n",
            "Training: Finished batch (batch)\n",
            "Training: Starting batch (batch)\n",
            "Training: Finished batch (batch)\n",
            "Finished epoch (batch)\n",
            "4/4 - 0s - loss: 0.9694 - 29ms/epoch - 7ms/step\n",
            "Training completed!\n"
          ]
        },
        {
          "output_type": "execute_result",
          "data": {
            "text/plain": [
              "<keras.callbacks.History at 0x7f17e5325710>"
            ]
          },
          "metadata": {},
          "execution_count": 23
        }
      ],
      "source": [
        "# Train the model, with some of the data reserved for validation\n",
        "\n",
        "model.fit(train_data, train_target, epochs=3, batch_size=120, verbose=2, callbacks=[TrainingCallback()])"
      ]
    },
    {
      "cell_type": "code",
      "execution_count": 24,
      "metadata": {
        "id": "ovT-Qgfs6rwZ",
        "colab": {
          "base_uri": "https://localhost:8080/"
        },
        "outputId": "b6c0074c-ac10-44b7-a783-f6c0d2096a33"
      },
      "outputs": [
        {
          "output_type": "stream",
          "name": "stdout",
          "text": [
            "Testing initialised!\n",
            "Testing: Starting batch (batch)\n",
            "Testing: Finished batch (batch)\n",
            "Testing: Starting batch (batch)\n",
            "Testing: Finished batch (batch)\n",
            "Testing completed!\n"
          ]
        },
        {
          "output_type": "execute_result",
          "data": {
            "text/plain": [
              "1.076389193534851"
            ]
          },
          "metadata": {},
          "execution_count": 24
        }
      ],
      "source": [
        "# Evaluate the model\n",
        "\n",
        "model.evaluate(test_data, test_target, verbose=False, callbacks=[TestingCallback()])"
      ]
    },
    {
      "cell_type": "code",
      "execution_count": 25,
      "metadata": {
        "id": "bLnmWdgT6rwa",
        "colab": {
          "base_uri": "https://localhost:8080/"
        },
        "outputId": "334563a9-ee00-4f02-8f76-4f030d9f377e"
      },
      "outputs": [
        {
          "output_type": "stream",
          "name": "stdout",
          "text": [
            "Prediction initialised!\n",
            "Prediction: Starting batch (batch)\n",
            "Prediction: Finished batch (batch)\n",
            "Prediction: Starting batch (batch)\n",
            "Prediction: Finished batch (batch)\n",
            "Prediction completed!\n"
          ]
        },
        {
          "output_type": "execute_result",
          "data": {
            "text/plain": [
              "array([[ 0.04892818],\n",
              "       [-0.00110768],\n",
              "       [-0.00195843],\n",
              "       [-0.02008077],\n",
              "       [ 0.01095616],\n",
              "       [-0.00409248],\n",
              "       [-0.0067094 ],\n",
              "       [ 0.04173809],\n",
              "       [ 0.07692924],\n",
              "       [ 0.02517956],\n",
              "       [ 0.06174462],\n",
              "       [ 0.03131869],\n",
              "       [-0.01993974],\n",
              "       [-0.01979409],\n",
              "       [ 0.018322  ],\n",
              "       [ 0.08052234],\n",
              "       [ 0.06971043],\n",
              "       [ 0.06612371],\n",
              "       [ 0.04072603],\n",
              "       [ 0.0929784 ],\n",
              "       [ 0.02089716],\n",
              "       [ 0.06731771],\n",
              "       [ 0.02274294],\n",
              "       [ 0.1055041 ],\n",
              "       [ 0.15256163],\n",
              "       [ 0.04916902],\n",
              "       [ 0.0570517 ],\n",
              "       [ 0.09437625],\n",
              "       [ 0.10185178],\n",
              "       [ 0.01460914],\n",
              "       [ 0.01140788],\n",
              "       [ 0.0415195 ],\n",
              "       [ 0.09546951],\n",
              "       [ 0.03699153],\n",
              "       [ 0.03432007],\n",
              "       [ 0.08586342],\n",
              "       [-0.00606172],\n",
              "       [-0.00683823],\n",
              "       [-0.01717251],\n",
              "       [ 0.03412352],\n",
              "       [ 0.02457254],\n",
              "       [ 0.11938723],\n",
              "       [ 0.0863954 ],\n",
              "       [ 0.12503542],\n",
              "       [ 0.1420163 ]], dtype=float32)"
            ]
          },
          "metadata": {},
          "execution_count": 25
        }
      ],
      "source": [
        "# Make predictions with the model\n",
        "\n",
        "model.predict(test_data, verbose=False, callbacks=[PredictionCallback()])"
      ]
    },
    {
      "cell_type": "markdown",
      "metadata": {
        "id": "P9nNY_VB6rwa"
      },
      "source": [
        "***\n",
        "<a id=\"coding_tutorial_4\"></a>\n",
        "## Early stopping / patience"
      ]
    },
    {
      "cell_type": "markdown",
      "metadata": {
        "id": "75_syXgH6rwa"
      },
      "source": [
        "#### Re-train the models with early stopping"
      ]
    },
    {
      "cell_type": "code",
      "execution_count": 33,
      "metadata": {
        "id": "x4tR4Kuj6rwa"
      },
      "outputs": [],
      "source": [
        "# Re-train the unregularised model\n",
        "\n",
        "unregularized_model = get_model(train_data)\n",
        "unregularized_model.compile(optimizer='adam', loss='mae')\n",
        "unreg_history = unregularized_model.fit(train_data, train_target, epochs=100,\n",
        "                                        validation_split=0.15, batch_size=64, verbose=False,\n",
        "                                        callbacks=[tf.keras.callbacks.EarlyStopping(patience=10)])"
      ]
    },
    {
      "cell_type": "code",
      "execution_count": 34,
      "metadata": {
        "id": "jiSo5HhO6rwb",
        "outputId": "fb185034-d32a-44ca-da72-1a0ae1fa93e2",
        "colab": {
          "base_uri": "https://localhost:8080/"
        }
      },
      "outputs": [
        {
          "output_type": "stream",
          "name": "stdout",
          "text": [
            "2/2 - 0s - loss: 0.6837 - 16ms/epoch - 8ms/step\n"
          ]
        },
        {
          "output_type": "execute_result",
          "data": {
            "text/plain": [
              "0.6836777329444885"
            ]
          },
          "metadata": {},
          "execution_count": 34
        }
      ],
      "source": [
        "# Evaluate the model on the test set\n",
        "\n",
        "unregularized_model.evaluate(test_data, test_target, verbose=2)"
      ]
    },
    {
      "cell_type": "code",
      "execution_count": 35,
      "metadata": {
        "id": "C09fgQAP6rwb"
      },
      "outputs": [],
      "source": [
        "# Re-train the regularised model\n",
        "\n",
        "regularized_model = get_regularised_model(1E-8, 0.2)\n",
        "regularized_model.compile(optimizer='adam', loss='mae')\n",
        "reg_history = regularized_model.fit(train_data, train_target, epochs=100,\n",
        "                                        validation_split=0.15, batch_size=64, verbose=False,\n",
        "                                        callbacks=[tf.keras.callbacks.EarlyStopping(patience=10)])"
      ]
    },
    {
      "cell_type": "code",
      "execution_count": 36,
      "metadata": {
        "id": "gi8bepRb6rwc",
        "outputId": "42667102-4cef-42e6-9faa-d4f44c785c66",
        "colab": {
          "base_uri": "https://localhost:8080/"
        }
      },
      "outputs": [
        {
          "output_type": "stream",
          "name": "stdout",
          "text": [
            "2/2 - 0s - loss: 0.6828 - 17ms/epoch - 8ms/step\n"
          ]
        },
        {
          "output_type": "execute_result",
          "data": {
            "text/plain": [
              "0.6827777624130249"
            ]
          },
          "metadata": {},
          "execution_count": 36
        }
      ],
      "source": [
        "# Evaluate the model on the test set\n",
        "\n",
        "regularized_model.evaluate(test_data, test_target, verbose=2)"
      ]
    },
    {
      "cell_type": "markdown",
      "metadata": {
        "id": "x_J87Vb76rwc"
      },
      "source": [
        "#### Plot the learning curves"
      ]
    },
    {
      "cell_type": "code",
      "execution_count": 37,
      "metadata": {
        "id": "iZfX2SJL6rwc",
        "outputId": "b29d45f9-ce15-4ff9-e6bc-0ff64b90e05c",
        "colab": {
          "base_uri": "https://localhost:8080/",
          "height": 350
        }
      },
      "outputs": [
        {
          "output_type": "display_data",
          "data": {
            "text/plain": [
              "<Figure size 864x360 with 2 Axes>"
            ],
            "image/png": "[encoded data removed]"
          },
          "metadata": {
            "needs_background": "light"
          }
        }
      ],
      "source": [
        "# Plot the training and validation loss\n",
        "\n",
        "import matplotlib.pyplot as plt\n",
        "\n",
        "fig = plt.figure(figsize=(12, 5))\n",
        "\n",
        "fig.add_subplot(121)\n",
        "\n",
        "plt.plot(unreg_history.history['loss'])\n",
        "plt.plot(unreg_history.history['val_loss'])\n",
        "plt.title('Unregularised model: loss vs. epochs')\n",
        "plt.ylabel('Loss')\n",
        "plt.xlabel('Epoch')\n",
        "plt.legend(['Training', 'Validation'], loc='upper right')\n",
        "\n",
        "fig.add_subplot(122)\n",
        "\n",
        "plt.plot(reg_history.history['loss'])\n",
        "plt.plot(reg_history.history['val_loss'])\n",
        "plt.title('Regularised model: loss vs. epochs')\n",
        "plt.ylabel('Loss')\n",
        "plt.xlabel('Epoch')\n",
        "plt.legend(['Training', 'Validation'], loc='upper right')\n",
        "\n",
        "plt.show()"
      ]
    }
  ],
  "metadata": {
    "kernelspec": {
      "display_name": "Python 3",
      "language": "python",
      "name": "python3"
    },
    "language_info": {
      "codemirror_mode": {
        "name": "ipython",
        "version": 3
      },
      "file_extension": ".py",
      "mimetype": "text/x-python",
      "name": "python",
      "nbconvert_exporter": "python",
      "pygments_lexer": "ipython3",
      "version": "3.7.1"
    },
    "colab": {
      "provenance": [],
      "include_colab_link": true
    }
  },
  "nbformat": 4,
  "nbformat_minor": 0
}