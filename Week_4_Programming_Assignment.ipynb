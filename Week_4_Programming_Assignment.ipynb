{
  "cells": [
    {
      "cell_type": "markdown",
      "metadata": {
        "id": "view-in-github",
        "colab_type": "text"
      },
      "source": [
        "<a href=\"https://colab.research.google.com/github/dominikwernerwolf/coursera/blob/main/Week_4_Programming_Assignment.ipynb\" target=\"_parent\"><img src=\"https://colab.research.google.com/assets/colab-badge.svg\" alt=\"Open In Colab\"/></a>"
      ]
    },
    {
      "cell_type": "markdown",
      "metadata": {
        "id": "q8iA6RnyfT1a"
      },
      "source": [
        "# Programming Assignment\n",
        "\n",
        "## Saving and loading models, with application to the EuroSat dataset\n",
        "\n",
        "### Instructions\n",
        "\n",
        "In this notebook, you will create a neural network that classifies land uses and land covers from satellite imagery. You will save your model using Tensorflow's callbacks and reload it later. You will also load in a pre-trained neural network classifier and compare performance with it. \n",
        "\n",
        "Some code cells are provided for you in the notebook. You should avoid editing provided code, and make sure to execute the cells in order to avoid unexpected errors. Some cells begin with the line: \n",
        "\n",
        "`#### GRADED CELL ####`\n",
        "\n",
        "Don't move or edit this first line - this is what the automatic grader looks for to recognise graded cells. These cells require you to write your own code to complete them, and are automatically graded when you submit the notebook. Don't edit the function name or signature provided in these cells, otherwise the automatic grader might not function properly. Inside these graded cells, you can use any functions or classes that are imported below, but make sure you don't use any variables that are outside the scope of the function.\n",
        "\n",
        "### How to submit\n",
        "\n",
        "Complete all the tasks you are asked for in the worksheet. When you have finished and are happy with your code, press the **Submit Assignment** button at the top of this notebook.\n",
        "\n",
        "### Let's get started!\n",
        "\n",
        "We'll start running some imports, and loading the dataset. Do not edit the existing imports in the following cell. If you would like to make further Tensorflow imports, you should add them here."
      ]
    },
    {
      "cell_type": "code",
      "execution_count": null,
      "metadata": {
        "id": "ZUJrXWHjfT1g"
      },
      "outputs": [],
      "source": [
        "#### PACKAGE IMPORTS ####\n",
        "\n",
        "# Run this cell first to import all required packages. Do not make any imports elsewhere in the notebook\n",
        "\n",
        "import tensorflow as tf\n",
        "from tensorflow.keras.preprocessing.image import load_img, img_to_array\n",
        "from tensorflow.keras.models import Sequential, load_model\n",
        "from tensorflow.keras.layers import Dense, Flatten, Conv2D, MaxPooling2D\n",
        "from tensorflow.keras.callbacks import ModelCheckpoint, EarlyStopping\n",
        "import os\n",
        "import numpy as np\n",
        "import pandas as pd\n",
        "\n",
        "# If you would like to make further imports from tensorflow, add them here\n",
        "\n"
      ]
    },
    {
      "cell_type": "markdown",
      "metadata": {
        "id": "jpJDsa8-fT2T"
      },
      "source": [
        "![EuroSAT overview image](data/eurosat_overview.jpg)\n",
        "\n",
        "#### The EuroSAT dataset\n",
        "\n",
        "In this assignment, you will use the [EuroSAT dataset](https://github.com/phelber/EuroSAT). It consists of 27000 labelled Sentinel-2 satellite images of different land uses: residential, industrial, highway, river, forest, pasture, herbaceous vegetation, annual crop, permanent crop and sea/lake. For a reference, see the following papers:\n",
        "- Eurosat: A novel dataset and deep learning benchmark for land use and land cover classification. Patrick Helber, Benjamin Bischke, Andreas Dengel, Damian Borth. IEEE Journal of Selected Topics in Applied Earth Observations and Remote Sensing, 2019.\n",
        "- Introducing EuroSAT: A Novel Dataset and Deep Learning Benchmark for Land Use and Land Cover Classification. Patrick Helber, Benjamin Bischke, Andreas Dengel. 2018 IEEE International Geoscience and Remote Sensing Symposium, 2018.\n",
        "\n",
        "Your goal is to construct a neural network that classifies a satellite image into one of these 10 classes, as well as applying some of the saving and loading techniques you have learned in the previous sessions."
      ]
    },
    {
      "cell_type": "markdown",
      "metadata": {
        "id": "5qAyHhv7fT2U"
      },
      "source": [
        "#### Import the data\n",
        "\n",
        "The dataset you will train your model on is a subset of the total data, with 4000 training images and 1000 testing images, with roughly equal numbers of each class. The code to import the data is provided below."
      ]
    },
    {
      "cell_type": "code",
      "execution_count": null,
      "metadata": {
        "id": "8KJs61vqfT2V"
      },
      "outputs": [],
      "source": [
        "# Run this cell to import the Eurosat data\n",
        "\n",
        "def load_eurosat_data():\n",
        "    data_dir = 'data/'\n",
        "    x_train = np.load(os.path.join(data_dir, 'x_train.npy'))\n",
        "    y_train = np.load(os.path.join(data_dir, 'y_train.npy'))\n",
        "    x_test  = np.load(os.path.join(data_dir, 'x_test.npy'))\n",
        "    y_test  = np.load(os.path.join(data_dir, 'y_test.npy'))\n",
        "    return (x_train, y_train), (x_test, y_test)\n",
        "\n",
        "(x_train, y_train), (x_test, y_test) = load_eurosat_data()\n",
        "x_train = x_train / 255.0\n",
        "x_test = x_test / 255.0"
      ]
    },
    {
      "cell_type": "markdown",
      "metadata": {
        "id": "ULDQ2M9UfT2V"
      },
      "source": [
        "#### Build the neural network model"
      ]
    },
    {
      "cell_type": "markdown",
      "metadata": {
        "id": "D4evuTKNfT2W"
      },
      "source": [
        "You can now construct a model to fit to the data. Using the Sequential API, build your model according to the following specifications:\n",
        "\n",
        "* The model should use the input_shape in the function argument to set the input size in the first layer.\n",
        "* The first layer should be a Conv2D layer with 16 filters, a 3x3 kernel size, a ReLU activation function and 'SAME' padding. Name this layer 'conv_1'.\n",
        "* The second layer should also be a Conv2D layer with 8 filters, a 3x3 kernel size, a ReLU activation function and 'SAME' padding. Name this layer 'conv_2'.\n",
        "* The third layer should be a MaxPooling2D layer with a pooling window size of 8x8. Name this layer 'pool_1'.\n",
        "* The fourth layer should be a Flatten layer, named 'flatten'.\n",
        "* The fifth layer should be a Dense layer with 32 units, a ReLU activation. Name this layer 'dense_1'.\n",
        "* The sixth and final layer should be a Dense layer with 10 units and softmax activation. Name this layer 'dense_2'.\n",
        "\n",
        "In total, the network should have 6 layers."
      ]
    },
    {
      "cell_type": "code",
      "execution_count": null,
      "metadata": {
        "id": "COoCqRKDfT2W"
      },
      "outputs": [],
      "source": [
        "#### GRADED CELL ####\n",
        "\n",
        "# Complete the following function. \n",
        "# Make sure to not change the function name or arguments.\n",
        "\n",
        "def get_new_model(input_shape):\n",
        "    model = Sequential([\n",
        "        Conv2D(filters=16, input_shape=input_shape, kernel_size=(3, 3), \n",
        "               activation='relu', padding='same', name='conv_1'),\n",
        "        Conv2D(filters=8, kernel_size=(3, 3), activation='relu', padding='same', name='conv_2'),\n",
        "        MaxPooling2D(pool_size=(8, 8), name='pool_1'),\n",
        "        Flatten(name='flatten'),\n",
        "        Dense(units=32, activation='relu', name='dense_1'),\n",
        "        Dense(units=10, activation='softmax', name='dense_2')\n",
        "    ])\n",
        "    model.compile(optimizer='adam',\n",
        "                  loss='sparse_categorical_crossentropy',\n",
        "                  metrics=['accuracy'])\n",
        "    return model\n",
        "    "
      ]
    },
    {
      "cell_type": "markdown",
      "metadata": {
        "id": "EYujpHKgfT2X"
      },
      "source": [
        "#### Compile and evaluate the model"
      ]
    },
    {
      "cell_type": "code",
      "execution_count": null,
      "metadata": {
        "id": "4vCXa9vtfT2X",
        "outputId": "2726c77d-339b-4258-adfd-da8ad9fda5cd"
      },
      "outputs": [
        {
          "name": "stdout",
          "output_type": "stream",
          "text": [
            "(64, 64, 3)\n"
          ]
        }
      ],
      "source": [
        "# Run your function to create the model\n",
        "print(x_train[0].shape)\n",
        "model = get_new_model(x_train[0].shape)"
      ]
    },
    {
      "cell_type": "code",
      "execution_count": null,
      "metadata": {
        "id": "X3V7ijjsfT2Y"
      },
      "outputs": [],
      "source": [
        "# Run this cell to define a function to evaluate a model's test accuracy\n",
        "\n",
        "def get_test_accuracy(model, x_test, y_test):\n",
        "    \"\"\"Test model classification accuracy\"\"\"\n",
        "    test_loss, test_acc = model.evaluate(x=x_test, y=y_test, verbose=0)\n",
        "    print('accuracy: {acc:0.3f}'.format(acc=test_acc))"
      ]
    },
    {
      "cell_type": "code",
      "execution_count": null,
      "metadata": {
        "id": "hskFFcJPfT2Z",
        "outputId": "d54c070d-0ec4-40b6-eff0-abcb330c3304"
      },
      "outputs": [
        {
          "name": "stdout",
          "output_type": "stream",
          "text": [
            "Model: \"sequential_3\"\n",
            "_________________________________________________________________\n",
            "Layer (type)                 Output Shape              Param #   \n",
            "=================================================================\n",
            "conv_1 (Conv2D)              (None, 64, 64, 16)        448       \n",
            "_________________________________________________________________\n",
            "conv_2 (Conv2D)              (None, 64, 64, 8)         1160      \n",
            "_________________________________________________________________\n",
            "pool_1 (MaxPooling2D)        (None, 8, 8, 8)           0         \n",
            "_________________________________________________________________\n",
            "flatten (Flatten)            (None, 512)               0         \n",
            "_________________________________________________________________\n",
            "dense_1 (Dense)              (None, 32)                16416     \n",
            "_________________________________________________________________\n",
            "dense_2 (Dense)              (None, 10)                330       \n",
            "=================================================================\n",
            "Total params: 18,354\n",
            "Trainable params: 18,354\n",
            "Non-trainable params: 0\n",
            "_________________________________________________________________\n",
            "accuracy: 0.098\n"
          ]
        }
      ],
      "source": [
        "# Print the model summary and calculate its initialised test accuracy\n",
        "\n",
        "model.summary()\n",
        "get_test_accuracy(model, x_test, y_test)"
      ]
    },
    {
      "cell_type": "markdown",
      "metadata": {
        "id": "XHW4wGVrfT2Z"
      },
      "source": [
        "#### Create checkpoints to save model during training, with a criterion\n",
        "\n",
        "You will now create three callbacks:\n",
        "- `checkpoint_every_epoch`: checkpoint that saves the model weights every epoch during training\n",
        "- `checkpoint_best_only`: checkpoint that saves only the weights with the highest validation accuracy. Use the testing data as the validation data.\n",
        "- `early_stopping`: early stopping object that ends training if the validation accuracy has not improved in 3 epochs."
      ]
    },
    {
      "cell_type": "code",
      "execution_count": null,
      "metadata": {
        "id": "39egPYdefT2a"
      },
      "outputs": [],
      "source": [
        "#### GRADED CELL ####\n",
        "\n",
        "# Complete the following functions. \n",
        "# Make sure to not change the function names or arguments.\n",
        "\n",
        "def get_checkpoint_every_epoch():\n",
        "    checkpoint_path = 'checkpoints_every_epoch/checkpoint_{epoch:03d}'\n",
        "    checkpoint = ModelCheckpoint(filepath=checkpoint_path,\n",
        "                             frequency='epoch',\n",
        "                             save_weights_only=True,\n",
        "                             verbose=1)\n",
        "    return checkpoint\n",
        "\n",
        "\n",
        "def get_checkpoint_best_only():\n",
        "    checkpoint_best_path = 'checkpoints_best_only/checkpoint'\n",
        "    checkpoint_best = ModelCheckpoint(filepath=checkpoint_best_path,\n",
        "                                  save_weights_only=True,\n",
        "                                  save_freq='epoch',\n",
        "                                  monitor='val_accuracy',\n",
        "                                  save_best_only=True,\n",
        "                                  verbose=1)\n",
        "    return checkpoint_best\n",
        "    "
      ]
    },
    {
      "cell_type": "code",
      "execution_count": null,
      "metadata": {
        "id": "26BQdVyPfT2a"
      },
      "outputs": [],
      "source": [
        "#### GRADED CELL ####\n",
        "\n",
        "# Complete the following function. \n",
        "# Make sure to not change the function name or arguments.\n",
        "\n",
        "def get_early_stopping():\n",
        "    return tf.keras.callbacks.EarlyStopping(monitor='val_accuracy', patience=3)\n",
        "    "
      ]
    },
    {
      "cell_type": "code",
      "execution_count": null,
      "metadata": {
        "id": "yqdcuGXofT2b"
      },
      "outputs": [],
      "source": [
        "# Run this cell to create the callbacks\n",
        "\n",
        "checkpoint_every_epoch = get_checkpoint_every_epoch()\n",
        "checkpoint_best_only = get_checkpoint_best_only()\n",
        "early_stopping = get_early_stopping()"
      ]
    },
    {
      "cell_type": "markdown",
      "metadata": {
        "id": "VyEqsiSvfT2c"
      },
      "source": [
        "#### Train model using the callbacks\n",
        "\n",
        "Now, you will train the model using the three callbacks you created. If you created the callbacks correctly, three things should happen:\n",
        "- At the end of every epoch, the model weights are saved into a directory called `checkpoints_every_epoch`\n",
        "- At the end of every epoch, the model weights are saved into a directory called `checkpoints_best_only` **only** if those weights lead to the highest test accuracy\n",
        "- Training stops when the testing accuracy has not improved in three epochs.\n",
        "\n",
        "You should then have two directories:\n",
        "- A directory called `checkpoints_every_epoch` containing filenames that include `checkpoint_001`, `checkpoint_002`, etc with the `001`, `002` corresponding to the epoch\n",
        "- A directory called `checkpoints_best_only` containing filenames that include `checkpoint`, which contain only the weights leading to the highest testing accuracy"
      ]
    },
    {
      "cell_type": "code",
      "execution_count": null,
      "metadata": {
        "id": "1iP6CBLCfT2c",
        "outputId": "bbe5c735-c1af-429c-b85b-ec910d48e5bc"
      },
      "outputs": [
        {
          "name": "stdout",
          "output_type": "stream",
          "text": [
            "Train on 4000 samples, validate on 1000 samples\n",
            "Epoch 1/50\n",
            "3968/4000 [============================>.] - ETA: 0s - loss: 2.0393 - accuracy: 0.2429\n",
            "Epoch 00001: saving model to checkpoints_every_epoch/checkpoint_001\n",
            "\n",
            "Epoch 00001: val_accuracy improved from -inf to 0.38100, saving model to checkpoints_best_only/checkpoint\n",
            "4000/4000 [==============================] - 86s 22ms/sample - loss: 2.0351 - accuracy: 0.2447 - val_loss: 1.6255 - val_accuracy: 0.3810\n",
            "Epoch 2/50\n",
            "3968/4000 [============================>.] - ETA: 0s - loss: 1.5127 - accuracy: 0.4259\n",
            "Epoch 00002: saving model to checkpoints_every_epoch/checkpoint_002\n",
            "\n",
            "Epoch 00002: val_accuracy improved from 0.38100 to 0.45700, saving model to checkpoints_best_only/checkpoint\n",
            "4000/4000 [==============================] - 87s 22ms/sample - loss: 1.5111 - accuracy: 0.4265 - val_loss: 1.4166 - val_accuracy: 0.4570\n",
            "Epoch 3/50\n",
            "3968/4000 [============================>.] - ETA: 0s - loss: 1.3445 - accuracy: 0.4680\n",
            "Epoch 00003: saving model to checkpoints_every_epoch/checkpoint_003\n",
            "\n",
            "Epoch 00003: val_accuracy did not improve from 0.45700\n",
            "4000/4000 [==============================] - 85s 21ms/sample - loss: 1.3437 - accuracy: 0.4692 - val_loss: 1.3231 - val_accuracy: 0.4510\n",
            "Epoch 4/50\n",
            "3968/4000 [============================>.] - ETA: 0s - loss: 1.2840 - accuracy: 0.4990\n",
            "Epoch 00004: saving model to checkpoints_every_epoch/checkpoint_004\n",
            "\n",
            "Epoch 00004: val_accuracy improved from 0.45700 to 0.49000, saving model to checkpoints_best_only/checkpoint\n",
            "4000/4000 [==============================] - 87s 22ms/sample - loss: 1.2846 - accuracy: 0.4983 - val_loss: 1.3485 - val_accuracy: 0.4900\n",
            "Epoch 5/50\n",
            "3968/4000 [============================>.] - ETA: 0s - loss: 1.2254 - accuracy: 0.5330\n",
            "Epoch 00005: saving model to checkpoints_every_epoch/checkpoint_005\n",
            "\n",
            "Epoch 00005: val_accuracy improved from 0.49000 to 0.53600, saving model to checkpoints_best_only/checkpoint\n",
            "4000/4000 [==============================] - 87s 22ms/sample - loss: 1.2258 - accuracy: 0.5332 - val_loss: 1.2493 - val_accuracy: 0.5360\n",
            "Epoch 6/50\n",
            "3968/4000 [============================>.] - ETA: 0s - loss: 1.1816 - accuracy: 0.5622\n",
            "Epoch 00006: saving model to checkpoints_every_epoch/checkpoint_006\n",
            "\n",
            "Epoch 00006: val_accuracy improved from 0.53600 to 0.56500, saving model to checkpoints_best_only/checkpoint\n",
            "4000/4000 [==============================] - 85s 21ms/sample - loss: 1.1804 - accuracy: 0.5633 - val_loss: 1.1998 - val_accuracy: 0.5650\n",
            "Epoch 7/50\n",
            "3968/4000 [============================>.] - ETA: 0s - loss: 1.1645 - accuracy: 0.5701\n",
            "Epoch 00007: saving model to checkpoints_every_epoch/checkpoint_007\n",
            "\n",
            "Epoch 00007: val_accuracy did not improve from 0.56500\n",
            "4000/4000 [==============================] - 86s 21ms/sample - loss: 1.1652 - accuracy: 0.5688 - val_loss: 1.3273 - val_accuracy: 0.4880\n",
            "Epoch 8/50\n",
            "3968/4000 [============================>.] - ETA: 0s - loss: 1.1300 - accuracy: 0.5799\n",
            "Epoch 00008: saving model to checkpoints_every_epoch/checkpoint_008\n",
            "\n",
            "Epoch 00008: val_accuracy improved from 0.56500 to 0.57200, saving model to checkpoints_best_only/checkpoint\n",
            "4000/4000 [==============================] - 83s 21ms/sample - loss: 1.1323 - accuracy: 0.5795 - val_loss: 1.1323 - val_accuracy: 0.5720\n",
            "Epoch 9/50\n",
            "3968/4000 [============================>.] - ETA: 0s - loss: 1.0851 - accuracy: 0.6031\n",
            "Epoch 00009: saving model to checkpoints_every_epoch/checkpoint_009\n",
            "\n",
            "Epoch 00009: val_accuracy did not improve from 0.57200\n",
            "4000/4000 [==============================] - 84s 21ms/sample - loss: 1.0856 - accuracy: 0.6033 - val_loss: 1.1275 - val_accuracy: 0.5660\n",
            "Epoch 10/50\n",
            "3968/4000 [============================>.] - ETA: 0s - loss: 1.0572 - accuracy: 0.6028\n",
            "Epoch 00010: saving model to checkpoints_every_epoch/checkpoint_010\n",
            "\n",
            "Epoch 00010: val_accuracy improved from 0.57200 to 0.58800, saving model to checkpoints_best_only/checkpoint\n",
            "4000/4000 [==============================] - 84s 21ms/sample - loss: 1.0568 - accuracy: 0.6033 - val_loss: 1.0935 - val_accuracy: 0.5880\n",
            "Epoch 11/50\n",
            "3968/4000 [============================>.] - ETA: 0s - loss: 1.0203 - accuracy: 0.6285\n",
            "Epoch 00011: saving model to checkpoints_every_epoch/checkpoint_011\n",
            "\n",
            "Epoch 00011: val_accuracy did not improve from 0.58800\n",
            "4000/4000 [==============================] - 86s 22ms/sample - loss: 1.0187 - accuracy: 0.6292 - val_loss: 1.1056 - val_accuracy: 0.5710\n",
            "Epoch 12/50\n",
            "3968/4000 [============================>.] - ETA: 0s - loss: 0.9880 - accuracy: 0.6436\n",
            "Epoch 00012: saving model to checkpoints_every_epoch/checkpoint_012\n",
            "\n",
            "Epoch 00012: val_accuracy improved from 0.58800 to 0.59400, saving model to checkpoints_best_only/checkpoint\n",
            "4000/4000 [==============================] - 85s 21ms/sample - loss: 0.9887 - accuracy: 0.6438 - val_loss: 1.0840 - val_accuracy: 0.5940\n",
            "Epoch 13/50\n",
            "3968/4000 [============================>.] - ETA: 0s - loss: 0.9776 - accuracy: 0.6406\n",
            "Epoch 00013: saving model to checkpoints_every_epoch/checkpoint_013\n",
            "\n",
            "Epoch 00013: val_accuracy did not improve from 0.59400\n",
            "4000/4000 [==============================] - 87s 22ms/sample - loss: 0.9765 - accuracy: 0.6410 - val_loss: 1.1233 - val_accuracy: 0.5830\n",
            "Epoch 14/50\n",
            "3968/4000 [============================>.] - ETA: 0s - loss: 0.9616 - accuracy: 0.6477\n",
            "Epoch 00014: saving model to checkpoints_every_epoch/checkpoint_014\n",
            "\n",
            "Epoch 00014: val_accuracy did not improve from 0.59400\n",
            "4000/4000 [==============================] - 86s 21ms/sample - loss: 0.9624 - accuracy: 0.6470 - val_loss: 1.1576 - val_accuracy: 0.5870\n",
            "Epoch 15/50\n",
            "3968/4000 [============================>.] - ETA: 0s - loss: 0.9502 - accuracy: 0.6499\n",
            "Epoch 00015: saving model to checkpoints_every_epoch/checkpoint_015\n",
            "\n",
            "Epoch 00015: val_accuracy improved from 0.59400 to 0.64500, saving model to checkpoints_best_only/checkpoint\n",
            "4000/4000 [==============================] - 84s 21ms/sample - loss: 0.9503 - accuracy: 0.6503 - val_loss: 0.9662 - val_accuracy: 0.6450\n",
            "Epoch 16/50\n",
            "3968/4000 [============================>.] - ETA: 0s - loss: 0.8971 - accuracy: 0.6719\n",
            "Epoch 00016: saving model to checkpoints_every_epoch/checkpoint_016\n",
            "\n",
            "Epoch 00016: val_accuracy improved from 0.64500 to 0.65100, saving model to checkpoints_best_only/checkpoint\n",
            "4000/4000 [==============================] - 86s 22ms/sample - loss: 0.8989 - accuracy: 0.6710 - val_loss: 0.9577 - val_accuracy: 0.6510\n",
            "Epoch 17/50\n",
            "3968/4000 [============================>.] - ETA: 0s - loss: 0.8803 - accuracy: 0.6804\n",
            "Epoch 00017: saving model to checkpoints_every_epoch/checkpoint_017\n",
            "\n",
            "Epoch 00017: val_accuracy did not improve from 0.65100\n",
            "4000/4000 [==============================] - 85s 21ms/sample - loss: 0.8811 - accuracy: 0.6805 - val_loss: 1.0212 - val_accuracy: 0.6370\n",
            "Epoch 18/50\n",
            "3968/4000 [============================>.] - ETA: 0s - loss: 0.8562 - accuracy: 0.6930\n",
            "Epoch 00018: saving model to checkpoints_every_epoch/checkpoint_018\n",
            "\n",
            "Epoch 00018: val_accuracy improved from 0.65100 to 0.65400, saving model to checkpoints_best_only/checkpoint\n",
            "4000/4000 [==============================] - 85s 21ms/sample - loss: 0.8561 - accuracy: 0.6930 - val_loss: 0.9190 - val_accuracy: 0.6540\n",
            "Epoch 19/50\n",
            "3968/4000 [============================>.] - ETA: 0s - loss: 0.8297 - accuracy: 0.6966\n",
            "Epoch 00019: saving model to checkpoints_every_epoch/checkpoint_019\n",
            "\n",
            "Epoch 00019: val_accuracy did not improve from 0.65400\n",
            "4000/4000 [==============================] - 83s 21ms/sample - loss: 0.8307 - accuracy: 0.6957 - val_loss: 0.9600 - val_accuracy: 0.6400\n",
            "Epoch 20/50\n",
            "3968/4000 [============================>.] - ETA: 0s - loss: 0.8142 - accuracy: 0.7056\n",
            "Epoch 00020: saving model to checkpoints_every_epoch/checkpoint_020\n",
            "\n",
            "Epoch 00020: val_accuracy improved from 0.65400 to 0.68400, saving model to checkpoints_best_only/checkpoint\n",
            "4000/4000 [==============================] - 84s 21ms/sample - loss: 0.8141 - accuracy: 0.7057 - val_loss: 0.8590 - val_accuracy: 0.6840\n",
            "Epoch 21/50\n",
            "3968/4000 [============================>.] - ETA: 0s - loss: 0.7801 - accuracy: 0.7238\n",
            "Epoch 00021: saving model to checkpoints_every_epoch/checkpoint_021\n",
            "\n",
            "Epoch 00021: val_accuracy improved from 0.68400 to 0.69000, saving model to checkpoints_best_only/checkpoint\n",
            "4000/4000 [==============================] - 84s 21ms/sample - loss: 0.7806 - accuracy: 0.7228 - val_loss: 0.8639 - val_accuracy: 0.6900\n",
            "Epoch 22/50\n",
            "3968/4000 [============================>.] - ETA: 0s - loss: 0.7705 - accuracy: 0.7185\n",
            "Epoch 00022: saving model to checkpoints_every_epoch/checkpoint_022\n",
            "\n",
            "Epoch 00022: val_accuracy did not improve from 0.69000\n",
            "4000/4000 [==============================] - 87s 22ms/sample - loss: 0.7695 - accuracy: 0.7188 - val_loss: 0.8672 - val_accuracy: 0.6840\n",
            "Epoch 23/50\n",
            "3968/4000 [============================>.] - ETA: 0s - loss: 0.7455 - accuracy: 0.7303\n",
            "Epoch 00023: saving model to checkpoints_every_epoch/checkpoint_023\n",
            "\n",
            "Epoch 00023: val_accuracy improved from 0.69000 to 0.69100, saving model to checkpoints_best_only/checkpoint\n",
            "4000/4000 [==============================] - 87s 22ms/sample - loss: 0.7443 - accuracy: 0.7312 - val_loss: 0.8317 - val_accuracy: 0.6910\n",
            "Epoch 24/50\n",
            "3968/4000 [============================>.] - ETA: 0s - loss: 0.7402 - accuracy: 0.7314\n",
            "Epoch 00024: saving model to checkpoints_every_epoch/checkpoint_024\n",
            "\n",
            "Epoch 00024: val_accuracy improved from 0.69100 to 0.69200, saving model to checkpoints_best_only/checkpoint\n",
            "4000/4000 [==============================] - 86s 22ms/sample - loss: 0.7390 - accuracy: 0.7318 - val_loss: 0.8207 - val_accuracy: 0.6920\n",
            "Epoch 25/50\n",
            "3968/4000 [============================>.] - ETA: 0s - loss: 0.7330 - accuracy: 0.7326\n",
            "Epoch 00025: saving model to checkpoints_every_epoch/checkpoint_025\n",
            "\n",
            "Epoch 00025: val_accuracy did not improve from 0.69200\n",
            "4000/4000 [==============================] - 86s 22ms/sample - loss: 0.7313 - accuracy: 0.7335 - val_loss: 0.8680 - val_accuracy: 0.6820\n",
            "Epoch 26/50\n",
            "3968/4000 [============================>.] - ETA: 0s - loss: 0.6978 - accuracy: 0.7475\n",
            "Epoch 00026: saving model to checkpoints_every_epoch/checkpoint_026\n",
            "\n",
            "Epoch 00026: val_accuracy improved from 0.69200 to 0.69400, saving model to checkpoints_best_only/checkpoint\n",
            "4000/4000 [==============================] - 87s 22ms/sample - loss: 0.6982 - accuracy: 0.7473 - val_loss: 0.8348 - val_accuracy: 0.6940\n",
            "Epoch 27/50\n",
            "3968/4000 [============================>.] - ETA: 0s - loss: 0.6834 - accuracy: 0.7523\n",
            "Epoch 00027: saving model to checkpoints_every_epoch/checkpoint_027\n",
            "\n",
            "Epoch 00027: val_accuracy improved from 0.69400 to 0.72700, saving model to checkpoints_best_only/checkpoint\n",
            "4000/4000 [==============================] - 86s 21ms/sample - loss: 0.6813 - accuracy: 0.7527 - val_loss: 0.7731 - val_accuracy: 0.7270\n",
            "Epoch 28/50\n",
            "3968/4000 [============================>.] - ETA: 0s - loss: 0.6621 - accuracy: 0.7623\n",
            "Epoch 00028: saving model to checkpoints_every_epoch/checkpoint_028\n",
            "\n",
            "Epoch 00028: val_accuracy did not improve from 0.72700\n",
            "4000/4000 [==============================] - 86s 21ms/sample - loss: 0.6605 - accuracy: 0.7628 - val_loss: 0.8581 - val_accuracy: 0.6890\n",
            "Epoch 29/50\n",
            "3968/4000 [============================>.] - ETA: 0s - loss: 0.6508 - accuracy: 0.7659\n",
            "Epoch 00029: saving model to checkpoints_every_epoch/checkpoint_029\n",
            "\n",
            "Epoch 00029: val_accuracy did not improve from 0.72700\n",
            "4000/4000 [==============================] - 86s 21ms/sample - loss: 0.6490 - accuracy: 0.7667 - val_loss: 0.8482 - val_accuracy: 0.6800\n",
            "Epoch 30/50\n",
            "3968/4000 [============================>.] - ETA: 0s - loss: 0.6483 - accuracy: 0.7616\n",
            "Epoch 00030: saving model to checkpoints_every_epoch/checkpoint_030\n",
            "\n",
            "Epoch 00030: val_accuracy did not improve from 0.72700\n",
            "4000/4000 [==============================] - 85s 21ms/sample - loss: 0.6467 - accuracy: 0.7623 - val_loss: 0.8611 - val_accuracy: 0.6790\n"
          ]
        },
        {
          "data": {
            "text/plain": [
              "<tensorflow.python.keras.callbacks.History at 0x7f0a20403c88>"
            ]
          },
          "execution_count": 15,
          "metadata": {},
          "output_type": "execute_result"
        }
      ],
      "source": [
        "# Train model using the callbacks you just created\n",
        "\n",
        "callbacks = [checkpoint_every_epoch, checkpoint_best_only, early_stopping]\n",
        "model.fit(x_train, y_train, epochs=50, validation_data=(x_test, y_test), callbacks=callbacks)"
      ]
    },
    {
      "cell_type": "markdown",
      "metadata": {
        "id": "MZ5GhLIwfT2d"
      },
      "source": [
        "#### Create new instance of model and load on both sets of weights\n",
        "\n",
        "Now you will use the weights you just saved in a fresh model. You should create two functions, both of which take a freshly instantiated model instance:\n",
        "- `model_last_epoch` should contain the weights from the latest saved epoch\n",
        "- `model_best_epoch` should contain the weights from the saved epoch with the highest testing accuracy\n",
        "\n",
        "_Hint: use the_ `tf.train.latest_checkpoint` _function to get the filename of the latest saved checkpoint file. Check the docs_ [_here_](https://www.tensorflow.org/api_docs/python/tf/train/latest_checkpoint)."
      ]
    },
    {
      "cell_type": "code",
      "execution_count": null,
      "metadata": {
        "id": "qGGP8-rwfT2d"
      },
      "outputs": [],
      "source": [
        "#### GRADED CELL ####\n",
        "\n",
        "# Complete the following functions. \n",
        "# Make sure to not change the function name or arguments.\n",
        "\n",
        "def get_model_last_epoch(model):\n",
        "    model.load_weights(tf.train.latest_checkpoint(checkpoint_dir='checkpoints_every_epoch'))\n",
        "    return model\n",
        "    \n",
        "def get_model_best_epoch(model):\n",
        "    model.load_weights('checkpoints_best_only/checkpoint')\n",
        "    return model\n",
        "    "
      ]
    },
    {
      "cell_type": "code",
      "execution_count": null,
      "metadata": {
        "id": "URQoRNDJfT2e",
        "outputId": "68f35494-3474-42c1-fca1-58168804c096"
      },
      "outputs": [
        {
          "name": "stdout",
          "output_type": "stream",
          "text": [
            "Model with last epoch weights:\n",
            "WARNING:tensorflow:Unresolved object in checkpoint: (root).optimizer.iter\n",
            "WARNING:tensorflow:Unresolved object in checkpoint: (root).optimizer.beta_1\n",
            "WARNING:tensorflow:Unresolved object in checkpoint: (root).optimizer.beta_2\n",
            "WARNING:tensorflow:Unresolved object in checkpoint: (root).optimizer.decay\n",
            "WARNING:tensorflow:Unresolved object in checkpoint: (root).optimizer.learning_rate\n",
            "WARNING:tensorflow:A checkpoint was restored (e.g. tf.train.Checkpoint.restore or tf.keras.Model.load_weights) but not all checkpointed values were used. See above for specific issues. Use expect_partial() on the load status object, e.g. tf.train.Checkpoint.restore(...).expect_partial(), to silence these warnings, or use assert_consumed() to make the check explicit. See https://www.tensorflow.org/alpha/guide/checkpoints#loading_mechanics for details.\n",
            "WARNING:tensorflow:Unresolved object in checkpoint: (root).optimizer.iter\n",
            "WARNING:tensorflow:Unresolved object in checkpoint: (root).optimizer.beta_1\n",
            "WARNING:tensorflow:Unresolved object in checkpoint: (root).optimizer.beta_2\n",
            "WARNING:tensorflow:Unresolved object in checkpoint: (root).optimizer.decay\n",
            "WARNING:tensorflow:Unresolved object in checkpoint: (root).optimizer.learning_rate\n",
            "WARNING:tensorflow:A checkpoint was restored (e.g. tf.train.Checkpoint.restore or tf.keras.Model.load_weights) but not all checkpointed values were used. See above for specific issues. Use expect_partial() on the load status object, e.g. tf.train.Checkpoint.restore(...).expect_partial(), to silence these warnings, or use assert_consumed() to make the check explicit. See https://www.tensorflow.org/alpha/guide/checkpoints#loading_mechanics for details.\n",
            "accuracy: 0.679\n",
            "\n",
            "Model with best epoch weights:\n",
            "accuracy: 0.727\n"
          ]
        }
      ],
      "source": [
        "# Run this cell to create two models: one with the weights from the last training\n",
        "# epoch, and one with the weights leading to the highest validation (testing) accuracy.\n",
        "# Verify that the second has a higher validation (testing) accuarcy.\n",
        "\n",
        "model_last_epoch = get_model_last_epoch(get_new_model(x_train[0].shape))\n",
        "model_best_epoch = get_model_best_epoch(get_new_model(x_train[0].shape))\n",
        "print('Model with last epoch weights:')\n",
        "get_test_accuracy(model_last_epoch, x_test, y_test)\n",
        "print('')\n",
        "print('Model with best epoch weights:')\n",
        "get_test_accuracy(model_best_epoch, x_test, y_test)"
      ]
    },
    {
      "cell_type": "markdown",
      "metadata": {
        "id": "5CY9yZHRfT2e"
      },
      "source": [
        "#### Load, from scratch, a model trained on the EuroSat dataset.\n",
        "\n",
        "In your workspace, you will find another model trained on the `EuroSAT` dataset in `.h5` format. This model is trained on a larger subset of the EuroSAT dataset and has a more complex architecture. The path to the model is `models/EuroSatNet.h5`. See how its testing accuracy compares to your model!"
      ]
    },
    {
      "cell_type": "code",
      "execution_count": null,
      "metadata": {
        "id": "r0-tX8iUfT2f"
      },
      "outputs": [],
      "source": [
        "#### GRADED CELL ####\n",
        "\n",
        "# Complete the following functions. \n",
        "# Make sure to not change the function name or arguments.\n",
        "\n",
        "def get_model_eurosatnet():\n",
        "    model = load_model('models/EuroSatNet.h5')\n",
        "    return model\n",
        "    "
      ]
    },
    {
      "cell_type": "code",
      "execution_count": null,
      "metadata": {
        "id": "heIblzGBfT2f",
        "outputId": "9abebbe6-5c97-4e12-e7e4-00e4e9e903c5"
      },
      "outputs": [
        {
          "name": "stdout",
          "output_type": "stream",
          "text": [
            "Model: \"sequential_21\"\n",
            "_________________________________________________________________\n",
            "Layer (type)                 Output Shape              Param #   \n",
            "=================================================================\n",
            "conv_1 (Conv2D)              (None, 64, 64, 16)        448       \n",
            "_________________________________________________________________\n",
            "conv_2 (Conv2D)              (None, 64, 64, 16)        6416      \n",
            "_________________________________________________________________\n",
            "pool_1 (MaxPooling2D)        (None, 32, 32, 16)        0         \n",
            "_________________________________________________________________\n",
            "conv_3 (Conv2D)              (None, 32, 32, 16)        2320      \n",
            "_________________________________________________________________\n",
            "conv_4 (Conv2D)              (None, 32, 32, 16)        6416      \n",
            "_________________________________________________________________\n",
            "pool_2 (MaxPooling2D)        (None, 16, 16, 16)        0         \n",
            "_________________________________________________________________\n",
            "conv_5 (Conv2D)              (None, 16, 16, 16)        2320      \n",
            "_________________________________________________________________\n",
            "conv_6 (Conv2D)              (None, 16, 16, 16)        6416      \n",
            "_________________________________________________________________\n",
            "pool_3 (MaxPooling2D)        (None, 8, 8, 16)          0         \n",
            "_________________________________________________________________\n",
            "conv_7 (Conv2D)              (None, 8, 8, 16)          2320      \n",
            "_________________________________________________________________\n",
            "conv_8 (Conv2D)              (None, 8, 8, 16)          6416      \n",
            "_________________________________________________________________\n",
            "pool_4 (MaxPooling2D)        (None, 4, 4, 16)          0         \n",
            "_________________________________________________________________\n",
            "flatten (Flatten)            (None, 256)               0         \n",
            "_________________________________________________________________\n",
            "dense_1 (Dense)              (None, 32)                8224      \n",
            "_________________________________________________________________\n",
            "dense_2 (Dense)              (None, 10)                330       \n",
            "=================================================================\n",
            "Total params: 41,626\n",
            "Trainable params: 41,626\n",
            "Non-trainable params: 0\n",
            "_________________________________________________________________\n",
            "accuracy: 0.810\n"
          ]
        }
      ],
      "source": [
        "# Run this cell to print a summary of the EuroSatNet model, along with its validation accuracy.\n",
        "\n",
        "model_eurosatnet = get_model_eurosatnet()\n",
        "model_eurosatnet.summary()\n",
        "get_test_accuracy(model_eurosatnet, x_test, y_test)"
      ]
    },
    {
      "cell_type": "markdown",
      "metadata": {
        "id": "KAxZ4SQBfT2f"
      },
      "source": [
        "Congratulations for completing this programming assignment! You're now ready to move on to the capstone project for this course."
      ]
    },
    {
      "cell_type": "code",
      "execution_count": null,
      "metadata": {
        "id": "rQ5xg6M5fT2g"
      },
      "outputs": [],
      "source": []
    }
  ],
  "metadata": {
    "coursera": {
      "course_slug": "tensor-flow-2-1",
      "graded_item_id": "JaRY0",
      "launcher_item_id": "mJ8fg"
    },
    "kernelspec": {
      "display_name": "Python 3",
      "language": "python",
      "name": "python3"
    },
    "language_info": {
      "codemirror_mode": {
        "name": "ipython",
        "version": 3
      },
      "file_extension": ".py",
      "mimetype": "text/x-python",
      "name": "python",
      "nbconvert_exporter": "python",
      "pygments_lexer": "ipython3",
      "version": "3.7.1"
    },
    "colab": {
      "provenance": [],
      "include_colab_link": true
    }
  },
  "nbformat": 4,
  "nbformat_minor": 0
}