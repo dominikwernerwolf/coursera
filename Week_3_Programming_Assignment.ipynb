{
  "cells": [
    {
      "cell_type": "markdown",
      "metadata": {
        "id": "view-in-github",
        "colab_type": "text"
      },
      "source": [
        "<a href=\"https://colab.research.google.com/github/dominikwernerwolf/coursera/blob/main/Week_3_Programming_Assignment.ipynb\" target=\"_parent\"><img src=\"https://colab.research.google.com/assets/colab-badge.svg\" alt=\"Open In Colab\"/></a>"
      ]
    },
    {
      "cell_type": "markdown",
      "metadata": {
        "id": "05w5MX7kIUPp"
      },
      "source": [
        "# Programming Assignment"
      ]
    },
    {
      "cell_type": "markdown",
      "metadata": {
        "id": "ybEsOkzCIUPs"
      },
      "source": [
        "## Model validation on the Iris dataset"
      ]
    },
    {
      "cell_type": "markdown",
      "metadata": {
        "id": "qpxErJ7IIUPs"
      },
      "source": [
        "### Instructions\n",
        "\n",
        "In this notebook, you will build, compile and fit a neural network model to the Iris dataset. You will also implement validation, regularisation and callbacks to improve your model.\n",
        "\n",
        "Some code cells are provided you in the notebook. You should avoid editing provided code, and make sure to execute the cells in order to avoid unexpected errors. Some cells begin with the line: \n",
        "\n",
        "`#### GRADED CELL ####`\n",
        "\n",
        "Don't move or edit this first line - this is what the automatic grader looks for to recognise graded cells. These cells require you to write your own code to complete them, and are automatically graded when you submit the notebook. Don't edit the function name or signature provided in these cells, otherwise the automatic grader might not function properly. Inside these graded cells, you can use any functions or classes that are imported below, but make sure you don't use any variables that are outside the scope of the function.\n",
        "\n",
        "### How to submit\n",
        "\n",
        "Complete all the tasks you are asked for in the worksheet. When you have finished and are happy with your code, press the **Submit Assignment** button at the top of this notebook.\n",
        "\n",
        "### Let's get started!\n",
        "\n",
        "We'll start running some imports, and loading the dataset. Do not edit the existing imports in the following cell. If you would like to make further Tensorflow imports, you should add them here."
      ]
    },
    {
      "cell_type": "code",
      "execution_count": null,
      "metadata": {
        "id": "DCaGXEarIUPt"
      },
      "outputs": [],
      "source": [
        "#### PACKAGE IMPORTS ####\n",
        "\n",
        "# Run this cell first to import all required packages. Do not make any imports elsewhere in the notebook\n",
        "from numpy.random import seed\n",
        "seed(8)\n",
        "import tensorflow as tf\n",
        "import numpy as np\n",
        "import matplotlib.pyplot as plt\n",
        "from sklearn import datasets, model_selection \n",
        "%matplotlib inline\n",
        "\n",
        "# If you would like to make further imports from tensorflow, add them here\n",
        "from sklearn.model_selection import train_test_split\n",
        "from tensorflow.keras.models import Sequential\n",
        "from tensorflow.keras.layers import Dense\n",
        "from tensorflow.keras.layers import Dropout\n",
        "from tensorflow.keras import regularizers\n",
        "from tensorflow.keras.layers import BatchNormalization"
      ]
    },
    {
      "cell_type": "markdown",
      "metadata": {
        "id": "G_rJtqkSIUPv"
      },
      "source": [
        "<tr>\n",
        "<td><img src=\"data/iris_setosa.jpg\" alt=\"Drawing\" style=\"height: 270px;\"/></td>\n",
        "<td><img src=\"data/iris_versicolor.jpg\" alt=\"Drawing\" style=\"height: 270px;\"/></td>\n",
        "<td><img src=\"data/iris_virginica.jpg\" alt=\"Drawing\" style=\"height: 270px;\"/></td>\n",
        "</tr>"
      ]
    },
    {
      "cell_type": "markdown",
      "metadata": {
        "id": "KaZvjf7nIUPv"
      },
      "source": [
        "#### The Iris dataset\n",
        "\n",
        "In this assignment, you will use the [Iris dataset](https://scikit-learn.org/stable/auto_examples/datasets/plot_iris_dataset.html). It consists of 50 samples from each of three species of Iris (Iris setosa, Iris virginica and Iris versicolor). Four features were measured from each sample: the length and the width of the sepals and petals, in centimeters. For a reference, see the following papers:\n",
        "\n",
        "- R. A. Fisher. \"The use of multiple measurements in taxonomic problems\". Annals of Eugenics. 7 (2): 179–188, 1936.\n",
        "\n",
        "Your goal is to construct a neural network that classifies each sample into the correct class, as well as applying validation and regularisation techniques."
      ]
    },
    {
      "cell_type": "markdown",
      "metadata": {
        "id": "gfXVc4Q1IUPw"
      },
      "source": [
        "#### Load and preprocess the data\n",
        "\n",
        "First read in the Iris dataset using `datasets.load_iris()`, and split the dataset into training and test sets."
      ]
    },
    {
      "cell_type": "code",
      "execution_count": null,
      "metadata": {
        "id": "ltqbjkq1IUPw",
        "outputId": "c0e42d64-4433-45d4-dfd5-3054b5df974b"
      },
      "outputs": [
        {
          "name": "stdout",
          "output_type": "stream",
          "text": [
            "(150, 4)\n",
            "(150,)\n"
          ]
        }
      ],
      "source": [
        "iris_data = datasets.load_iris()\n",
        "# print(iris_data[\"DESCR\"])\n",
        "data = iris_data[\"data\"]\n",
        "print(data.shape)\n",
        "targets = iris_data[\"target\"]\n",
        "print(targets.shape)"
      ]
    },
    {
      "cell_type": "code",
      "execution_count": null,
      "metadata": {
        "id": "OwPhXs69IUPx"
      },
      "outputs": [],
      "source": [
        "#### GRADED CELL ####\n",
        "\n",
        "# Complete the following function. \n",
        "# Make sure to not change the function name or arguments.\n",
        "\n",
        "def read_in_and_split_data(iris_data):\n",
        "    train_data, test_data, train_targets, test_targets = train_test_split(iris_data[\"data\"], iris_data[\"target\"], test_size=0.1)\n",
        "    return (train_data, test_data, train_targets, test_targets)\n"
      ]
    },
    {
      "cell_type": "code",
      "execution_count": null,
      "metadata": {
        "id": "bdOF129lIUPx"
      },
      "outputs": [],
      "source": [
        "# Run your function to generate the test and training data.\n",
        "train_data, test_data, train_targets, test_targets = read_in_and_split_data(iris_data)"
      ]
    },
    {
      "cell_type": "markdown",
      "metadata": {
        "id": "HTe8jy22IUPy"
      },
      "source": [
        "We will now convert the training and test targets using a one hot encoder."
      ]
    },
    {
      "cell_type": "code",
      "execution_count": null,
      "metadata": {
        "id": "yXy3kGQXIUPy"
      },
      "outputs": [],
      "source": [
        "# Convert targets to a one-hot encoding\n",
        "\n",
        "train_targets = tf.keras.utils.to_categorical(np.array(train_targets))\n",
        "test_targets = tf.keras.utils.to_categorical(np.array(test_targets))"
      ]
    },
    {
      "cell_type": "markdown",
      "metadata": {
        "id": "b-_XVHR6IUPy"
      },
      "source": [
        "#### Build the neural network model\n"
      ]
    },
    {
      "cell_type": "markdown",
      "metadata": {
        "id": "jKYQIoxhIUPz"
      },
      "source": [
        "You can now construct a model to fit to the data. Using the Sequential API, build your model according to the following specifications:\n",
        "\n",
        "* The model should use the `input_shape` in the function argument to set the input size in the first layer.\n",
        "* The first layer should be a dense layer with 64 units.\n",
        "* The weights of the first layer should be initialised with the He uniform initializer.\n",
        "* The biases of the first layer should be all initially equal to one.\n",
        "* There should then be a further four dense layers, each with 128 units.\n",
        "* This should be followed with four dense layers, each with 64 units.\n",
        "* All of these Dense layers should use the ReLU activation function.\n",
        "* The output Dense layer should have 3 units and the softmax activation function.\n",
        "\n",
        "In total, the network should have 10 layers."
      ]
    },
    {
      "cell_type": "code",
      "execution_count": null,
      "metadata": {
        "id": "Scjq60-gIUPz"
      },
      "outputs": [],
      "source": [
        "#### GRADED CELL ####\n",
        "\n",
        "# Complete the following function. \n",
        "# Make sure to not change the function name or arguments.\n",
        "\n",
        "def get_model(input_shape):\n",
        "    model = Sequential([\n",
        "        Dense(64, activation='relu', kernel_initializer=tf.keras.initializers.he_uniform(), bias_initializer='ones', input_shape=(input_shape[0],)),\n",
        "        Dense(128, activation='relu'),\n",
        "        Dense(128, activation='relu'),\n",
        "        Dense(128, activation='relu'),\n",
        "        Dense(128, activation='relu'),\n",
        "        Dense(64, activation='relu'),\n",
        "        Dense(64, activation='relu'),\n",
        "        Dense(64, activation='relu'),\n",
        "        Dense(64, activation='relu'),\n",
        "        Dense(3, activation='softmax')\n",
        "    ])\n",
        "    return model"
      ]
    },
    {
      "cell_type": "code",
      "execution_count": null,
      "metadata": {
        "id": "2C7O98J1IUPz",
        "outputId": "122c6fd5-e405-4a76-c30b-2c48c9c26a06"
      },
      "outputs": [
        {
          "name": "stdout",
          "output_type": "stream",
          "text": [
            "(4,)\n"
          ]
        }
      ],
      "source": [
        "# Run your function to get the model\n",
        "print(train_data[0].shape)\n",
        "model = get_model(train_data[0].shape)"
      ]
    },
    {
      "cell_type": "markdown",
      "metadata": {
        "id": "l5S4zt3gIUP0"
      },
      "source": [
        "#### Compile the model\n",
        "\n",
        "You should now compile the model using the `compile` method. Remember that you need to specify an optimizer, a loss function and a metric to judge the performance of your model."
      ]
    },
    {
      "cell_type": "code",
      "execution_count": null,
      "metadata": {
        "id": "ESAApwdDIUP0"
      },
      "outputs": [],
      "source": [
        "#### GRADED CELL ####\n",
        "\n",
        "# Complete the following function. \n",
        "# Make sure to not change the function name or arguments.\n",
        "\n",
        "def compile_model(model):\n",
        "    model.compile(optimizer=tf.keras.optimizers.Adam(learning_rate=0.0001), loss='categorical_crossentropy', metrics=['accuracy'])\n",
        "    "
      ]
    },
    {
      "cell_type": "code",
      "execution_count": null,
      "metadata": {
        "id": "mTKyXTQRIUP0"
      },
      "outputs": [],
      "source": [
        "# Run your function to compile the model\n",
        "\n",
        "compile_model(model)"
      ]
    },
    {
      "cell_type": "markdown",
      "metadata": {
        "id": "Menut86vIUP1"
      },
      "source": [
        "#### Fit the model to the training data\n",
        "\n",
        "Now you should train the model on the Iris dataset, using the model's `fit` method. \n",
        "* Run the training for a fixed number of epochs, given by the function's `epochs` argument.\n",
        "* Return the training history to be used for plotting the learning curves.\n",
        "* Set the batch size to 40.\n",
        "* Set the validation set to be 15% of the training set."
      ]
    },
    {
      "cell_type": "code",
      "execution_count": null,
      "metadata": {
        "id": "ruOMjzfrIUP1"
      },
      "outputs": [],
      "source": [
        "#### GRADED CELL ####\n",
        "\n",
        "# Complete the following function. \n",
        "# Make sure to not change the function name or arguments.\n",
        "\n",
        "def train_model(model, train_data, train_targets, epochs):\n",
        "    history = model.fit(train_data, train_targets, epochs=epochs, validation_split=0.15, batch_size=40, verbose=False)\n",
        "    return history\n",
        "    "
      ]
    },
    {
      "cell_type": "markdown",
      "metadata": {
        "id": "0vSpPFWNIUP1"
      },
      "source": [
        "Run the following cell to run the training for 800 epochs."
      ]
    },
    {
      "cell_type": "code",
      "execution_count": null,
      "metadata": {
        "id": "siBwz7QUIUP2"
      },
      "outputs": [],
      "source": [
        "# Run your function to train the model\n",
        "\n",
        "history = train_model(model, train_data, train_targets, epochs=800)"
      ]
    },
    {
      "cell_type": "markdown",
      "metadata": {
        "id": "bt4BaJKNIUP2"
      },
      "source": [
        "#### Plot the learning curves\n",
        "\n",
        "We will now plot two graphs:\n",
        "* Epoch vs accuracy\n",
        "* Epoch vs loss\n"
      ]
    },
    {
      "cell_type": "code",
      "execution_count": null,
      "metadata": {
        "id": "vZn60H5mIUP2",
        "outputId": "30e96ff7-1ce7-4fde-a243-387c32e537c2"
      },
      "outputs": [
        {
          "data": {
            "image/png": "[encoded data removed]",
            "text/plain": [
              "<Figure size 432x288 with 1 Axes>"
            ]
          },
          "metadata": {
            "needs_background": "light"
          },
          "output_type": "display_data"
        }
      ],
      "source": [
        "# Run this cell to plot the epoch vs accuracy graph\n",
        "\n",
        "try:\n",
        "    plt.plot(history.history['accuracy'])\n",
        "    plt.plot(history.history['val_accuracy'])\n",
        "except KeyError:\n",
        "    plt.plot(history.history['acc'])\n",
        "    plt.plot(history.history['val_acc'])\n",
        "plt.title('Accuracy vs. epochs')\n",
        "plt.ylabel('Loss')\n",
        "plt.xlabel('Epoch')\n",
        "plt.legend(['Training', 'Validation'], loc='lower right')\n",
        "plt.show() "
      ]
    },
    {
      "cell_type": "code",
      "execution_count": null,
      "metadata": {
        "id": "JDJi_fcgIUP3",
        "outputId": "0fba7b1c-b57a-44a0-b5fd-157e041328c5"
      },
      "outputs": [
        {
          "data": {
            "image/png": "[encoded data removed]",
            "text/plain": [
              "<Figure size 432x288 with 1 Axes>"
            ]
          },
          "metadata": {
            "needs_background": "light"
          },
          "output_type": "display_data"
        }
      ],
      "source": [
        "#Run this cell to plot the epoch vs loss graph\n",
        "plt.plot(history.history['loss'])\n",
        "plt.plot(history.history['val_loss'])\n",
        "plt.title('Loss vs. epochs')\n",
        "plt.ylabel('Loss')\n",
        "plt.xlabel('Epoch')\n",
        "plt.legend(['Training', 'Validation'], loc='upper right')\n",
        "plt.show() "
      ]
    },
    {
      "cell_type": "markdown",
      "metadata": {
        "id": "j5ZAsP_eIUP3"
      },
      "source": [
        "Oh no! We have overfit our dataset. You should now try to now try to mitigate this overfitting."
      ]
    },
    {
      "cell_type": "markdown",
      "metadata": {
        "id": "L0zUNDMkIUP3"
      },
      "source": [
        "#### Reducing overfitting in the model"
      ]
    },
    {
      "cell_type": "markdown",
      "metadata": {
        "id": "vaa4SlnIIUP4"
      },
      "source": [
        "You should now define a new regularised model.\n",
        "The specs for the regularised model are the same as our original model, with the addition of two dropout layers, weight decay, and a batch normalisation layer. \n",
        "\n",
        "In particular:\n",
        "\n",
        "* Add a dropout layer after the 3rd Dense layer\n",
        "* Then there should be two more Dense layers with 128 units before a batch normalisation layer\n",
        "* Following this, two more Dense layers with 64 units and then another Dropout layer\n",
        "* Two more Dense layers with 64 units and then the final 3-way softmax layer\n",
        "* Add weight decay (l2 kernel regularisation) in all Dense layers except the final softmax layer"
      ]
    },
    {
      "cell_type": "code",
      "execution_count": null,
      "metadata": {
        "id": "ZXBHKscTIUP4"
      },
      "outputs": [],
      "source": [
        "#### GRADED CELL ####\n",
        "\n",
        "# Complete the following function. \n",
        "# Make sure to not change the function name or arguments.\n",
        "\n",
        "def get_regularised_model(input_shape, dropout_rate, weight_decay):\n",
        "    model = Sequential([\n",
        "        Dense(64, kernel_regularizer=regularizers.l2(weight_decay), activation='relu', kernel_initializer=tf.keras.initializers.he_uniform(), bias_initializer='ones', input_shape=(input_shape[0],)),\n",
        "        Dense(128, kernel_regularizer=regularizers.l2(weight_decay), activation='relu'),\n",
        "        Dense(128, kernel_regularizer=regularizers.l2(weight_decay), activation='relu'),\n",
        "        Dropout(dropout_rate),\n",
        "        Dense(128, kernel_regularizer=regularizers.l2(weight_decay), activation='relu'),\n",
        "        Dense(128, kernel_regularizer=regularizers.l2(weight_decay), activation='relu'),\n",
        "        BatchNormalization(),\n",
        "        Dense(64, kernel_regularizer=regularizers.l2(weight_decay), activation='relu'),\n",
        "        Dense(64, kernel_regularizer=regularizers.l2(weight_decay), activation='relu'),\n",
        "        Dropout(dropout_rate),\n",
        "        Dense(64, kernel_regularizer=regularizers.l2(weight_decay), activation='relu'),\n",
        "        Dense(64, kernel_regularizer=regularizers.l2(weight_decay), activation='relu'),\n",
        "        Dense(3, activation='softmax')\n",
        "    ])\n",
        "    return model\n",
        "    "
      ]
    },
    {
      "cell_type": "markdown",
      "metadata": {
        "id": "XI9ML90tIUP4"
      },
      "source": [
        "#### Instantiate, compile and train the model"
      ]
    },
    {
      "cell_type": "code",
      "execution_count": null,
      "metadata": {
        "id": "6Eo2s4NHIUP5"
      },
      "outputs": [],
      "source": [
        "# Instantiate the model, using a dropout rate of 0.3 and weight decay coefficient of 0.001\n",
        "\n",
        "reg_model = get_regularised_model(train_data[0].shape, 0.3, 0.001)"
      ]
    },
    {
      "cell_type": "code",
      "execution_count": null,
      "metadata": {
        "id": "HKbPEcWmIUP5"
      },
      "outputs": [],
      "source": [
        "# Compile the model\n",
        "\n",
        "compile_model(reg_model)"
      ]
    },
    {
      "cell_type": "code",
      "execution_count": null,
      "metadata": {
        "id": "aruzxKzRIUP6"
      },
      "outputs": [],
      "source": [
        "# Train the model\n",
        "\n",
        "reg_history = train_model(reg_model, train_data, train_targets, epochs=800)"
      ]
    },
    {
      "cell_type": "markdown",
      "metadata": {
        "id": "bZbRhAvVIUP7"
      },
      "source": [
        "#### Plot the learning curves\n",
        "\n",
        "Let's now plot the loss and accuracy for the training and validation sets."
      ]
    },
    {
      "cell_type": "code",
      "execution_count": null,
      "metadata": {
        "id": "JV_HoRm7IUP7",
        "outputId": "2a4aea4c-650b-41c0-c916-06478068af75"
      },
      "outputs": [
        {
          "data": {
            "image/png": "[encoded data removed]",
            "text/plain": [
              "<Figure size 432x288 with 1 Axes>"
            ]
          },
          "metadata": {
            "needs_background": "light"
          },
          "output_type": "display_data"
        }
      ],
      "source": [
        "#Run this cell to plot the new accuracy vs epoch graph\n",
        "\n",
        "try:\n",
        "    plt.plot(reg_history.history['accuracy'])\n",
        "    plt.plot(reg_history.history['val_accuracy'])\n",
        "except KeyError:\n",
        "    plt.plot(reg_history.history['acc'])\n",
        "    plt.plot(reg_history.history['val_acc'])\n",
        "plt.title('Accuracy vs. epochs')\n",
        "plt.ylabel('Loss')\n",
        "plt.xlabel('Epoch')\n",
        "plt.legend(['Training', 'Validation'], loc='lower right')\n",
        "plt.show() "
      ]
    },
    {
      "cell_type": "code",
      "execution_count": null,
      "metadata": {
        "id": "ULpXH3OSIUP8",
        "outputId": "2220d793-42c3-4a7c-f090-d4cf5a9b290e"
      },
      "outputs": [
        {
          "data": {
            "image/png": "[encoded data removed]",
            "text/plain": [
              "<Figure size 432x288 with 1 Axes>"
            ]
          },
          "metadata": {
            "needs_background": "light"
          },
          "output_type": "display_data"
        }
      ],
      "source": [
        "#Run this cell to plot the new loss vs epoch graph\n",
        "\n",
        "plt.plot(reg_history.history['loss'])\n",
        "plt.plot(reg_history.history['val_loss'])\n",
        "plt.title('Loss vs. epochs')\n",
        "plt.ylabel('Loss')\n",
        "plt.xlabel('Epoch')\n",
        "plt.legend(['Training', 'Validation'], loc='upper right')\n",
        "plt.show() "
      ]
    },
    {
      "cell_type": "markdown",
      "metadata": {
        "id": "ECmFG6rlIUP8"
      },
      "source": [
        "We can see that the regularisation has helped to reduce the overfitting of the network.\n",
        "You will now incorporate callbacks into a new training run that implements early stopping and learning rate reduction on plateaux.\n",
        "\n",
        "Fill in the function below so that:\n",
        "\n",
        "* It creates an `EarlyStopping` callback object and a `ReduceLROnPlateau` callback object\n",
        "* The early stopping callback is used and monitors validation loss with the mode set to `\"min\"` and patience of 30.\n",
        "* The learning rate reduction on plateaux is used with a learning rate factor of 0.2 and a patience of 20."
      ]
    },
    {
      "cell_type": "code",
      "execution_count": null,
      "metadata": {
        "id": "1T3-BiC_IUP8"
      },
      "outputs": [],
      "source": [
        "#### GRADED CELL ####\n",
        "\n",
        "# Complete the following function. \n",
        "# Make sure to not change the function name or arguments.\n",
        "\n",
        "def get_callbacks():\n",
        "    call1 = tf.keras.callbacks.EarlyStopping(monitor=\"val_loss\", mode='min', patience=30)\n",
        "    call2 = tf.keras.callbacks.ReduceLROnPlateau(monitor=\"val_loss\", mode='min', factor=0.2, patience=20)\n",
        "    return (call1, call2)\n",
        "    "
      ]
    },
    {
      "cell_type": "markdown",
      "metadata": {
        "id": "uaJH6RzSIUP9"
      },
      "source": [
        "Run the cell below to instantiate and train the regularised model with the callbacks."
      ]
    },
    {
      "cell_type": "code",
      "execution_count": null,
      "metadata": {
        "id": "3bxxaZHeIUP9"
      },
      "outputs": [],
      "source": [
        "call_model = get_regularised_model(train_data[0].shape, 0.3, 0.0001)\n",
        "compile_model(call_model)\n",
        "early_stopping, learning_rate_reduction = get_callbacks()\n",
        "call_history = call_model.fit(train_data, train_targets, epochs=800, validation_split=0.15,\n",
        "                         callbacks=[early_stopping, learning_rate_reduction], verbose=0)"
      ]
    },
    {
      "cell_type": "code",
      "execution_count": null,
      "metadata": {
        "id": "L7RM4ysvIUP9",
        "outputId": "82fb4db2-37ef-4696-dce5-c0f6182f56d3"
      },
      "outputs": [
        {
          "data": {
            "text/plain": [
              "20"
            ]
          },
          "execution_count": 49,
          "metadata": {},
          "output_type": "execute_result"
        }
      ],
      "source": [
        "learning_rate_reduction.patience"
      ]
    },
    {
      "cell_type": "markdown",
      "metadata": {
        "id": "TFpAFiN-IUP-"
      },
      "source": [
        "Finally, let's replot the accuracy and loss graphs for our new model."
      ]
    },
    {
      "cell_type": "code",
      "execution_count": null,
      "metadata": {
        "id": "xd81X7ufIUP-",
        "outputId": "4c42eb87-9357-4873-da2e-030e4778cd63"
      },
      "outputs": [
        {
          "data": {
            "image/png": "[encoded data removed]",
            "text/plain": [
              "<Figure size 432x288 with 1 Axes>"
            ]
          },
          "metadata": {
            "needs_background": "light"
          },
          "output_type": "display_data"
        }
      ],
      "source": [
        "try:\n",
        "    plt.plot(call_history.history['accuracy'])\n",
        "    plt.plot(call_history.history['val_accuracy'])\n",
        "except KeyError:\n",
        "    plt.plot(call_history.history['acc'])\n",
        "    plt.plot(call_history.history['val_acc'])\n",
        "plt.title('Accuracy vs. epochs')\n",
        "plt.ylabel('Accuracy')\n",
        "plt.xlabel('Epoch')\n",
        "plt.legend(['Training', 'Validation'], loc='lower right')\n",
        "plt.show() "
      ]
    },
    {
      "cell_type": "code",
      "execution_count": null,
      "metadata": {
        "id": "mxOkQlgEIUP-",
        "outputId": "196f92a9-9753-48ad-d9b6-5dbe85cad5fa"
      },
      "outputs": [
        {
          "data": {
            "image/png": "[encoded data removed]",
            "text/plain": [
              "<Figure size 432x288 with 1 Axes>"
            ]
          },
          "metadata": {
            "needs_background": "light"
          },
          "output_type": "display_data"
        }
      ],
      "source": [
        "plt.plot(call_history.history['loss'])\n",
        "plt.plot(call_history.history['val_loss'])\n",
        "plt.title('Loss vs. epochs')\n",
        "plt.ylabel('Loss')\n",
        "plt.xlabel('Epoch')\n",
        "plt.legend(['Training', 'Validation'], loc='upper right')\n",
        "plt.show() "
      ]
    },
    {
      "cell_type": "code",
      "execution_count": null,
      "metadata": {
        "id": "zyI8FCJMIUP_",
        "outputId": "41351a0a-cdfa-4a84-b448-5cff0b40c758"
      },
      "outputs": [
        {
          "name": "stdout",
          "output_type": "stream",
          "text": [
            "Test loss: 0.104\n",
            "Test accuracy: 100.00%\n"
          ]
        }
      ],
      "source": [
        "# Evaluate the model on the test set\n",
        "\n",
        "test_loss, test_acc = call_model.evaluate(test_data, test_targets, verbose=0)\n",
        "print(\"Test loss: {:.3f}\\nTest accuracy: {:.2f}%\".format(test_loss, 100 * test_acc))"
      ]
    },
    {
      "cell_type": "markdown",
      "metadata": {
        "id": "cvEE-phUIUP_"
      },
      "source": [
        "Congratulations for completing this programming assignment! In the next week of the course we will learn how to save and load pre-trained models."
      ]
    },
    {
      "cell_type": "code",
      "execution_count": null,
      "metadata": {
        "id": "_s_3mLW9IUP_"
      },
      "outputs": [],
      "source": []
    }
  ],
  "metadata": {
    "coursera": {
      "course_slug": "tensor-flow-2-1",
      "graded_item_id": "mtZ4n",
      "launcher_item_id": "WphgK"
    },
    "kernelspec": {
      "display_name": "Python 3",
      "language": "python",
      "name": "python3"
    },
    "language_info": {
      "codemirror_mode": {
        "name": "ipython",
        "version": 3
      },
      "file_extension": ".py",
      "mimetype": "text/x-python",
      "name": "python",
      "nbconvert_exporter": "python",
      "pygments_lexer": "ipython3",
      "version": "3.7.1"
    },
    "colab": {
      "provenance": [],
      "include_colab_link": true
    }
  },
  "nbformat": 4,
  "nbformat_minor": 0
}