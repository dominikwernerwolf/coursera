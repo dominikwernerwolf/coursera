{
  "cells": [
    {
      "cell_type": "markdown",
      "metadata": {
        "id": "view-in-github",
        "colab_type": "text"
      },
      "source": [
        "<a href=\"https://colab.research.google.com/github/dominikwernerwolf/coursera/blob/main/Weight_and_bias_initialisers.ipynb\" target=\"_parent\"><img src=\"https://colab.research.google.com/assets/colab-badge.svg\" alt=\"Open In Colab\"/></a>"
      ]
    },
    {
      "cell_type": "markdown",
      "metadata": {
        "id": "gppAHkS7xBZi"
      },
      "source": [
        "# Weight and bias initialisers \n",
        "\n",
        "In this reading we investigate different ways to initialise weights and biases in the layers of neural networks."
      ]
    },
    {
      "cell_type": "code",
      "execution_count": 1,
      "metadata": {
        "id": "XJMziKmWxBZm",
        "outputId": "f91ea50c-a202-4a52-9496-bec35b923fac",
        "colab": {
          "base_uri": "https://localhost:8080/"
        }
      },
      "outputs": [
        {
          "output_type": "stream",
          "name": "stdout",
          "text": [
            "2.8.2\n"
          ]
        }
      ],
      "source": [
        "%matplotlib inline\n",
        "import tensorflow as tf\n",
        "import pandas as pd\n",
        "print(tf.__version__)"
      ]
    },
    {
      "cell_type": "markdown",
      "metadata": {
        "id": "J0R6FSA4xBZn"
      },
      "source": [
        "### Default weights and biases\n",
        "\n",
        "In the models we have worked with so far, we have not specified the initial values of the weights and biases in each layer of our neural networks.\n",
        "\n",
        "The default values of the weights and biases in TensorFlow depend on the type of layers we are using. \n",
        "\n",
        "For example, in a `Dense` layer, the biases are set to zero (`zeros`) by default, while the weights are set according to `glorot_uniform`, the Glorot uniform initialiser. \n",
        "\n",
        "The Glorot uniform initialiser draws the weights uniformly at random from the closed interval $[-c,c]$, where $$c = \\sqrt{\\frac{6}{n_{input}+n_{output}}}$$"
      ]
    },
    {
      "cell_type": "markdown",
      "metadata": {
        "id": "GpPE_bpTxBZo"
      },
      "source": [
        "and $n_{input}$ and $n_{output}$ are the number of inputs to, and outputs from the layer respectively."
      ]
    },
    {
      "cell_type": "markdown",
      "metadata": {
        "id": "XZuHJQOMxBZo"
      },
      "source": [
        "### Initialising your own weights and biases\n",
        "We often would like to initialise our own weights and biases, and TensorFlow makes this process quite straightforward.\n",
        "\n",
        "When we construct a model in TensorFlow, each layer has optional arguments `kernel_initialiser` and `bias_initialiser`, which are used to set the weights and biases respectively.\n",
        "\n",
        "If a layer has no weights or biases (e.g. it is a max pooling layer), then trying to set either `kernel_initialiser` or `bias_initialiser` will throw an error.\n",
        "\n",
        "Let's see an example, which uses some of the different initialisations available in Keras."
      ]
    },
    {
      "cell_type": "code",
      "execution_count": 2,
      "metadata": {
        "id": "WbjTmczVxBZp"
      },
      "outputs": [],
      "source": [
        "from tensorflow.keras.models import Sequential\n",
        "from tensorflow.keras.layers import Flatten, Dense, Conv1D, MaxPooling1D "
      ]
    },
    {
      "cell_type": "code",
      "execution_count": 3,
      "metadata": {
        "id": "GLkhbh48xBZp"
      },
      "outputs": [],
      "source": [
        "#Constructing a model\n",
        "\n",
        "model = Sequential([\n",
        "    Conv1D(filters=16, kernel_size=3, input_shape=(128, 64), kernel_initializer='random_uniform', bias_initializer=\"zeros\", activation='relu'),\n",
        "    MaxPooling1D(pool_size=4),\n",
        "    Flatten(),\n",
        "    Dense(64, kernel_initializer='he_uniform', bias_initializer='ones', activation='relu'),\n",
        "])"
      ]
    },
    {
      "cell_type": "markdown",
      "metadata": {
        "id": "ajHCnfMRxBZq"
      },
      "source": [
        "As the following example illustrates, we can also instantiate initialisers in a slightly different manner, allowing us to set optional arguments of the initialisation method."
      ]
    },
    {
      "cell_type": "code",
      "execution_count": 4,
      "metadata": {
        "id": "naofNES4xBZq"
      },
      "outputs": [],
      "source": [
        "#Adding some layers to our model\n",
        "\n",
        "model.add(Dense(64, \n",
        "                kernel_initializer=tf.keras.initializers.RandomNormal(mean=0.0, stddev=0.05), \n",
        "                bias_initializer=tf.keras.initializers.Constant(value=0.4), \n",
        "                activation='relu'),)\n",
        "\n",
        "model.add(Dense(8, \n",
        "                kernel_initializer=tf.keras.initializers.Orthogonal(gain=1.0, seed=None), \n",
        "                bias_initializer=tf.keras.initializers.Constant(value=0.4), \n",
        "                activation='relu'))"
      ]
    },
    {
      "cell_type": "markdown",
      "metadata": {
        "id": "WSWv6ggrxBZq"
      },
      "source": [
        "### Custom weight and bias initialisers\n",
        "It is also possible to define your own weight and bias initialisers.\n",
        "Initializers must take in two arguments, the `shape` of the tensor to be initialised, and its `dtype`.\n",
        "\n",
        "Here is a small example, which also shows how you can use your custom initializer in a layer."
      ]
    },
    {
      "cell_type": "code",
      "execution_count": 5,
      "metadata": {
        "id": "drNddnE7xBZr"
      },
      "outputs": [],
      "source": [
        "import tensorflow.keras.backend as K"
      ]
    },
    {
      "cell_type": "code",
      "execution_count": 6,
      "metadata": {
        "id": "XFfeLW0CxBZr"
      },
      "outputs": [],
      "source": [
        "#Example of a custom initializer\n",
        "\n",
        "def my_init(shape, dtype=None):\n",
        "    return K.random_normal(shape, dtype=dtype)\n",
        "\n",
        "model.add(Dense(64, kernel_initializer=my_init))"
      ]
    },
    {
      "cell_type": "markdown",
      "metadata": {
        "id": "TejKbVUXxBZr"
      },
      "source": [
        "Let's take a look at the summary of our finalised model."
      ]
    },
    {
      "cell_type": "code",
      "execution_count": 7,
      "metadata": {
        "id": "FPAkEa38xBZs",
        "outputId": "ecf76606-5ae6-4493-992c-fb6fafbe37c9",
        "colab": {
          "base_uri": "https://localhost:8080/"
        }
      },
      "outputs": [
        {
          "output_type": "stream",
          "name": "stdout",
          "text": [
            "Model: \"sequential\"\n",
            "_________________________________________________________________\n",
            " Layer (type)                Output Shape              Param #   \n",
            "=================================================================\n",
            " conv1d (Conv1D)             (None, 126, 16)           3088      \n",
            "                                                                 \n",
            " max_pooling1d (MaxPooling1D  (None, 31, 16)           0         \n",
            " )                                                               \n",
            "                                                                 \n",
            " flatten (Flatten)           (None, 496)               0         \n",
            "                                                                 \n",
            " dense (Dense)               (None, 64)                31808     \n",
            "                                                                 \n",
            " dense_1 (Dense)             (None, 64)                4160      \n",
            "                                                                 \n",
            " dense_2 (Dense)             (None, 8)                 520       \n",
            "                                                                 \n",
            " dense_3 (Dense)             (None, 64)                576       \n",
            "                                                                 \n",
            "=================================================================\n",
            "Total params: 40,152\n",
            "Trainable params: 40,152\n",
            "Non-trainable params: 0\n",
            "_________________________________________________________________\n"
          ]
        }
      ],
      "source": [
        "model.summary()"
      ]
    },
    {
      "cell_type": "markdown",
      "metadata": {
        "id": "Q7FHjPdBxBZs"
      },
      "source": [
        "### Visualising the initialised weights and biases"
      ]
    },
    {
      "cell_type": "markdown",
      "metadata": {
        "id": "EaC2bpsrxBZs"
      },
      "source": [
        "Finally, we can see the effect of our initialisers on the weights and biases by plotting histograms of the resulting values. Compare these plots with the selected initialisers for each layer above."
      ]
    },
    {
      "cell_type": "code",
      "execution_count": 8,
      "metadata": {
        "id": "Pg6dAKdqxBZt"
      },
      "outputs": [],
      "source": [
        "import matplotlib.pyplot as plt"
      ]
    },
    {
      "cell_type": "code",
      "execution_count": 9,
      "metadata": {
        "id": "a-CpLcDCxBZt",
        "outputId": "1ff006df-1694-4e4c-d599-286248900de4",
        "colab": {
          "base_uri": "https://localhost:8080/",
          "height": 934
        }
      },
      "outputs": [
        {
          "output_type": "display_data",
          "data": {
            "text/plain": [
              "<Figure size 864x1152 with 10 Axes>"
            ],
            "image/png": "[encoded data removed]"
          },
          "metadata": {
            "needs_background": "light"
          }
        }
      ],
      "source": [
        "fig, axes = plt.subplots(5, 2, figsize=(12,16))\n",
        "fig.subplots_adjust(hspace=0.5, wspace=0.5)\n",
        "\n",
        "# Filter out the pooling and flatten layers, that don't have any weights\n",
        "weight_layers = [layer for layer in model.layers if len(layer.weights) > 0]\n",
        "\n",
        "for i, layer in enumerate(weight_layers):\n",
        "    for j in [0, 1]:\n",
        "        axes[i, j].hist(layer.weights[j].numpy().flatten(), align='left')\n",
        "        axes[i, j].set_title(layer.weights[j].name)"
      ]
    },
    {
      "cell_type": "markdown",
      "metadata": {
        "id": "AnLeQU6LxBZu"
      },
      "source": [
        "## Further reading and resources \n",
        "* https://keras.io/initializers/\n",
        "* https://www.tensorflow.org/versions/r2.0/api_docs/python/tf/keras/initializers"
      ]
    },
    {
      "cell_type": "code",
      "source": [],
      "metadata": {
        "id": "qeaR0Oa61roT"
      },
      "execution_count": null,
      "outputs": []
    }
  ],
  "metadata": {
    "kernelspec": {
      "display_name": "Python 3",
      "language": "python",
      "name": "python3"
    },
    "language_info": {
      "codemirror_mode": {
        "name": "ipython",
        "version": 3
      },
      "file_extension": ".py",
      "mimetype": "text/x-python",
      "name": "python",
      "nbconvert_exporter": "python",
      "pygments_lexer": "ipython3",
      "version": "3.7.1"
    },
    "colab": {
      "provenance": [],
      "include_colab_link": true
    }
  },
  "nbformat": 4,
  "nbformat_minor": 0
}