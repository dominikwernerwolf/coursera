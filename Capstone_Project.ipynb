{
  "nbformat": 4,
  "nbformat_minor": 0,
  "metadata": {
    "kernelspec": {
      "display_name": "feedforward",
      "language": "python",
      "name": "feedforward"
    },
    "language_info": {
      "codemirror_mode": {
        "name": "ipython",
        "version": 3
      },
      "file_extension": ".py",
      "mimetype": "text/x-python",
      "name": "python",
      "nbconvert_exporter": "python",
      "pygments_lexer": "ipython3",
      "version": "3.6.9"
    },
    "colab": {
      "provenance": [],
      "collapsed_sections": [],
      "include_colab_link": true
    }
  },
  "cells": [
    {
      "cell_type": "markdown",
      "metadata": {
        "id": "view-in-github",
        "colab_type": "text"
      },
      "source": [
        "<a href=\"https://colab.research.google.com/github/dominikwernerwolf/coursera/blob/main/Capstone_Project.ipynb\" target=\"_parent\"><img src=\"https://colab.research.google.com/assets/colab-badge.svg\" alt=\"Open In Colab\"/></a>"
      ]
    },
    {
      "cell_type": "markdown",
      "metadata": {
        "id": "rffwkDWTz_Fo"
      },
      "source": [
        "# Capstone Project\n",
        "## Image classifier for the SVHN dataset\n",
        "### Instructions\n",
        "\n",
        "In this notebook, you will create a neural network that classifies real-world images digits. You will use concepts from throughout this course in building, training, testing, validating and saving your Tensorflow classifier model.\n",
        "\n",
        "This project is peer-assessed. Within this notebook you will find instructions in each section for how to complete the project. Pay close attention to the instructions as the peer review will be carried out according to a grading rubric that checks key parts of the project instructions. Feel free to add extra cells into the notebook as required.\n",
        "\n",
        "### How to submit\n",
        "\n",
        "When you have completed the Capstone project notebook, you will submit a pdf of the notebook for peer review. First ensure that the notebook has been fully executed from beginning to end, and all of the cell outputs are visible. This is important, as the grading rubric depends on the reviewer being able to view the outputs of your notebook. Save the notebook as a pdf (you could download the notebook with File -> Download .ipynb, open the notebook locally, and then File -> Download as -> PDF via LaTeX), and then submit this pdf for review.\n",
        "\n",
        "### Let's get started!\n",
        "\n",
        "We'll start by running some imports, and loading the dataset. For this project you are free to make further imports throughout the notebook as you wish. "
      ]
    },
    {
      "cell_type": "code",
      "metadata": {
        "id": "O3vI8jSIz_Fs"
      },
      "source": [
        "import tensorflow as tf\n",
        "from scipy.io import loadmat"
      ],
      "execution_count": 1,
      "outputs": []
    },
    {
      "cell_type": "markdown",
      "metadata": {
        "id": "8OrHY7TRz_Fx"
      },
      "source": [
        "For the capstone project, you will use the [SVHN dataset](http://ufldl.stanford.edu/housenumbers/). This is an image dataset of over 600,000 digit images in all, and is a harder dataset than MNIST as the numbers appear in the context of natural scene images. SVHN is obtained from house numbers in Google Street View images.\n",
        "\n",
        "* Y. Netzer, T. Wang, A. Coates, A. Bissacco, B. Wu and A. Y. Ng. \"Reading Digits in Natural Images with Unsupervised Feature Learning\". NIPS Workshop on Deep Learning and Unsupervised Feature Learning, 2011.\n",
        "\n",
        "The train and test datasets required for this project can be downloaded from [here](http://ufldl.stanford.edu/housenumbers/train.tar.gz) and [here](http://ufldl.stanford.edu/housenumbers/test.tar.gz). Once unzipped, you will have two files: `train_32x32.mat` and `test_32x32.mat`. You should store these files in Drive for use in this Colab notebook.\n",
        "\n",
        "Your goal is to develop an end-to-end workflow for building, training, validating, evaluating and saving a neural network that classifies a real-world image into one of ten classes."
      ]
    },
    {
      "cell_type": "code",
      "metadata": {
        "id": "r8BHW8P_2wxw",
        "colab": {
          "base_uri": "https://localhost:8080/"
        },
        "outputId": "d80403e2-ea53-43f7-f54c-c6f95a14c1e0"
      },
      "source": [
        "# Run this cell to connect to your Drive folder\n",
        "\n",
        "from google.colab import drive\n",
        "drive.mount('/content/gdrive')"
      ],
      "execution_count": 2,
      "outputs": [
        {
          "output_type": "stream",
          "name": "stdout",
          "text": [
            "Mounted at /content/gdrive\n"
          ]
        }
      ]
    },
    {
      "cell_type": "code",
      "source": [
        "! ls"
      ],
      "metadata": {
        "id": "7tAj5Lh2zyWZ",
        "outputId": "6fddb3d9-7ba8-4c99-f8be-ffb1a1aedb61",
        "colab": {
          "base_uri": "https://localhost:8080/"
        }
      },
      "execution_count": 3,
      "outputs": [
        {
          "output_type": "stream",
          "name": "stdout",
          "text": [
            "gdrive\tsample_data\n"
          ]
        }
      ]
    },
    {
      "cell_type": "code",
      "source": [
        "%cd gdrive/MyDrive/"
      ],
      "metadata": {
        "id": "tfCL0Iogz1Ig",
        "outputId": "67019912-bc46-4eb2-ee3b-9dafb96ed2c3",
        "colab": {
          "base_uri": "https://localhost:8080/"
        }
      },
      "execution_count": 4,
      "outputs": [
        {
          "output_type": "stream",
          "name": "stdout",
          "text": [
            "/content/gdrive/MyDrive\n"
          ]
        }
      ]
    },
    {
      "cell_type": "code",
      "source": [
        "! ls"
      ],
      "metadata": {
        "id": "lmjyQ4S20SMV",
        "outputId": "ad31ca2b-b283-4abc-c9b3-de2a5e0d8a42",
        "colab": {
          "base_uri": "https://localhost:8080/"
        }
      },
      "execution_count": 5,
      "outputs": [
        {
          "output_type": "stream",
          "name": "stdout",
          "text": [
            "'Colab Notebooks'  'Week 2 Programming Assignment.ipynb'\n",
            " test_32x32.mat    'Week 3 Programming Assignment.ipynb'\n",
            " train_32x32.mat   'Week 4 Programming Assignment.ipynb'\n"
          ]
        }
      ]
    },
    {
      "cell_type": "code",
      "source": [
        "%cd .."
      ],
      "metadata": {
        "id": "zTp54UP-1Kfe",
        "outputId": "d164605f-ed01-479a-ed41-4683bdf84015",
        "colab": {
          "base_uri": "https://localhost:8080/"
        }
      },
      "execution_count": 6,
      "outputs": [
        {
          "output_type": "stream",
          "name": "stdout",
          "text": [
            "/content/gdrive\n"
          ]
        }
      ]
    },
    {
      "cell_type": "code",
      "source": [
        "%cd .."
      ],
      "metadata": {
        "id": "Gdtd2UXz1Oer",
        "outputId": "2015144d-eed8-4f7d-c776-2511539bb510",
        "colab": {
          "base_uri": "https://localhost:8080/"
        }
      },
      "execution_count": 7,
      "outputs": [
        {
          "output_type": "stream",
          "name": "stdout",
          "text": [
            "/content\n"
          ]
        }
      ]
    },
    {
      "cell_type": "code",
      "metadata": {
        "id": "YWdiz3n_z_Fy"
      },
      "source": [
        "# Load the dataset from your Drive folder\n",
        "\n",
        "train = loadmat('gdrive/MyDrive/train_32x32.mat')\n",
        "test = loadmat('gdrive/MyDrive/test_32x32.mat')"
      ],
      "execution_count": 8,
      "outputs": []
    },
    {
      "cell_type": "markdown",
      "metadata": {
        "id": "Sot1IcuZz_F2"
      },
      "source": [
        "Both `train` and `test` are dictionaries with keys `X` and `y` for the input images and labels respectively."
      ]
    },
    {
      "cell_type": "markdown",
      "metadata": {
        "id": "_Q1n_Ai2z_F3"
      },
      "source": [
        "## 1. Inspect and preprocess the dataset\n",
        "* Extract the training and testing images and labels separately from the train and test dictionaries loaded for you.\n",
        "* Select a random sample of images and corresponding labels from the dataset (at least 10), and display them in a figure.\n",
        "* Convert the training and test images to grayscale by taking the average across all colour channels for each pixel. _Hint: retain the channel dimension, which will now have size 1._\n",
        "* Select a random sample of the grayscale images and corresponding labels from the dataset (at least 10), and display them in a figure."
      ]
    },
    {
      "cell_type": "code",
      "metadata": {
        "id": "-WIH5hyXz_F4",
        "colab": {
          "base_uri": "https://localhost:8080/"
        },
        "outputId": "aa91e6e2-babb-499c-f746-d38d3899479a"
      },
      "source": [
        "train_x = train['X']\n",
        "train_y = train['y']\n",
        "\n",
        "test_x = test['X']\n",
        "test_y = test['y']\n",
        "\n",
        "train_x.shape"
      ],
      "execution_count": 9,
      "outputs": [
        {
          "output_type": "execute_result",
          "data": {
            "text/plain": [
              "(32, 32, 3, 73257)"
            ]
          },
          "metadata": {},
          "execution_count": 9
        }
      ]
    },
    {
      "cell_type": "code",
      "metadata": {
        "id": "zmGJK3xgz_F8",
        "colab": {
          "base_uri": "https://localhost:8080/",
          "height": 94
        },
        "outputId": "125281c8-52c1-4878-93b4-604025685a0e"
      },
      "source": [
        "import numpy as np\n",
        "import matplotlib.pyplot as plt\n",
        "\n",
        "fig, ax = plt.subplots(1, 10, figsize=(10, 1))\n",
        "indices = np.array(np.random.rand(10)*train_x.shape[-1], dtype=int)\n",
        "for i in range(10):\n",
        "    ax[i].set_axis_off()\n",
        "    ax[i].imshow(train_x[:,:,:,indices[i]])\n",
        "    ax[i].set_title(train_y[indices[i]][0] if train_y[indices[i]][0] != 10 else 0)"
      ],
      "execution_count": 10,
      "outputs": [
        {
          "output_type": "display_data",
          "data": {
            "text/plain": [
              "<Figure size 720x72 with 10 Axes>"
            ],
            "image/png": "[encoded data removed]"
          },
          "metadata": {
            "needs_background": "light"
          }
        }
      ]
    },
    {
      "cell_type": "code",
      "metadata": {
        "id": "6SR4gYffz_F_",
        "colab": {
          "base_uri": "https://localhost:8080/"
        },
        "outputId": "5552acb2-84d7-453d-d3bd-d5368f3d4d61"
      },
      "source": [
        "train_x = np.mean(train['X'], axis=2, keepdims=True)\n",
        "train_x /= np.max(train_x)\n",
        "test_x = np.mean(test['X'], axis=2, keepdims=True)\n",
        "test_x /= np.max(test_x)\n",
        "\n",
        "train_y = np.array(np.mean(train['y'], axis=1), dtype=int)\n",
        "test_y = np.array(np.mean(test['y'], axis=1), dtype=int)\n",
        "\n",
        "train_x.shape"
      ],
      "execution_count": 11,
      "outputs": [
        {
          "output_type": "execute_result",
          "data": {
            "text/plain": [
              "(32, 32, 1, 73257)"
            ]
          },
          "metadata": {},
          "execution_count": 11
        }
      ]
    },
    {
      "cell_type": "code",
      "metadata": {
        "id": "UXYwWhHpz_GD",
        "colab": {
          "base_uri": "https://localhost:8080/",
          "height": 94
        },
        "outputId": "8cba9d65-8aa7-46dc-8667-659a4305d3d5"
      },
      "source": [
        "fig, ax = plt.subplots(1, 10, figsize=(10, 1))\n",
        "indices = np.array(np.random.rand(10)*train_x.shape[-1], dtype=int)\n",
        "for i in range(10):\n",
        "    ax[i].set_axis_off()\n",
        "    ax[i].imshow(train_x[:,:,0,indices[i]], cmap='gray')\n",
        "    ax[i].set_title(train_y[indices[i]] if train_y[indices[i]] != 10 else 0)"
      ],
      "execution_count": 12,
      "outputs": [
        {
          "output_type": "display_data",
          "data": {
            "text/plain": [
              "<Figure size 720x72 with 10 Axes>"
            ],
            "image/png": "[encoded data removed]"
          },
          "metadata": {
            "needs_background": "light"
          }
        }
      ]
    },
    {
      "cell_type": "markdown",
      "metadata": {
        "id": "7e7iSyWXz_GN"
      },
      "source": [
        "## 2. MLP neural network classifier\n",
        "* Build an MLP classifier model using the Sequential API. Your model should use only Flatten and Dense layers, with the final layer having a 10-way softmax output. \n",
        "* You should design and build the model yourself. Feel free to experiment with different MLP architectures. _Hint: to achieve a reasonable accuracy you won't need to use more than 4 or 5 layers._\n",
        "* Print out the model summary (using the summary() method)\n",
        "* Compile and train the model (we recommend a maximum of 30 epochs), making use of both training and validation sets during the training run. \n",
        "* Your model should track at least one appropriate metric, and use at least two callbacks during training, one of which should be a ModelCheckpoint callback.\n",
        "* As a guide, you should aim to achieve a final categorical cross entropy training loss of less than 1.0 (the validation loss might be higher).\n",
        "* Plot the learning curves for loss vs epoch and accuracy vs epoch for both training and validation sets.\n",
        "* Compute and display the loss and accuracy of the trained model on the test set."
      ]
    },
    {
      "cell_type": "code",
      "metadata": {
        "id": "l14VCBFVz_GO"
      },
      "source": [
        "from tensorflow.keras.models import Sequential\n",
        "from tensorflow.keras.layers import Dense, Flatten"
      ],
      "execution_count": 13,
      "outputs": []
    },
    {
      "cell_type": "code",
      "metadata": {
        "id": "beEZO1kvz_GR"
      },
      "source": [
        "model = Sequential([\n",
        "    Flatten(input_shape=train_x.shape[:-1], name='input'),\n",
        "    Dense(100, activation='relu', name='layer1'),\n",
        "    Dense(50, activation='relu', name='layer2'),\n",
        "    Dense(20, activation='relu', name='layer3'),\n",
        "    Dense(10, activation='softmax', name='output')\n",
        "])"
      ],
      "execution_count": 14,
      "outputs": []
    },
    {
      "cell_type": "code",
      "metadata": {
        "id": "YxJXq3xYz_GU",
        "colab": {
          "base_uri": "https://localhost:8080/"
        },
        "outputId": "662929b0-83fa-4e7d-84dd-7713b6922720"
      },
      "source": [
        "model.summary()"
      ],
      "execution_count": 15,
      "outputs": [
        {
          "output_type": "stream",
          "name": "stdout",
          "text": [
            "Model: \"sequential\"\n",
            "_________________________________________________________________\n",
            " Layer (type)                Output Shape              Param #   \n",
            "=================================================================\n",
            " input (Flatten)             (None, 1024)              0         \n",
            "                                                                 \n",
            " layer1 (Dense)              (None, 100)               102500    \n",
            "                                                                 \n",
            " layer2 (Dense)              (None, 50)                5050      \n",
            "                                                                 \n",
            " layer3 (Dense)              (None, 20)                1020      \n",
            "                                                                 \n",
            " output (Dense)              (None, 10)                210       \n",
            "                                                                 \n",
            "=================================================================\n",
            "Total params: 108,780\n",
            "Trainable params: 108,780\n",
            "Non-trainable params: 0\n",
            "_________________________________________________________________\n"
          ]
        }
      ]
    },
    {
      "cell_type": "code",
      "source": [
        "model.compile(optimizer='adam', loss='sparse_categorical_crossentropy', metrics=['accuracy'])"
      ],
      "metadata": {
        "id": "xgZrn2o9dcLA"
      },
      "execution_count": 16,
      "outputs": []
    },
    {
      "cell_type": "code",
      "metadata": {
        "id": "pPPbzGhVz_GW"
      },
      "source": [
        "from tensorflow.keras.callbacks import ModelCheckpoint, EarlyStopping\n",
        "\n",
        "def get_checkpoint_best_only(path):\n",
        "    checkpoint_best_path = path+'/checkpoint'\n",
        "    checkpoint_best = ModelCheckpoint(filepath=checkpoint_best_path,\n",
        "                                  save_weights_only=True,\n",
        "                                  save_freq='epoch',\n",
        "                                  monitor='val_accuracy',\n",
        "                                  save_best_only=True,\n",
        "                                  verbose=1)\n",
        "    return checkpoint_best\n",
        "\n",
        "def get_early_stopping():\n",
        "    return tf.keras.callbacks.EarlyStopping(monitor='val_accuracy', patience=5)\n",
        "    "
      ],
      "execution_count": 17,
      "outputs": []
    },
    {
      "cell_type": "code",
      "source": [
        "## Comment: In order to use the \"sparse_categorical_crossentropy\" loss function, the label for the \n",
        "##          target '0' has to be swapped from '10' to '0'.\n",
        "\n",
        "train_y[train_y == 10] = 0\n",
        "test_y[test_y == 10] = 0\n",
        "print(np.max(train_y))\n",
        "print(np.max(test_y))"
      ],
      "metadata": {
        "colab": {
          "base_uri": "https://localhost:8080/"
        },
        "id": "73RxLkioeK4M",
        "outputId": "cefe3d3b-c878-4d54-ba92-3e0be8f8ea0f"
      },
      "execution_count": 18,
      "outputs": [
        {
          "output_type": "stream",
          "name": "stdout",
          "text": [
            "9\n",
            "9\n"
          ]
        }
      ]
    },
    {
      "cell_type": "code",
      "source": [
        "## Comment: The data shape has to meet the keras input format convention. Hence, the input tensor is\n",
        "##          reshaped accordingly.\n",
        "\n",
        "tf.transpose(train_x, [3, 0, 1, 2]).shape"
      ],
      "metadata": {
        "colab": {
          "base_uri": "https://localhost:8080/"
        },
        "id": "eipZee7kxzIX",
        "outputId": "f0bb9fb6-d382-4d00-ec0c-27c03c6d8067"
      },
      "execution_count": 19,
      "outputs": [
        {
          "output_type": "execute_result",
          "data": {
            "text/plain": [
              "TensorShape([73257, 32, 32, 1])"
            ]
          },
          "metadata": {},
          "execution_count": 19
        }
      ]
    },
    {
      "cell_type": "code",
      "metadata": {
        "id": "7b5_8VsCz_GZ",
        "colab": {
          "base_uri": "https://localhost:8080/"
        },
        "outputId": "168e2f28-cf97-4a23-ad3c-1d919c0911a1"
      },
      "source": [
        "history = model.fit(tf.transpose(train_x, [3, 0, 1, 2]), train_y, epochs=30, validation_split=0.2, batch_size=200, callbacks=[get_checkpoint_best_only('MLP'), get_early_stopping()], verbose=0)"
      ],
      "execution_count": 20,
      "outputs": [
        {
          "output_type": "stream",
          "name": "stdout",
          "text": [
            "\n",
            "Epoch 1: val_accuracy improved from -inf to 0.18953, saving model to MLP/checkpoint\n",
            "\n",
            "Epoch 2: val_accuracy improved from 0.18953 to 0.38111, saving model to MLP/checkpoint\n",
            "\n",
            "Epoch 3: val_accuracy improved from 0.38111 to 0.44260, saving model to MLP/checkpoint\n",
            "\n",
            "Epoch 4: val_accuracy improved from 0.44260 to 0.50669, saving model to MLP/checkpoint\n",
            "\n",
            "Epoch 5: val_accuracy improved from 0.50669 to 0.57166, saving model to MLP/checkpoint\n",
            "\n",
            "Epoch 6: val_accuracy did not improve from 0.57166\n",
            "\n",
            "Epoch 7: val_accuracy improved from 0.57166 to 0.59855, saving model to MLP/checkpoint\n",
            "\n",
            "Epoch 8: val_accuracy did not improve from 0.59855\n",
            "\n",
            "Epoch 9: val_accuracy improved from 0.59855 to 0.64087, saving model to MLP/checkpoint\n",
            "\n",
            "Epoch 10: val_accuracy did not improve from 0.64087\n",
            "\n",
            "Epoch 11: val_accuracy improved from 0.64087 to 0.65854, saving model to MLP/checkpoint\n",
            "\n",
            "Epoch 12: val_accuracy did not improve from 0.65854\n",
            "\n",
            "Epoch 13: val_accuracy did not improve from 0.65854\n",
            "\n",
            "Epoch 14: val_accuracy improved from 0.65854 to 0.67663, saving model to MLP/checkpoint\n",
            "\n",
            "Epoch 15: val_accuracy did not improve from 0.67663\n",
            "\n",
            "Epoch 16: val_accuracy improved from 0.67663 to 0.67950, saving model to MLP/checkpoint\n",
            "\n",
            "Epoch 17: val_accuracy did not improve from 0.67950\n",
            "\n",
            "Epoch 18: val_accuracy improved from 0.67950 to 0.68762, saving model to MLP/checkpoint\n",
            "\n",
            "Epoch 19: val_accuracy did not improve from 0.68762\n",
            "\n",
            "Epoch 20: val_accuracy did not improve from 0.68762\n",
            "\n",
            "Epoch 21: val_accuracy improved from 0.68762 to 0.69874, saving model to MLP/checkpoint\n",
            "\n",
            "Epoch 22: val_accuracy improved from 0.69874 to 0.71431, saving model to MLP/checkpoint\n",
            "\n",
            "Epoch 23: val_accuracy did not improve from 0.71431\n",
            "\n",
            "Epoch 24: val_accuracy improved from 0.71431 to 0.71451, saving model to MLP/checkpoint\n",
            "\n",
            "Epoch 25: val_accuracy did not improve from 0.71451\n",
            "\n",
            "Epoch 26: val_accuracy did not improve from 0.71451\n",
            "\n",
            "Epoch 27: val_accuracy improved from 0.71451 to 0.72918, saving model to MLP/checkpoint\n",
            "\n",
            "Epoch 28: val_accuracy did not improve from 0.72918\n",
            "\n",
            "Epoch 29: val_accuracy did not improve from 0.72918\n",
            "\n",
            "Epoch 30: val_accuracy did not improve from 0.72918\n"
          ]
        }
      ]
    },
    {
      "cell_type": "code",
      "metadata": {
        "id": "b0kH6VYqz_Gc",
        "colab": {
          "base_uri": "https://localhost:8080/",
          "height": 204
        },
        "outputId": "3202d016-65c9-4c58-b41a-72e2da5fd706"
      },
      "source": [
        "import pandas as pd\n",
        "\n",
        "df = pd.DataFrame(history.history)\n",
        "df.head()"
      ],
      "execution_count": 21,
      "outputs": [
        {
          "output_type": "execute_result",
          "data": {
            "text/plain": [
              "       loss  accuracy  val_loss  val_accuracy\n",
              "0  2.186202  0.207013  2.262533      0.189530\n",
              "1  1.934450  0.318198  1.782617      0.381108\n",
              "2  1.622151  0.431618  1.621413      0.442602\n",
              "3  1.465087  0.503387  1.456197      0.506689\n",
              "4  1.351783  0.551079  1.313012      0.571663"
            ],
            "text/html": [
              "\n",
              "  <div id=\"df-1fbcd400-7c0a-410c-b5a2-a75044304351\">\n",
              "    <div class=\"colab-df-container\">\n",
              "      <div>\n",
              "<style scoped>\n",
              "    .dataframe tbody tr th:only-of-type {\n",
              "        vertical-align: middle;\n",
              "    }\n",
              "\n",
              "    .dataframe tbody tr th {\n",
              "        vertical-align: top;\n",
              "    }\n",
              "\n",
              "    .dataframe thead th {\n",
              "        text-align: right;\n",
              "    }\n",
              "</style>\n",
              "<table border=\"1\" class=\"dataframe\">\n",
              "  <thead>\n",
              "    <tr style=\"text-align: right;\">\n",
              "      <th></th>\n",
              "      <th>loss</th>\n",
              "      <th>accuracy</th>\n",
              "      <th>val_loss</th>\n",
              "      <th>val_accuracy</th>\n",
              "    </tr>\n",
              "  </thead>\n",
              "  <tbody>\n",
              "    <tr>\n",
              "      <th>0</th>\n",
              "      <td>2.186202</td>\n",
              "      <td>0.207013</td>\n",
              "      <td>2.262533</td>\n",
              "      <td>0.189530</td>\n",
              "    </tr>\n",
              "    <tr>\n",
              "      <th>1</th>\n",
              "      <td>1.934450</td>\n",
              "      <td>0.318198</td>\n",
              "      <td>1.782617</td>\n",
              "      <td>0.381108</td>\n",
              "    </tr>\n",
              "    <tr>\n",
              "      <th>2</th>\n",
              "      <td>1.622151</td>\n",
              "      <td>0.431618</td>\n",
              "      <td>1.621413</td>\n",
              "      <td>0.442602</td>\n",
              "    </tr>\n",
              "    <tr>\n",
              "      <th>3</th>\n",
              "      <td>1.465087</td>\n",
              "      <td>0.503387</td>\n",
              "      <td>1.456197</td>\n",
              "      <td>0.506689</td>\n",
              "    </tr>\n",
              "    <tr>\n",
              "      <th>4</th>\n",
              "      <td>1.351783</td>\n",
              "      <td>0.551079</td>\n",
              "      <td>1.313012</td>\n",
              "      <td>0.571663</td>\n",
              "    </tr>\n",
              "  </tbody>\n",
              "</table>\n",
              "</div>\n",
              "      <button class=\"colab-df-convert\" onclick=\"convertToInteractive('df-1fbcd400-7c0a-410c-b5a2-a75044304351')\"\n",
              "              title=\"Convert this dataframe to an interactive table.\"\n",
              "              style=\"display:none;\">\n",
              "        \n",
              "  <svg xmlns=\"http://www.w3.org/2000/svg\" height=\"24px\"viewBox=\"0 0 24 24\"\n",
              "       width=\"24px\">\n",
              "    <path d=\"M0 0h24v24H0V0z\" fill=\"none\"/>\n",
              "    <path d=\"M18.56 5.44l.94 2.06.94-2.06 2.06-.94-2.06-.94-.94-2.06-.94 2.06-2.06.94zm-11 1L8.5 8.5l.94-2.06 2.06-.94-2.06-.94L8.5 2.5l-.94 2.06-2.06.94zm10 10l.94 2.06.94-2.06 2.06-.94-2.06-.94-.94-2.06-.94 2.06-2.06.94z\"/><path d=\"M17.41 7.96l-1.37-1.37c-.4-.4-.92-.59-1.43-.59-.52 0-1.04.2-1.43.59L10.3 9.45l-7.72 7.72c-.78.78-.78 2.05 0 2.83L4 21.41c.39.39.9.59 1.41.59.51 0 1.02-.2 1.41-.59l7.78-7.78 2.81-2.81c.8-.78.8-2.07 0-2.86zM5.41 20L4 18.59l7.72-7.72 1.47 1.35L5.41 20z\"/>\n",
              "  </svg>\n",
              "      </button>\n",
              "      \n",
              "  <style>\n",
              "    .colab-df-container {\n",
              "      display:flex;\n",
              "      flex-wrap:wrap;\n",
              "      gap: 12px;\n",
              "    }\n",
              "\n",
              "    .colab-df-convert {\n",
              "      background-color: #E8F0FE;\n",
              "      border: none;\n",
              "      border-radius: 50%;\n",
              "      cursor: pointer;\n",
              "      display: none;\n",
              "      fill: #1967D2;\n",
              "      height: 32px;\n",
              "      padding: 0 0 0 0;\n",
              "      width: 32px;\n",
              "    }\n",
              "\n",
              "    .colab-df-convert:hover {\n",
              "      background-color: #E2EBFA;\n",
              "      box-shadow: 0px 1px 2px rgba(60, 64, 67, 0.3), 0px 1px 3px 1px rgba(60, 64, 67, 0.15);\n",
              "      fill: #174EA6;\n",
              "    }\n",
              "\n",
              "    [theme=dark] .colab-df-convert {\n",
              "      background-color: #3B4455;\n",
              "      fill: #D2E3FC;\n",
              "    }\n",
              "\n",
              "    [theme=dark] .colab-df-convert:hover {\n",
              "      background-color: #434B5C;\n",
              "      box-shadow: 0px 1px 3px 1px rgba(0, 0, 0, 0.15);\n",
              "      filter: drop-shadow(0px 1px 2px rgba(0, 0, 0, 0.3));\n",
              "      fill: #FFFFFF;\n",
              "    }\n",
              "  </style>\n",
              "\n",
              "      <script>\n",
              "        const buttonEl =\n",
              "          document.querySelector('#df-1fbcd400-7c0a-410c-b5a2-a75044304351 button.colab-df-convert');\n",
              "        buttonEl.style.display =\n",
              "          google.colab.kernel.accessAllowed ? 'block' : 'none';\n",
              "\n",
              "        async function convertToInteractive(key) {\n",
              "          const element = document.querySelector('#df-1fbcd400-7c0a-410c-b5a2-a75044304351');\n",
              "          const dataTable =\n",
              "            await google.colab.kernel.invokeFunction('convertToInteractive',\n",
              "                                                     [key], {});\n",
              "          if (!dataTable) return;\n",
              "\n",
              "          const docLinkHtml = 'Like what you see? Visit the ' +\n",
              "            '<a target=\"_blank\" href=https://colab.research.google.com/notebooks/data_table.ipynb>data table notebook</a>'\n",
              "            + ' to learn more about interactive tables.';\n",
              "          element.innerHTML = '';\n",
              "          dataTable['output_type'] = 'display_data';\n",
              "          await google.colab.output.renderOutput(dataTable, element);\n",
              "          const docLink = document.createElement('div');\n",
              "          docLink.innerHTML = docLinkHtml;\n",
              "          element.appendChild(docLink);\n",
              "        }\n",
              "      </script>\n",
              "    </div>\n",
              "  </div>\n",
              "  "
            ]
          },
          "metadata": {},
          "execution_count": 21
        }
      ]
    },
    {
      "cell_type": "code",
      "source": [
        "fig = plt.figure(figsize=(12, 5))\n",
        "\n",
        "fig.add_subplot(121)\n",
        "\n",
        "plt.xlim([0,30])\n",
        "plt.plot(history.history['accuracy'])\n",
        "plt.plot(history.history['val_accuracy'])\n",
        "plt.title('Accuracy vs. epochs')\n",
        "plt.ylabel('Accuracy')\n",
        "plt.xlabel('Epoch')\n",
        "plt.legend(['Training', 'Validation'], loc='upper right')\n",
        "\n",
        "fig.add_subplot(122)\n",
        "\n",
        "plt.xlim([0,30])\n",
        "plt.plot(history.history['loss'])\n",
        "plt.plot(history.history['val_loss'])\n",
        "plt.title('Loss vs. epochs')\n",
        "plt.ylabel('Loss')\n",
        "plt.xlabel('Epoch')\n",
        "plt.legend(['Training', 'Validation'], loc='upper right')\n",
        "plt.plot([0,50], [1,1], 'r-')\n",
        "\n",
        "plt.show()"
      ],
      "metadata": {
        "colab": {
          "base_uri": "https://localhost:8080/",
          "height": 350
        },
        "id": "aRqMuGG2kBbj",
        "outputId": "c74c217c-3d55-4c1b-d422-bded14505880"
      },
      "execution_count": 22,
      "outputs": [
        {
          "output_type": "display_data",
          "data": {
            "text/plain": [
              "<Figure size 864x360 with 2 Axes>"
            ],
            "image/png": "[encoded data removed]"
          },
          "metadata": {
            "needs_background": "light"
          }
        }
      ]
    },
    {
      "cell_type": "code",
      "source": [
        "test_loss, test_acc = model.evaluate(tf.transpose(test_x, [3, 0, 1, 2]), test_y, verbose=2)"
      ],
      "metadata": {
        "colab": {
          "base_uri": "https://localhost:8080/"
        },
        "id": "nVpghcNCjkzY",
        "outputId": "2a0b404e-11a6-451a-ec62-395fd871a906"
      },
      "execution_count": 23,
      "outputs": [
        {
          "output_type": "stream",
          "name": "stdout",
          "text": [
            "814/814 - 1s - loss: 1.0464 - accuracy: 0.6974 - 1s/epoch - 2ms/step\n"
          ]
        }
      ]
    },
    {
      "cell_type": "code",
      "source": [
        "print('Test loss = '+str(np.round(test_loss, 3)))\n",
        "print('Test accuracy = '+str(np.round(test_acc*100, 1))+'%')"
      ],
      "metadata": {
        "colab": {
          "base_uri": "https://localhost:8080/"
        },
        "id": "owetR-6ijk9Q",
        "outputId": "96fa3155-d517-4a50-eee1-7204359e3d82"
      },
      "execution_count": 24,
      "outputs": [
        {
          "output_type": "stream",
          "name": "stdout",
          "text": [
            "Test loss = 1.046\n",
            "Test accuracy = 69.7%\n"
          ]
        }
      ]
    },
    {
      "cell_type": "markdown",
      "metadata": {
        "id": "ncPtDtCLz_Gg"
      },
      "source": [
        "## 3. CNN neural network classifier\n",
        "* Build a CNN classifier model using the Sequential API. Your model should use the Conv2D, MaxPool2D, BatchNormalization, Flatten, Dense and Dropout layers. The final layer should again have a 10-way softmax output. \n",
        "* You should design and build the model yourself. Feel free to experiment with different CNN architectures. _Hint: to achieve a reasonable accuracy you won't need to use more than 2 or 3 convolutional layers and 2 fully connected layers.)_\n",
        "* The CNN model should use fewer trainable parameters than your MLP model.\n",
        "* Compile and train the model (we recommend a maximum of 30 epochs), making use of both training and validation sets during the training run.\n",
        "* Your model should track at least one appropriate metric, and use at least two callbacks during training, one of which should be a ModelCheckpoint callback.\n",
        "* You should aim to beat the MLP model performance with fewer parameters!\n",
        "* Plot the learning curves for loss vs epoch and accuracy vs epoch for both training and validation sets.\n",
        "* Compute and display the loss and accuracy of the trained model on the test set."
      ]
    },
    {
      "cell_type": "code",
      "metadata": {
        "id": "yk2mH3Npz_Gh"
      },
      "source": [
        "from tensorflow.keras.layers import Conv2D, MaxPooling2D, BatchNormalization, Dropout\n",
        "from tensorflow.keras import regularizers\n",
        "\n",
        "CNN_model = Sequential([\n",
        "        Conv2D(filters=20, kernel_regularizer=regularizers.l2(1E-5), input_shape=train_x.shape[:-1], \n",
        "               kernel_size=(3, 3), activation='relu', padding='same', name='conv_1'),\n",
        "        MaxPooling2D(pool_size=(3, 3), name='pool_1'),\n",
        "        Conv2D(filters=10, kernel_regularizer=regularizers.l2(1E-5),\n",
        "               kernel_size=(3, 3), activation='relu', padding='same', name='conv_2'),\n",
        "        MaxPooling2D(pool_size=(3, 3), name='pool_2'),\n",
        "        Flatten(name='flatten'),\n",
        "        Dense(units=100, kernel_regularizer=regularizers.l2(1E-5), activation='relu', name='dense_1'),\n",
        "        Dropout(0.25, name='dropout'),\n",
        "        Dense(50, kernel_regularizer=regularizers.l2(1E-5), activation=\"relu\", name='dense_2'),\n",
        "        BatchNormalization(name='bacth_normalization'),\n",
        "        Dense(10, kernel_regularizer=regularizers.l2(1E-5), activation=\"softmax\", name='dense_3')\n",
        "])"
      ],
      "execution_count": 25,
      "outputs": []
    },
    {
      "cell_type": "code",
      "metadata": {
        "id": "lbgRgZ5cz_Gn",
        "colab": {
          "base_uri": "https://localhost:8080/"
        },
        "outputId": "694f36f2-5ef5-45e4-bf92-55cf4d879ca3"
      },
      "source": [
        "CNN_model.summary()"
      ],
      "execution_count": 26,
      "outputs": [
        {
          "output_type": "stream",
          "name": "stdout",
          "text": [
            "Model: \"sequential_1\"\n",
            "_________________________________________________________________\n",
            " Layer (type)                Output Shape              Param #   \n",
            "=================================================================\n",
            " conv_1 (Conv2D)             (None, 32, 32, 20)        200       \n",
            "                                                                 \n",
            " pool_1 (MaxPooling2D)       (None, 10, 10, 20)        0         \n",
            "                                                                 \n",
            " conv_2 (Conv2D)             (None, 10, 10, 10)        1810      \n",
            "                                                                 \n",
            " pool_2 (MaxPooling2D)       (None, 3, 3, 10)          0         \n",
            "                                                                 \n",
            " flatten (Flatten)           (None, 90)                0         \n",
            "                                                                 \n",
            " dense_1 (Dense)             (None, 100)               9100      \n",
            "                                                                 \n",
            " dropout (Dropout)           (None, 100)               0         \n",
            "                                                                 \n",
            " dense_2 (Dense)             (None, 50)                5050      \n",
            "                                                                 \n",
            " bacth_normalization (BatchN  (None, 50)               200       \n",
            " ormalization)                                                   \n",
            "                                                                 \n",
            " dense_3 (Dense)             (None, 10)                510       \n",
            "                                                                 \n",
            "=================================================================\n",
            "Total params: 16,870\n",
            "Trainable params: 16,770\n",
            "Non-trainable params: 100\n",
            "_________________________________________________________________\n"
          ]
        }
      ]
    },
    {
      "cell_type": "code",
      "metadata": {
        "id": "nkmS2vV2z_Gs"
      },
      "source": [
        "CNN_model.compile(optimizer='adam', loss='sparse_categorical_crossentropy', metrics=['accuracy'])"
      ],
      "execution_count": 27,
      "outputs": []
    },
    {
      "cell_type": "code",
      "metadata": {
        "id": "VytQECDVz_Gv",
        "colab": {
          "base_uri": "https://localhost:8080/"
        },
        "outputId": "887ceda0-1210-46b8-bacf-1c610a31a2db"
      },
      "source": [
        "CNN_history = CNN_model.fit(tf.transpose(train_x, [3, 0, 1, 2]), train_y, epochs=30, validation_split=0.2, batch_size=200, callbacks=[get_checkpoint_best_only('CNN'), get_early_stopping()], verbose=0)"
      ],
      "execution_count": 28,
      "outputs": [
        {
          "output_type": "stream",
          "name": "stdout",
          "text": [
            "\n",
            "Epoch 1: val_accuracy improved from -inf to 0.50171, saving model to CNN/checkpoint\n",
            "\n",
            "Epoch 2: val_accuracy improved from 0.50171 to 0.71963, saving model to CNN/checkpoint\n",
            "\n",
            "Epoch 3: val_accuracy improved from 0.71963 to 0.77314, saving model to CNN/checkpoint\n",
            "\n",
            "Epoch 4: val_accuracy improved from 0.77314 to 0.77498, saving model to CNN/checkpoint\n",
            "\n",
            "Epoch 5: val_accuracy did not improve from 0.77498\n",
            "\n",
            "Epoch 6: val_accuracy improved from 0.77498 to 0.80856, saving model to CNN/checkpoint\n",
            "\n",
            "Epoch 7: val_accuracy did not improve from 0.80856\n",
            "\n",
            "Epoch 8: val_accuracy did not improve from 0.80856\n",
            "\n",
            "Epoch 9: val_accuracy improved from 0.80856 to 0.81456, saving model to CNN/checkpoint\n",
            "\n",
            "Epoch 10: val_accuracy improved from 0.81456 to 0.82016, saving model to CNN/checkpoint\n",
            "\n",
            "Epoch 11: val_accuracy did not improve from 0.82016\n",
            "\n",
            "Epoch 12: val_accuracy did not improve from 0.82016\n",
            "\n",
            "Epoch 13: val_accuracy did not improve from 0.82016\n",
            "\n",
            "Epoch 14: val_accuracy did not improve from 0.82016\n",
            "\n",
            "Epoch 15: val_accuracy improved from 0.82016 to 0.83286, saving model to CNN/checkpoint\n",
            "\n",
            "Epoch 16: val_accuracy improved from 0.83286 to 0.83292, saving model to CNN/checkpoint\n",
            "\n",
            "Epoch 17: val_accuracy did not improve from 0.83292\n",
            "\n",
            "Epoch 18: val_accuracy did not improve from 0.83292\n",
            "\n",
            "Epoch 19: val_accuracy did not improve from 0.83292\n",
            "\n",
            "Epoch 20: val_accuracy improved from 0.83292 to 0.83415, saving model to CNN/checkpoint\n",
            "\n",
            "Epoch 21: val_accuracy did not improve from 0.83415\n",
            "\n",
            "Epoch 22: val_accuracy improved from 0.83415 to 0.84357, saving model to CNN/checkpoint\n",
            "\n",
            "Epoch 23: val_accuracy did not improve from 0.84357\n",
            "\n",
            "Epoch 24: val_accuracy did not improve from 0.84357\n",
            "\n",
            "Epoch 25: val_accuracy did not improve from 0.84357\n",
            "\n",
            "Epoch 26: val_accuracy did not improve from 0.84357\n",
            "\n",
            "Epoch 27: val_accuracy improved from 0.84357 to 0.85081, saving model to CNN/checkpoint\n",
            "\n",
            "Epoch 28: val_accuracy did not improve from 0.85081\n",
            "\n",
            "Epoch 29: val_accuracy improved from 0.85081 to 0.85087, saving model to CNN/checkpoint\n",
            "\n",
            "Epoch 30: val_accuracy improved from 0.85087 to 0.85258, saving model to CNN/checkpoint\n"
          ]
        }
      ]
    },
    {
      "cell_type": "code",
      "metadata": {
        "id": "60mJypwQz_Gx",
        "colab": {
          "base_uri": "https://localhost:8080/",
          "height": 204
        },
        "outputId": "42721783-7bed-4554-a6af-b3609e7f8520"
      },
      "source": [
        "df2 = pd.DataFrame(CNN_history.history)\n",
        "df2.head()"
      ],
      "execution_count": 29,
      "outputs": [
        {
          "output_type": "execute_result",
          "data": {
            "text/plain": [
              "       loss  accuracy  val_loss  val_accuracy\n",
              "0  1.639930  0.435850  1.700411      0.501706\n",
              "1  0.959395  0.690521  0.925184      0.719629\n",
              "2  0.822808  0.738350  0.721636      0.773137\n",
              "3  0.747927  0.762887  0.716807      0.774980\n",
              "4  0.703723  0.777630  0.723343      0.774024"
            ],
            "text/html": [
              "\n",
              "  <div id=\"df-772f3df2-6481-4b7e-985f-5c6d3f62c118\">\n",
              "    <div class=\"colab-df-container\">\n",
              "      <div>\n",
              "<style scoped>\n",
              "    .dataframe tbody tr th:only-of-type {\n",
              "        vertical-align: middle;\n",
              "    }\n",
              "\n",
              "    .dataframe tbody tr th {\n",
              "        vertical-align: top;\n",
              "    }\n",
              "\n",
              "    .dataframe thead th {\n",
              "        text-align: right;\n",
              "    }\n",
              "</style>\n",
              "<table border=\"1\" class=\"dataframe\">\n",
              "  <thead>\n",
              "    <tr style=\"text-align: right;\">\n",
              "      <th></th>\n",
              "      <th>loss</th>\n",
              "      <th>accuracy</th>\n",
              "      <th>val_loss</th>\n",
              "      <th>val_accuracy</th>\n",
              "    </tr>\n",
              "  </thead>\n",
              "  <tbody>\n",
              "    <tr>\n",
              "      <th>0</th>\n",
              "      <td>1.639930</td>\n",
              "      <td>0.435850</td>\n",
              "      <td>1.700411</td>\n",
              "      <td>0.501706</td>\n",
              "    </tr>\n",
              "    <tr>\n",
              "      <th>1</th>\n",
              "      <td>0.959395</td>\n",
              "      <td>0.690521</td>\n",
              "      <td>0.925184</td>\n",
              "      <td>0.719629</td>\n",
              "    </tr>\n",
              "    <tr>\n",
              "      <th>2</th>\n",
              "      <td>0.822808</td>\n",
              "      <td>0.738350</td>\n",
              "      <td>0.721636</td>\n",
              "      <td>0.773137</td>\n",
              "    </tr>\n",
              "    <tr>\n",
              "      <th>3</th>\n",
              "      <td>0.747927</td>\n",
              "      <td>0.762887</td>\n",
              "      <td>0.716807</td>\n",
              "      <td>0.774980</td>\n",
              "    </tr>\n",
              "    <tr>\n",
              "      <th>4</th>\n",
              "      <td>0.703723</td>\n",
              "      <td>0.777630</td>\n",
              "      <td>0.723343</td>\n",
              "      <td>0.774024</td>\n",
              "    </tr>\n",
              "  </tbody>\n",
              "</table>\n",
              "</div>\n",
              "      <button class=\"colab-df-convert\" onclick=\"convertToInteractive('df-772f3df2-6481-4b7e-985f-5c6d3f62c118')\"\n",
              "              title=\"Convert this dataframe to an interactive table.\"\n",
              "              style=\"display:none;\">\n",
              "        \n",
              "  <svg xmlns=\"http://www.w3.org/2000/svg\" height=\"24px\"viewBox=\"0 0 24 24\"\n",
              "       width=\"24px\">\n",
              "    <path d=\"M0 0h24v24H0V0z\" fill=\"none\"/>\n",
              "    <path d=\"M18.56 5.44l.94 2.06.94-2.06 2.06-.94-2.06-.94-.94-2.06-.94 2.06-2.06.94zm-11 1L8.5 8.5l.94-2.06 2.06-.94-2.06-.94L8.5 2.5l-.94 2.06-2.06.94zm10 10l.94 2.06.94-2.06 2.06-.94-2.06-.94-.94-2.06-.94 2.06-2.06.94z\"/><path d=\"M17.41 7.96l-1.37-1.37c-.4-.4-.92-.59-1.43-.59-.52 0-1.04.2-1.43.59L10.3 9.45l-7.72 7.72c-.78.78-.78 2.05 0 2.83L4 21.41c.39.39.9.59 1.41.59.51 0 1.02-.2 1.41-.59l7.78-7.78 2.81-2.81c.8-.78.8-2.07 0-2.86zM5.41 20L4 18.59l7.72-7.72 1.47 1.35L5.41 20z\"/>\n",
              "  </svg>\n",
              "      </button>\n",
              "      \n",
              "  <style>\n",
              "    .colab-df-container {\n",
              "      display:flex;\n",
              "      flex-wrap:wrap;\n",
              "      gap: 12px;\n",
              "    }\n",
              "\n",
              "    .colab-df-convert {\n",
              "      background-color: #E8F0FE;\n",
              "      border: none;\n",
              "      border-radius: 50%;\n",
              "      cursor: pointer;\n",
              "      display: none;\n",
              "      fill: #1967D2;\n",
              "      height: 32px;\n",
              "      padding: 0 0 0 0;\n",
              "      width: 32px;\n",
              "    }\n",
              "\n",
              "    .colab-df-convert:hover {\n",
              "      background-color: #E2EBFA;\n",
              "      box-shadow: 0px 1px 2px rgba(60, 64, 67, 0.3), 0px 1px 3px 1px rgba(60, 64, 67, 0.15);\n",
              "      fill: #174EA6;\n",
              "    }\n",
              "\n",
              "    [theme=dark] .colab-df-convert {\n",
              "      background-color: #3B4455;\n",
              "      fill: #D2E3FC;\n",
              "    }\n",
              "\n",
              "    [theme=dark] .colab-df-convert:hover {\n",
              "      background-color: #434B5C;\n",
              "      box-shadow: 0px 1px 3px 1px rgba(0, 0, 0, 0.15);\n",
              "      filter: drop-shadow(0px 1px 2px rgba(0, 0, 0, 0.3));\n",
              "      fill: #FFFFFF;\n",
              "    }\n",
              "  </style>\n",
              "\n",
              "      <script>\n",
              "        const buttonEl =\n",
              "          document.querySelector('#df-772f3df2-6481-4b7e-985f-5c6d3f62c118 button.colab-df-convert');\n",
              "        buttonEl.style.display =\n",
              "          google.colab.kernel.accessAllowed ? 'block' : 'none';\n",
              "\n",
              "        async function convertToInteractive(key) {\n",
              "          const element = document.querySelector('#df-772f3df2-6481-4b7e-985f-5c6d3f62c118');\n",
              "          const dataTable =\n",
              "            await google.colab.kernel.invokeFunction('convertToInteractive',\n",
              "                                                     [key], {});\n",
              "          if (!dataTable) return;\n",
              "\n",
              "          const docLinkHtml = 'Like what you see? Visit the ' +\n",
              "            '<a target=\"_blank\" href=https://colab.research.google.com/notebooks/data_table.ipynb>data table notebook</a>'\n",
              "            + ' to learn more about interactive tables.';\n",
              "          element.innerHTML = '';\n",
              "          dataTable['output_type'] = 'display_data';\n",
              "          await google.colab.output.renderOutput(dataTable, element);\n",
              "          const docLink = document.createElement('div');\n",
              "          docLink.innerHTML = docLinkHtml;\n",
              "          element.appendChild(docLink);\n",
              "        }\n",
              "      </script>\n",
              "    </div>\n",
              "  </div>\n",
              "  "
            ]
          },
          "metadata": {},
          "execution_count": 29
        }
      ]
    },
    {
      "cell_type": "code",
      "metadata": {
        "id": "w2v80qosz_G0",
        "colab": {
          "base_uri": "https://localhost:8080/",
          "height": 350
        },
        "outputId": "7d2fbba0-b2d8-4616-eeab-dd33d027742a"
      },
      "source": [
        "fig = plt.figure(figsize=(12, 5))\n",
        "\n",
        "fig.add_subplot(121)\n",
        "\n",
        "plt.xlim([0,30])\n",
        "plt.plot(CNN_history.history['accuracy'])\n",
        "plt.plot(CNN_history.history['val_accuracy'])\n",
        "plt.title('Accuracy vs. epochs')\n",
        "plt.ylabel('Accuracy')\n",
        "plt.xlabel('Epoch')\n",
        "plt.legend(['Training', 'Validation'], loc='upper right')\n",
        "\n",
        "fig.add_subplot(122)\n",
        "\n",
        "plt.xlim([0,30])\n",
        "plt.plot(CNN_history.history['loss'])\n",
        "plt.plot(CNN_history.history['val_loss'])\n",
        "plt.title('Loss vs. epochs')\n",
        "plt.ylabel('Loss')\n",
        "plt.xlabel('Epoch')\n",
        "plt.legend(['Training', 'Validation'], loc='upper right')\n",
        "plt.plot([0,50], [1,1], 'r-')\n",
        "\n",
        "plt.show()"
      ],
      "execution_count": 30,
      "outputs": [
        {
          "output_type": "display_data",
          "data": {
            "text/plain": [
              "<Figure size 864x360 with 2 Axes>"
            ],
            "image/png": "[encoded data removed]"
          },
          "metadata": {
            "needs_background": "light"
          }
        }
      ]
    },
    {
      "cell_type": "code",
      "source": [
        "CNN_test_loss, CNN_test_acc = CNN_model.evaluate(tf.transpose(test_x, [3, 0, 1, 2]), test_y, verbose=2)"
      ],
      "metadata": {
        "colab": {
          "base_uri": "https://localhost:8080/"
        },
        "id": "tVWC6xfW_jLj",
        "outputId": "33ed9d22-a5ef-42d1-a9a0-f10408610743"
      },
      "execution_count": 31,
      "outputs": [
        {
          "output_type": "stream",
          "name": "stdout",
          "text": [
            "814/814 - 7s - loss: 0.4942 - accuracy: 0.8506 - 7s/epoch - 8ms/step\n"
          ]
        }
      ]
    },
    {
      "cell_type": "code",
      "source": [
        "print('CNN test loss = '+str(np.round(CNN_test_loss, 3))+' < '+str(np.round(test_loss, 3))+' = MLP test loss')\n",
        "print('CNN test accuracy = '+str(np.round(CNN_test_acc*100, 1))+'%'+' > '+str(np.round(test_acc*100, 1))+'% = MLP test accuracy')"
      ],
      "metadata": {
        "colab": {
          "base_uri": "https://localhost:8080/"
        },
        "id": "8mj0ZdfU_mUk",
        "outputId": "b0d9532b-d07a-4260-b411-baeff6f05001"
      },
      "execution_count": 32,
      "outputs": [
        {
          "output_type": "stream",
          "name": "stdout",
          "text": [
            "CNN test loss = 0.494 < 1.046 = MLP test loss\n",
            "CNN test accuracy = 85.1% > 69.7% = MLP test accuracy\n"
          ]
        }
      ]
    },
    {
      "cell_type": "markdown",
      "metadata": {
        "id": "3iBYFPWUz_G4"
      },
      "source": [
        "## 4. Get model predictions\n",
        "* Load the best weights for the MLP and CNN models that you saved during the training run.\n",
        "* Randomly select 5 images and corresponding labels from the test set and display the images with their labels.\n",
        "* Alongside the image and label, show each model’s predictive distribution as a bar chart, and the final model prediction given by the label with maximum probability."
      ]
    },
    {
      "cell_type": "code",
      "metadata": {
        "id": "XMYYWs0oz_G5",
        "colab": {
          "base_uri": "https://localhost:8080/"
        },
        "outputId": "09f2d56f-6551-4413-8146-0cd8cb8a873b"
      },
      "source": [
        "model.load_weights('MLP/checkpoint')\n",
        "CNN_model.load_weights('CNN/checkpoint')"
      ],
      "execution_count": 35,
      "outputs": [
        {
          "output_type": "execute_result",
          "data": {
            "text/plain": [
              "<tensorflow.python.training.tracking.util.CheckpointLoadStatus at 0x7f6d02ad2bd0>"
            ]
          },
          "metadata": {},
          "execution_count": 35
        }
      ]
    },
    {
      "cell_type": "code",
      "metadata": {
        "id": "8yUPWbFCz_G8",
        "colab": {
          "base_uri": "https://localhost:8080/",
          "height": 95
        },
        "outputId": "23c0b781-1cb1-497b-964e-638ed61f84d8"
      },
      "source": [
        "fig, ax = plt.subplots(1, 5, figsize=(5, 1))\n",
        "indices = np.array(np.random.rand(5)*test_x.shape[-1], dtype=int)\n",
        "for i in range(5):\n",
        "    ax[i].set_axis_off()\n",
        "    ax[i].imshow(test_x[:,:,0,indices[i]], cmap='gray')\n",
        "    ax[i].set_title(test_y[indices[i]])"
      ],
      "execution_count": 111,
      "outputs": [
        {
          "output_type": "display_data",
          "data": {
            "text/plain": [
              "<Figure size 360x72 with 5 Axes>"
            ],
            "image/png": "[encoded data removed]"
          },
          "metadata": {
            "needs_background": "light"
          }
        }
      ]
    },
    {
      "cell_type": "code",
      "metadata": {
        "id": "W48syko0z_G-",
        "colab": {
          "base_uri": "https://localhost:8080/"
        },
        "outputId": "0a09fc30-8548-460d-e752-7811a52dc4b5"
      },
      "source": [
        "predictions = np.zeros((len(indices), 10))\n",
        "for j in range(5):\n",
        "    predictions[j,:] = model.predict(tf.transpose(test_x, [3, 0, 1, 2])[np.newaxis, indices[j], ...])"
      ],
      "execution_count": 112,
      "outputs": [
        {
          "output_type": "stream",
          "name": "stdout",
          "text": [
            "1/1 [==============================] - 0s 22ms/step\n",
            "1/1 [==============================] - 0s 19ms/step\n",
            "1/1 [==============================] - 0s 17ms/step\n",
            "1/1 [==============================] - 0s 23ms/step\n",
            "1/1 [==============================] - 0s 18ms/step\n"
          ]
        }
      ]
    },
    {
      "cell_type": "code",
      "source": [
        "CNN_predictions = np.zeros((len(indices), 10))\n",
        "for j in range(5):\n",
        "    CNN_predictions[j,:] = CNN_model.predict(tf.transpose(test_x, [3, 0, 1, 2])[np.newaxis, indices[j], ...])"
      ],
      "metadata": {
        "colab": {
          "base_uri": "https://localhost:8080/"
        },
        "id": "73uNizE1hyjS",
        "outputId": "45552940-e101-4eab-fe41-ef996f7f67a5"
      },
      "execution_count": 113,
      "outputs": [
        {
          "output_type": "stream",
          "name": "stdout",
          "text": [
            "1/1 [==============================] - 0s 18ms/step\n",
            "1/1 [==============================] - 0s 23ms/step\n",
            "1/1 [==============================] - 0s 18ms/step\n",
            "1/1 [==============================] - 0s 17ms/step\n",
            "1/1 [==============================] - 0s 18ms/step\n"
          ]
        }
      ]
    },
    {
      "cell_type": "code",
      "metadata": {
        "id": "J_qfLvK-z_HA",
        "colab": {
          "base_uri": "https://localhost:8080/",
          "height": 269
        },
        "outputId": "82a786dd-93c9-463f-958c-30c125ad9dd5"
      },
      "source": [
        "bar_width = 0.3\n",
        "position_MLP = np.arange(10)-bar_width/2\n",
        "position_CNN = np.arange(10)+bar_width/2\n",
        "\n",
        "fig, ax = plt.subplots(2, 5, figsize=(15, 4))\n",
        "for i in range(5):\n",
        "    ax[0,i].set_axis_off()\n",
        "    ax[0,i].imshow(test_x[:,:,0,indices[i]], cmap='gray')\n",
        "    ax[0,i].set_title('True label: '+str(test_y[indices[i]]))\n",
        "\n",
        "    if (i != 0):\n",
        "        ax[1,i].set_yticks([])\n",
        "        ax[1,i].set_yticklabels([])\n",
        "    else:\n",
        "        ax[1,i].set_ylabel('probability [%]')\n",
        "    ax[1,i].set_xlabel('classes')\n",
        "    ax[1,i].set_xlim([-bar_width, 9+bar_width])\n",
        "    ax[1,i].set_xticks(np.arange(0, 10))\n",
        "    ax[1,i].set_ylim([0, 100])\n",
        "    ax[1,i].set_title('MLP pred.: '+str(np.argmax(predictions[i,:]))+', CNN pred.: '+str(np.argmax(CNN_predictions[i,:])))\n",
        "    ax[1,i].bar(position_MLP, predictions[i,:]*100, bar_width, color='blue', label='MLP')\n",
        "    ax[1,i].bar(position_CNN, CNN_predictions[i,:]*100, bar_width, color='red', label='CNN')\n",
        "    ax[1,i].legend()\n",
        "\n",
        "fig.tight_layout()\n",
        "plt.show()"
      ],
      "execution_count": 120,
      "outputs": [
        {
          "output_type": "display_data",
          "data": {
            "text/plain": [
              "<Figure size 1080x288 with 10 Axes>"
            ],
            "image/png": "[encoded data removed]"
          },
          "metadata": {
            "needs_background": "light"
          }
        }
      ]
    },
    {
      "cell_type": "code",
      "source": [],
      "metadata": {
        "id": "QPwkvvwZwEwm"
      },
      "execution_count": null,
      "outputs": []
    }
  ]
}