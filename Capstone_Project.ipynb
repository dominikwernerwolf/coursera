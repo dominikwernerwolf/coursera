{
  "nbformat": 4,
  "nbformat_minor": 0,
  "metadata": {
    "kernelspec": {
      "display_name": "feedforward",
      "language": "python",
      "name": "feedforward"
    },
    "language_info": {
      "codemirror_mode": {
        "name": "ipython",
        "version": 3
      },
      "file_extension": ".py",
      "mimetype": "text/x-python",
      "name": "python",
      "nbconvert_exporter": "python",
      "pygments_lexer": "ipython3",
      "version": "3.6.9"
    },
    "colab": {
      "provenance": [],
      "collapsed_sections": [],
      "include_colab_link": true
    }
  },
  "cells": [
    {
      "cell_type": "markdown",
      "metadata": {
        "id": "view-in-github",
        "colab_type": "text"
      },
      "source": [
        "<a href=\"https://colab.research.google.com/github/dominikwernerwolf/coursera/blob/main/Capstone_Project.ipynb\" target=\"_parent\"><img src=\"https://colab.research.google.com/assets/colab-badge.svg\" alt=\"Open In Colab\"/></a>"
      ]
    },
    {
      "cell_type": "markdown",
      "metadata": {
        "id": "rffwkDWTz_Fo"
      },
      "source": [
        "# Capstone Project\n",
        "## Image classifier for the SVHN dataset\n",
        "### Instructions\n",
        "\n",
        "In this notebook, you will create a neural network that classifies real-world images digits. You will use concepts from throughout this course in building, training, testing, validating and saving your Tensorflow classifier model.\n",
        "\n",
        "This project is peer-assessed. Within this notebook you will find instructions in each section for how to complete the project. Pay close attention to the instructions as the peer review will be carried out according to a grading rubric that checks key parts of the project instructions. Feel free to add extra cells into the notebook as required.\n",
        "\n",
        "### How to submit\n",
        "\n",
        "When you have completed the Capstone project notebook, you will submit a pdf of the notebook for peer review. First ensure that the notebook has been fully executed from beginning to end, and all of the cell outputs are visible. This is important, as the grading rubric depends on the reviewer being able to view the outputs of your notebook. Save the notebook as a pdf (you could download the notebook with File -> Download .ipynb, open the notebook locally, and then File -> Download as -> PDF via LaTeX), and then submit this pdf for review.\n",
        "\n",
        "### Let's get started!\n",
        "\n",
        "We'll start by running some imports, and loading the dataset. For this project you are free to make further imports throughout the notebook as you wish. "
      ]
    },
    {
      "cell_type": "code",
      "metadata": {
        "id": "O3vI8jSIz_Fs"
      },
      "source": [
        "import tensorflow as tf\n",
        "from scipy.io import loadmat"
      ],
      "execution_count": 1,
      "outputs": []
    },
    {
      "cell_type": "markdown",
      "metadata": {
        "id": "8OrHY7TRz_Fx"
      },
      "source": [
        "For the capstone project, you will use the [SVHN dataset](http://ufldl.stanford.edu/housenumbers/). This is an image dataset of over 600,000 digit images in all, and is a harder dataset than MNIST as the numbers appear in the context of natural scene images. SVHN is obtained from house numbers in Google Street View images.\n",
        "\n",
        "* Y. Netzer, T. Wang, A. Coates, A. Bissacco, B. Wu and A. Y. Ng. \"Reading Digits in Natural Images with Unsupervised Feature Learning\". NIPS Workshop on Deep Learning and Unsupervised Feature Learning, 2011.\n",
        "\n",
        "The train and test datasets required for this project can be downloaded from [here](http://ufldl.stanford.edu/housenumbers/train.tar.gz) and [here](http://ufldl.stanford.edu/housenumbers/test.tar.gz). Once unzipped, you will have two files: `train_32x32.mat` and `test_32x32.mat`. You should store these files in Drive for use in this Colab notebook.\n",
        "\n",
        "Your goal is to develop an end-to-end workflow for building, training, validating, evaluating and saving a neural network that classifies a real-world image into one of ten classes."
      ]
    },
    {
      "cell_type": "code",
      "metadata": {
        "id": "r8BHW8P_2wxw",
        "colab": {
          "base_uri": "https://localhost:8080/"
        },
        "outputId": "fffd8bb3-6432-4ec6-c47d-ece7082c24fb"
      },
      "source": [
        "# Run this cell to connect to your Drive folder\n",
        "\n",
        "from google.colab import drive\n",
        "drive.mount('/content/gdrive')"
      ],
      "execution_count": 2,
      "outputs": [
        {
          "output_type": "stream",
          "name": "stdout",
          "text": [
            "Mounted at /content/gdrive\n"
          ]
        }
      ]
    },
    {
      "cell_type": "code",
      "source": [
        "! ls"
      ],
      "metadata": {
        "id": "7tAj5Lh2zyWZ",
        "outputId": "3e9efc7a-a266-4bfe-debd-4ab21631d1c5",
        "colab": {
          "base_uri": "https://localhost:8080/"
        }
      },
      "execution_count": 3,
      "outputs": [
        {
          "output_type": "stream",
          "name": "stdout",
          "text": [
            "gdrive\tsample_data\n"
          ]
        }
      ]
    },
    {
      "cell_type": "code",
      "source": [
        "%cd gdrive/MyDrive/"
      ],
      "metadata": {
        "id": "tfCL0Iogz1Ig",
        "outputId": "d8987055-4a62-4980-e0fd-ba0e5f959fd0",
        "colab": {
          "base_uri": "https://localhost:8080/"
        }
      },
      "execution_count": 4,
      "outputs": [
        {
          "output_type": "stream",
          "name": "stdout",
          "text": [
            "/content/gdrive/MyDrive\n"
          ]
        }
      ]
    },
    {
      "cell_type": "code",
      "source": [
        "! ls"
      ],
      "metadata": {
        "id": "lmjyQ4S20SMV",
        "outputId": "a8875056-ff2f-4864-b0b6-6d487b83f5cd",
        "colab": {
          "base_uri": "https://localhost:8080/"
        }
      },
      "execution_count": 5,
      "outputs": [
        {
          "output_type": "stream",
          "name": "stdout",
          "text": [
            "'Colab Notebooks'  'Week 2 Programming Assignment.ipynb'\n",
            " test_32x32.mat    'Week 3 Programming Assignment.ipynb'\n",
            " train_32x32.mat   'Week 4 Programming Assignment.ipynb'\n"
          ]
        }
      ]
    },
    {
      "cell_type": "code",
      "source": [
        "%cd .."
      ],
      "metadata": {
        "id": "zTp54UP-1Kfe",
        "outputId": "bf29ca4c-3e06-4e3d-a925-f90aa1f3e91f",
        "colab": {
          "base_uri": "https://localhost:8080/"
        }
      },
      "execution_count": 6,
      "outputs": [
        {
          "output_type": "stream",
          "name": "stdout",
          "text": [
            "/content/gdrive\n"
          ]
        }
      ]
    },
    {
      "cell_type": "code",
      "source": [
        "%cd .."
      ],
      "metadata": {
        "id": "Gdtd2UXz1Oer",
        "outputId": "cf6f17fc-1371-4e25-b407-7c92bedc110e",
        "colab": {
          "base_uri": "https://localhost:8080/"
        }
      },
      "execution_count": 7,
      "outputs": [
        {
          "output_type": "stream",
          "name": "stdout",
          "text": [
            "/content\n"
          ]
        }
      ]
    },
    {
      "cell_type": "code",
      "metadata": {
        "id": "YWdiz3n_z_Fy"
      },
      "source": [
        "# Load the dataset from your Drive folder\n",
        "\n",
        "train = loadmat('gdrive/MyDrive/train_32x32.mat')\n",
        "test = loadmat('gdrive/MyDrive/test_32x32.mat')"
      ],
      "execution_count": 8,
      "outputs": []
    },
    {
      "cell_type": "markdown",
      "metadata": {
        "id": "Sot1IcuZz_F2"
      },
      "source": [
        "Both `train` and `test` are dictionaries with keys `X` and `y` for the input images and labels respectively."
      ]
    },
    {
      "cell_type": "markdown",
      "metadata": {
        "id": "_Q1n_Ai2z_F3"
      },
      "source": [
        "## 1. Inspect and preprocess the dataset\n",
        "* Extract the training and testing images and labels separately from the train and test dictionaries loaded for you.\n",
        "* Select a random sample of images and corresponding labels from the dataset (at least 10), and display them in a figure.\n",
        "* Convert the training and test images to grayscale by taking the average across all colour channels for each pixel. _Hint: retain the channel dimension, which will now have size 1._\n",
        "* Select a random sample of the grayscale images and corresponding labels from the dataset (at least 10), and display them in a figure."
      ]
    },
    {
      "cell_type": "code",
      "metadata": {
        "id": "-WIH5hyXz_F4",
        "colab": {
          "base_uri": "https://localhost:8080/"
        },
        "outputId": "0a29626e-7c8f-4f1c-a7d9-80bb7f213333"
      },
      "source": [
        "train_x = train['X']\n",
        "train_y = train['y']\n",
        "\n",
        "test_x = test['X']\n",
        "test_y = test['y']\n",
        "\n",
        "train_x.shape"
      ],
      "execution_count": 30,
      "outputs": [
        {
          "output_type": "execute_result",
          "data": {
            "text/plain": [
              "(32, 32, 3, 73257)"
            ]
          },
          "metadata": {},
          "execution_count": 30
        }
      ]
    },
    {
      "cell_type": "code",
      "metadata": {
        "id": "zmGJK3xgz_F8",
        "colab": {
          "base_uri": "https://localhost:8080/",
          "height": 94
        },
        "outputId": "bd1543fa-be52-446d-9b44-a4776f9e956e"
      },
      "source": [
        "import numpy as np\n",
        "import matplotlib.pyplot as plt\n",
        "\n",
        "fig, ax = plt.subplots(1, 10, figsize=(10, 1))\n",
        "indices = np.array(np.random.rand(10)*train_x.shape[-1], dtype=int)\n",
        "for i in range(10):\n",
        "    ax[i].set_axis_off()\n",
        "    ax[i].imshow(train_x[:,:,:,indices[i]])\n",
        "    ax[i].set_title(train_y[indices[i]][0] if train_y[indices[i]][0] != 10 else 0)"
      ],
      "execution_count": 31,
      "outputs": [
        {
          "output_type": "display_data",
          "data": {
            "text/plain": [
              "<Figure size 720x72 with 10 Axes>"
            ],
            "image/png": "[encoded data removed]"
          },
          "metadata": {
            "needs_background": "light"
          }
        }
      ]
    },
    {
      "cell_type": "code",
      "metadata": {
        "id": "6SR4gYffz_F_",
        "colab": {
          "base_uri": "https://localhost:8080/"
        },
        "outputId": "eed08147-ca1f-4b34-d921-6b2af81d82ec"
      },
      "source": [
        "train_x = np.mean(train['X'], axis=2, keepdims=True)\n",
        "test_x = np.mean(test['X'], axis=2, keepdims=True)\n",
        "\n",
        "train_x.shape"
      ],
      "execution_count": 32,
      "outputs": [
        {
          "output_type": "execute_result",
          "data": {
            "text/plain": [
              "(32, 32, 1, 73257)"
            ]
          },
          "metadata": {},
          "execution_count": 32
        }
      ]
    },
    {
      "cell_type": "code",
      "metadata": {
        "id": "UXYwWhHpz_GD",
        "colab": {
          "base_uri": "https://localhost:8080/",
          "height": 94
        },
        "outputId": "a2cb10b5-3ece-41fb-8e61-ec373b6b2128"
      },
      "source": [
        "fig, ax = plt.subplots(1, 10, figsize=(10, 1))\n",
        "indices = np.array(np.random.rand(10)*train_x.shape[-1], dtype=int)\n",
        "for i in range(10):\n",
        "    ax[i].set_axis_off()\n",
        "    ax[i].imshow(train_x[:,:,0,indices[i]], cmap='gray')\n",
        "    ax[i].set_title(train_y[indices[i]][0] if train_y[indices[i]][0] != 10 else 0)"
      ],
      "execution_count": 33,
      "outputs": [
        {
          "output_type": "display_data",
          "data": {
            "text/plain": [
              "<Figure size 720x72 with 10 Axes>"
            ],
            "image/png": "[encoded data removed]"
          },
          "metadata": {
            "needs_background": "light"
          }
        }
      ]
    },
    {
      "cell_type": "markdown",
      "metadata": {
        "id": "7e7iSyWXz_GN"
      },
      "source": [
        "## 2. MLP neural network classifier\n",
        "* Build an MLP classifier model using the Sequential API. Your model should use only Flatten and Dense layers, with the final layer having a 10-way softmax output. \n",
        "* You should design and build the model yourself. Feel free to experiment with different MLP architectures. _Hint: to achieve a reasonable accuracy you won't need to use more than 4 or 5 layers._\n",
        "* Print out the model summary (using the summary() method)\n",
        "* Compile and train the model (we recommend a maximum of 30 epochs), making use of both training and validation sets during the training run. \n",
        "* Your model should track at least one appropriate metric, and use at least two callbacks during training, one of which should be a ModelCheckpoint callback.\n",
        "* As a guide, you should aim to achieve a final categorical cross entropy training loss of less than 1.0 (the validation loss might be higher).\n",
        "* Plot the learning curves for loss vs epoch and accuracy vs epoch for both training and validation sets.\n",
        "* Compute and display the loss and accuracy of the trained model on the test set."
      ]
    },
    {
      "cell_type": "code",
      "metadata": {
        "id": "l14VCBFVz_GO"
      },
      "source": [
        "from tensorflow.keras.models import Sequential\n",
        "from tensorflow.keras.layers import Dense, Flatten"
      ],
      "execution_count": 15,
      "outputs": []
    },
    {
      "cell_type": "code",
      "metadata": {
        "id": "beEZO1kvz_GR"
      },
      "source": [
        "model = Sequential([\n",
        "    Flatten(input_shape=train_x.shape[:-2], name='input'),\n",
        "    Dense(100, activation='sigmoid', name='layer1'),\n",
        "    Dense(20, activation='sigmoid', name='layer2'),\n",
        "    Dense(10, activation='sigmoid', name='layer3'),\n",
        "    Dense(10, activation='softmax', name='output')\n",
        "])"
      ],
      "execution_count": 34,
      "outputs": []
    },
    {
      "cell_type": "code",
      "metadata": {
        "id": "YxJXq3xYz_GU",
        "colab": {
          "base_uri": "https://localhost:8080/"
        },
        "outputId": "18bda735-0267-4d89-cb31-00f8ec7ca256"
      },
      "source": [
        "model.summary()"
      ],
      "execution_count": 35,
      "outputs": [
        {
          "output_type": "stream",
          "name": "stdout",
          "text": [
            "Model: \"sequential_1\"\n",
            "_________________________________________________________________\n",
            " Layer (type)                Output Shape              Param #   \n",
            "=================================================================\n",
            " input (Flatten)             (None, 1024)              0         \n",
            "                                                                 \n",
            " layer1 (Dense)              (None, 100)               102500    \n",
            "                                                                 \n",
            " layer2 (Dense)              (None, 20)                2020      \n",
            "                                                                 \n",
            " layer3 (Dense)              (None, 10)                210       \n",
            "                                                                 \n",
            " output (Dense)              (None, 10)                110       \n",
            "                                                                 \n",
            "=================================================================\n",
            "Total params: 104,840\n",
            "Trainable params: 104,840\n",
            "Non-trainable params: 0\n",
            "_________________________________________________________________\n"
          ]
        }
      ]
    },
    {
      "cell_type": "code",
      "source": [
        "model.compile(optimizer='adam', loss='sparse_categorical_crossentropy', metrics=['accuracy'])"
      ],
      "metadata": {
        "id": "xgZrn2o9dcLA"
      },
      "execution_count": 36,
      "outputs": []
    },
    {
      "cell_type": "code",
      "metadata": {
        "id": "pPPbzGhVz_GW"
      },
      "source": [
        "from tensorflow.keras.callbacks import ModelCheckpoint, EarlyStopping\n",
        "\n",
        "def get_checkpoint_best_only():\n",
        "    checkpoint_best_path = 'checkpoints_best_only/checkpoint'\n",
        "    checkpoint_best = ModelCheckpoint(filepath=checkpoint_best_path,\n",
        "                                  save_weights_only=True,\n",
        "                                  save_freq='epoch',\n",
        "                                  monitor='val_accuracy',\n",
        "                                  save_best_only=True,\n",
        "                                  verbose=1)\n",
        "    return checkpoint_best\n",
        "\n",
        "def get_early_stopping():\n",
        "    return tf.keras.callbacks.EarlyStopping(monitor='val_accuracy', patience=5)\n",
        "    "
      ],
      "execution_count": 37,
      "outputs": []
    },
    {
      "cell_type": "code",
      "source": [
        "train_y[train_y == 10] = 0\n",
        "test_y[test_y == 10] = 0\n",
        "print(np.max(train_y))\n",
        "print(np.max(test_y))\n",
        "\n",
        "tf.transpose(train_x, [3, 0, 1, 2]).shape"
      ],
      "metadata": {
        "colab": {
          "base_uri": "https://localhost:8080/"
        },
        "id": "73RxLkioeK4M",
        "outputId": "173adb3e-00ec-456b-8d7b-1c0f2cc8215e"
      },
      "execution_count": 43,
      "outputs": [
        {
          "output_type": "stream",
          "name": "stdout",
          "text": [
            "9\n",
            "9\n"
          ]
        },
        {
          "output_type": "execute_result",
          "data": {
            "text/plain": [
              "TensorShape([73257, 32, 32, 1])"
            ]
          },
          "metadata": {},
          "execution_count": 43
        }
      ]
    },
    {
      "cell_type": "code",
      "metadata": {
        "id": "7b5_8VsCz_GZ",
        "colab": {
          "base_uri": "https://localhost:8080/"
        },
        "outputId": "0aafeda8-ed3b-46b5-a282-9e9b5ff16117"
      },
      "source": [
        "history = model.fit(tf.transpose(train_x, [3, 0, 1, 2]), train_y, epochs=50, batch_size=10, validation_data=(tf.transpose(test_x, [3, 0, 1, 2]), test_y), callbacks=[get_checkpoint_best_only(), get_early_stopping()])           "
      ],
      "execution_count": 48,
      "outputs": [
        {
          "output_type": "stream",
          "name": "stdout",
          "text": [
            "Epoch 1/50\n",
            "7311/7326 [============================>.] - ETA: 0s - loss: 2.2381 - accuracy: 0.1892\n",
            "Epoch 1: val_accuracy improved from -inf to 0.19587, saving model to checkpoints_best_only/checkpoint\n",
            "7326/7326 [==============================] - 26s 4ms/step - loss: 2.2382 - accuracy: 0.1892 - val_loss: 2.2242 - val_accuracy: 0.1959\n",
            "Epoch 2/50\n",
            "7312/7326 [============================>.] - ETA: 0s - loss: 2.2377 - accuracy: 0.1892\n",
            "Epoch 2: val_accuracy did not improve from 0.19587\n",
            "7326/7326 [==============================] - 24s 3ms/step - loss: 2.2377 - accuracy: 0.1892 - val_loss: 2.2248 - val_accuracy: 0.1959\n",
            "Epoch 3/50\n",
            "7309/7326 [============================>.] - ETA: 0s - loss: 2.2375 - accuracy: 0.1890\n",
            "Epoch 3: val_accuracy did not improve from 0.19587\n",
            "7326/7326 [==============================] - 26s 4ms/step - loss: 2.2375 - accuracy: 0.1890 - val_loss: 2.2258 - val_accuracy: 0.1959\n",
            "Epoch 4/50\n",
            "7321/7326 [============================>.] - ETA: 0s - loss: 2.2377 - accuracy: 0.1892\n",
            "Epoch 4: val_accuracy did not improve from 0.19587\n",
            "7326/7326 [==============================] - 46s 6ms/step - loss: 2.2377 - accuracy: 0.1892 - val_loss: 2.2254 - val_accuracy: 0.1959\n",
            "Epoch 5/50\n",
            "7316/7326 [============================>.] - ETA: 0s - loss: 2.2373 - accuracy: 0.1892\n",
            "Epoch 5: val_accuracy did not improve from 0.19587\n",
            "7326/7326 [==============================] - 33s 4ms/step - loss: 2.2372 - accuracy: 0.1892 - val_loss: 2.2238 - val_accuracy: 0.1959\n",
            "Epoch 6/50\n",
            "7325/7326 [============================>.] - ETA: 0s - loss: 2.2374 - accuracy: 0.1892\n",
            "Epoch 6: val_accuracy did not improve from 0.19587\n",
            "7326/7326 [==============================] - 31s 4ms/step - loss: 2.2374 - accuracy: 0.1892 - val_loss: 2.2249 - val_accuracy: 0.1959\n"
          ]
        }
      ]
    },
    {
      "cell_type": "code",
      "metadata": {
        "id": "b0kH6VYqz_Gc",
        "colab": {
          "base_uri": "https://localhost:8080/",
          "height": 204
        },
        "outputId": "4f8113d8-cea7-45e8-c71f-ed1e1b801d2e"
      },
      "source": [
        "import pandas as pd\n",
        "\n",
        "df = pd.DataFrame(history.history)\n",
        "df.head()"
      ],
      "execution_count": 49,
      "outputs": [
        {
          "output_type": "execute_result",
          "data": {
            "text/plain": [
              "       loss  accuracy  val_loss  val_accuracy\n",
              "0  2.238180  0.189211  2.224246      0.195874\n",
              "1  2.237691  0.189211  2.224840      0.195874\n",
              "2  2.237537  0.189033  2.225760      0.195874\n",
              "3  2.237740  0.189211  2.225393      0.195874\n",
              "4  2.237236  0.189211  2.223826      0.195874"
            ],
            "text/html": [
              "\n",
              "  <div id=\"df-5815d33a-4024-45fb-97e9-c41a4c1536c2\">\n",
              "    <div class=\"colab-df-container\">\n",
              "      <div>\n",
              "<style scoped>\n",
              "    .dataframe tbody tr th:only-of-type {\n",
              "        vertical-align: middle;\n",
              "    }\n",
              "\n",
              "    .dataframe tbody tr th {\n",
              "        vertical-align: top;\n",
              "    }\n",
              "\n",
              "    .dataframe thead th {\n",
              "        text-align: right;\n",
              "    }\n",
              "</style>\n",
              "<table border=\"1\" class=\"dataframe\">\n",
              "  <thead>\n",
              "    <tr style=\"text-align: right;\">\n",
              "      <th></th>\n",
              "      <th>loss</th>\n",
              "      <th>accuracy</th>\n",
              "      <th>val_loss</th>\n",
              "      <th>val_accuracy</th>\n",
              "    </tr>\n",
              "  </thead>\n",
              "  <tbody>\n",
              "    <tr>\n",
              "      <th>0</th>\n",
              "      <td>2.238180</td>\n",
              "      <td>0.189211</td>\n",
              "      <td>2.224246</td>\n",
              "      <td>0.195874</td>\n",
              "    </tr>\n",
              "    <tr>\n",
              "      <th>1</th>\n",
              "      <td>2.237691</td>\n",
              "      <td>0.189211</td>\n",
              "      <td>2.224840</td>\n",
              "      <td>0.195874</td>\n",
              "    </tr>\n",
              "    <tr>\n",
              "      <th>2</th>\n",
              "      <td>2.237537</td>\n",
              "      <td>0.189033</td>\n",
              "      <td>2.225760</td>\n",
              "      <td>0.195874</td>\n",
              "    </tr>\n",
              "    <tr>\n",
              "      <th>3</th>\n",
              "      <td>2.237740</td>\n",
              "      <td>0.189211</td>\n",
              "      <td>2.225393</td>\n",
              "      <td>0.195874</td>\n",
              "    </tr>\n",
              "    <tr>\n",
              "      <th>4</th>\n",
              "      <td>2.237236</td>\n",
              "      <td>0.189211</td>\n",
              "      <td>2.223826</td>\n",
              "      <td>0.195874</td>\n",
              "    </tr>\n",
              "  </tbody>\n",
              "</table>\n",
              "</div>\n",
              "      <button class=\"colab-df-convert\" onclick=\"convertToInteractive('df-5815d33a-4024-45fb-97e9-c41a4c1536c2')\"\n",
              "              title=\"Convert this dataframe to an interactive table.\"\n",
              "              style=\"display:none;\">\n",
              "        \n",
              "  <svg xmlns=\"http://www.w3.org/2000/svg\" height=\"24px\"viewBox=\"0 0 24 24\"\n",
              "       width=\"24px\">\n",
              "    <path d=\"M0 0h24v24H0V0z\" fill=\"none\"/>\n",
              "    <path d=\"M18.56 5.44l.94 2.06.94-2.06 2.06-.94-2.06-.94-.94-2.06-.94 2.06-2.06.94zm-11 1L8.5 8.5l.94-2.06 2.06-.94-2.06-.94L8.5 2.5l-.94 2.06-2.06.94zm10 10l.94 2.06.94-2.06 2.06-.94-2.06-.94-.94-2.06-.94 2.06-2.06.94z\"/><path d=\"M17.41 7.96l-1.37-1.37c-.4-.4-.92-.59-1.43-.59-.52 0-1.04.2-1.43.59L10.3 9.45l-7.72 7.72c-.78.78-.78 2.05 0 2.83L4 21.41c.39.39.9.59 1.41.59.51 0 1.02-.2 1.41-.59l7.78-7.78 2.81-2.81c.8-.78.8-2.07 0-2.86zM5.41 20L4 18.59l7.72-7.72 1.47 1.35L5.41 20z\"/>\n",
              "  </svg>\n",
              "      </button>\n",
              "      \n",
              "  <style>\n",
              "    .colab-df-container {\n",
              "      display:flex;\n",
              "      flex-wrap:wrap;\n",
              "      gap: 12px;\n",
              "    }\n",
              "\n",
              "    .colab-df-convert {\n",
              "      background-color: #E8F0FE;\n",
              "      border: none;\n",
              "      border-radius: 50%;\n",
              "      cursor: pointer;\n",
              "      display: none;\n",
              "      fill: #1967D2;\n",
              "      height: 32px;\n",
              "      padding: 0 0 0 0;\n",
              "      width: 32px;\n",
              "    }\n",
              "\n",
              "    .colab-df-convert:hover {\n",
              "      background-color: #E2EBFA;\n",
              "      box-shadow: 0px 1px 2px rgba(60, 64, 67, 0.3), 0px 1px 3px 1px rgba(60, 64, 67, 0.15);\n",
              "      fill: #174EA6;\n",
              "    }\n",
              "\n",
              "    [theme=dark] .colab-df-convert {\n",
              "      background-color: #3B4455;\n",
              "      fill: #D2E3FC;\n",
              "    }\n",
              "\n",
              "    [theme=dark] .colab-df-convert:hover {\n",
              "      background-color: #434B5C;\n",
              "      box-shadow: 0px 1px 3px 1px rgba(0, 0, 0, 0.15);\n",
              "      filter: drop-shadow(0px 1px 2px rgba(0, 0, 0, 0.3));\n",
              "      fill: #FFFFFF;\n",
              "    }\n",
              "  </style>\n",
              "\n",
              "      <script>\n",
              "        const buttonEl =\n",
              "          document.querySelector('#df-5815d33a-4024-45fb-97e9-c41a4c1536c2 button.colab-df-convert');\n",
              "        buttonEl.style.display =\n",
              "          google.colab.kernel.accessAllowed ? 'block' : 'none';\n",
              "\n",
              "        async function convertToInteractive(key) {\n",
              "          const element = document.querySelector('#df-5815d33a-4024-45fb-97e9-c41a4c1536c2');\n",
              "          const dataTable =\n",
              "            await google.colab.kernel.invokeFunction('convertToInteractive',\n",
              "                                                     [key], {});\n",
              "          if (!dataTable) return;\n",
              "\n",
              "          const docLinkHtml = 'Like what you see? Visit the ' +\n",
              "            '<a target=\"_blank\" href=https://colab.research.google.com/notebooks/data_table.ipynb>data table notebook</a>'\n",
              "            + ' to learn more about interactive tables.';\n",
              "          element.innerHTML = '';\n",
              "          dataTable['output_type'] = 'display_data';\n",
              "          await google.colab.output.renderOutput(dataTable, element);\n",
              "          const docLink = document.createElement('div');\n",
              "          docLink.innerHTML = docLinkHtml;\n",
              "          element.appendChild(docLink);\n",
              "        }\n",
              "      </script>\n",
              "    </div>\n",
              "  </div>\n",
              "  "
            ]
          },
          "metadata": {},
          "execution_count": 49
        }
      ]
    },
    {
      "cell_type": "code",
      "source": [
        "fig = plt.figure(figsize=(12, 5))\n",
        "\n",
        "fig.add_subplot(121)\n",
        "\n",
        "plt.plot(history.history['accuracy'])\n",
        "plt.plot(history.history['val_accuracy'])\n",
        "plt.title('Accuracy vs. epochs')\n",
        "plt.ylabel('Accuracy')\n",
        "plt.xlabel('Epoch')\n",
        "plt.legend(['Training', 'Validation'], loc='upper right')\n",
        "\n",
        "fig.add_subplot(122)\n",
        "\n",
        "plt.plot(history.history['loss'])\n",
        "plt.plot(history.history['val_loss'])\n",
        "plt.title('Loss vs. epochs')\n",
        "plt.ylabel('Loss')\n",
        "plt.xlabel('Epoch')\n",
        "plt.legend(['Training', 'Validation'], loc='upper right')\n",
        "\n",
        "plt.show()"
      ],
      "metadata": {
        "id": "aRqMuGG2kBbj",
        "outputId": "f056d97b-9348-48a7-ea78-3aa3108529f3",
        "colab": {
          "base_uri": "https://localhost:8080/",
          "height": 350
        }
      },
      "execution_count": 50,
      "outputs": [
        {
          "output_type": "display_data",
          "data": {
            "text/plain": [
              "<Figure size 864x360 with 2 Axes>"
            ],
            "image/png": "[encoded data removed]"
          },
          "metadata": {
            "needs_background": "light"
          }
        }
      ]
    },
    {
      "cell_type": "code",
      "source": [
        "model.evaluate(test_data, test_target, verbose=2)"
      ],
      "metadata": {
        "id": "nVpghcNCjkzY"
      },
      "execution_count": null,
      "outputs": []
    },
    {
      "cell_type": "code",
      "source": [],
      "metadata": {
        "id": "owetR-6ijk9Q"
      },
      "execution_count": null,
      "outputs": []
    },
    {
      "cell_type": "code",
      "source": [],
      "metadata": {
        "id": "AfVdj5A3jl0_"
      },
      "execution_count": null,
      "outputs": []
    },
    {
      "cell_type": "markdown",
      "metadata": {
        "id": "ncPtDtCLz_Gg"
      },
      "source": [
        "## 3. CNN neural network classifier\n",
        "* Build a CNN classifier model using the Sequential API. Your model should use the Conv2D, MaxPool2D, BatchNormalization, Flatten, Dense and Dropout layers. The final layer should again have a 10-way softmax output. \n",
        "* You should design and build the model yourself. Feel free to experiment with different CNN architectures. _Hint: to achieve a reasonable accuracy you won't need to use more than 2 or 3 convolutional layers and 2 fully connected layers.)_\n",
        "* The CNN model should use fewer trainable parameters than your MLP model.\n",
        "* Compile and train the model (we recommend a maximum of 30 epochs), making use of both training and validation sets during the training run.\n",
        "* Your model should track at least one appropriate metric, and use at least two callbacks during training, one of which should be a ModelCheckpoint callback.\n",
        "* You should aim to beat the MLP model performance with fewer parameters!\n",
        "* Plot the learning curves for loss vs epoch and accuracy vs epoch for both training and validation sets.\n",
        "* Compute and display the loss and accuracy of the trained model on the test set."
      ]
    },
    {
      "cell_type": "code",
      "metadata": {
        "id": "yk2mH3Npz_Gh"
      },
      "source": [],
      "execution_count": null,
      "outputs": []
    },
    {
      "cell_type": "code",
      "metadata": {
        "id": "lbgRgZ5cz_Gn"
      },
      "source": [],
      "execution_count": null,
      "outputs": []
    },
    {
      "cell_type": "code",
      "metadata": {
        "id": "nkmS2vV2z_Gs"
      },
      "source": [],
      "execution_count": null,
      "outputs": []
    },
    {
      "cell_type": "code",
      "metadata": {
        "id": "VytQECDVz_Gv"
      },
      "source": [],
      "execution_count": null,
      "outputs": []
    },
    {
      "cell_type": "code",
      "metadata": {
        "id": "60mJypwQz_Gx"
      },
      "source": [],
      "execution_count": null,
      "outputs": []
    },
    {
      "cell_type": "code",
      "metadata": {
        "id": "w2v80qosz_G0"
      },
      "source": [],
      "execution_count": null,
      "outputs": []
    },
    {
      "cell_type": "markdown",
      "metadata": {
        "id": "3iBYFPWUz_G4"
      },
      "source": [
        "## 4. Get model predictions\n",
        "* Load the best weights for the MLP and CNN models that you saved during the training run.\n",
        "* Randomly select 5 images and corresponding labels from the test set and display the images with their labels.\n",
        "* Alongside the image and label, show each model’s predictive distribution as a bar chart, and the final model prediction given by the label with maximum probability."
      ]
    },
    {
      "cell_type": "code",
      "metadata": {
        "id": "XMYYWs0oz_G5"
      },
      "source": [],
      "execution_count": null,
      "outputs": []
    },
    {
      "cell_type": "code",
      "metadata": {
        "id": "8yUPWbFCz_G8"
      },
      "source": [],
      "execution_count": null,
      "outputs": []
    },
    {
      "cell_type": "code",
      "metadata": {
        "id": "W48syko0z_G-"
      },
      "source": [],
      "execution_count": null,
      "outputs": []
    },
    {
      "cell_type": "code",
      "metadata": {
        "id": "J_qfLvK-z_HA"
      },
      "source": [],
      "execution_count": null,
      "outputs": []
    },
    {
      "cell_type": "code",
      "metadata": {
        "id": "2Lx68VA7z_HE"
      },
      "source": [],
      "execution_count": null,
      "outputs": []
    },
    {
      "cell_type": "code",
      "metadata": {
        "id": "NxKa37PWz_HL"
      },
      "source": [],
      "execution_count": null,
      "outputs": []
    }
  ]
}