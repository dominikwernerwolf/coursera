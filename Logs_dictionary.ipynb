{
  "cells": [
    {
      "cell_type": "markdown",
      "metadata": {
        "id": "view-in-github",
        "colab_type": "text"
      },
      "source": [
        "<a href=\"https://colab.research.google.com/github/dominikwernerwolf/coursera/blob/main/Logs_dictionary.ipynb\" target=\"_parent\"><img src=\"https://colab.research.google.com/assets/colab-badge.svg\" alt=\"Open In Colab\"/></a>"
      ]
    },
    {
      "cell_type": "markdown",
      "metadata": {
        "id": "YqqORI6eGut0"
      },
      "source": [
        "# Using the logs dictionary\n",
        "\n",
        "In this reading, we will learn how to take advantage of the `logs` dictionary in Keras to define our own callbacks and check the progress of a model."
      ]
    },
    {
      "cell_type": "code",
      "execution_count": 1,
      "metadata": {
        "colab": {
          "base_uri": "https://localhost:8080/"
        },
        "id": "9HCeaursGut2",
        "outputId": "5e6a2034-f028-4ea2-aca8-37e2ee6fccc0"
      },
      "outputs": [
        {
          "output_type": "stream",
          "name": "stdout",
          "text": [
            "2.9.2\n"
          ]
        }
      ],
      "source": [
        "import tensorflow as tf\n",
        "print(tf.__version__)"
      ]
    },
    {
      "cell_type": "markdown",
      "metadata": {
        "id": "h4fNohCHGut3"
      },
      "source": [
        "The `logs` dictionary stores the loss value, along with all of the metrics we are using at the end of a batch or epoch.\n",
        "\n",
        "We can incorporate information from the `logs` dictionary into our own custom callbacks.\n",
        "\n",
        "Let's see this in action in the context of a model we will construct and fit to the `sklearn` diabetes dataset that we have been using in this module.\n",
        "\n",
        "Let's first import the dataset, and split it into the training and test sets."
      ]
    },
    {
      "cell_type": "code",
      "execution_count": 2,
      "metadata": {
        "id": "AEPm9XmUGut4"
      },
      "outputs": [],
      "source": [
        "# Load the diabetes dataset\n",
        "\n",
        "from sklearn.datasets import load_diabetes\n",
        "\n",
        "diabetes_dataset = load_diabetes()"
      ]
    },
    {
      "cell_type": "code",
      "execution_count": 3,
      "metadata": {
        "id": "rEfTr2iSGut4"
      },
      "outputs": [],
      "source": [
        "# Save the input and target variables\n",
        "\n",
        "from sklearn.model_selection import train_test_split\n",
        "\n",
        "data = diabetes_dataset['data']\n",
        "targets = diabetes_dataset['target']"
      ]
    },
    {
      "cell_type": "code",
      "execution_count": 4,
      "metadata": {
        "id": "sjrXZk-hGut5"
      },
      "outputs": [],
      "source": [
        "# Split the data set into training and test sets\n",
        "\n",
        "train_data, test_data, train_targets, test_targets = train_test_split(data, targets, test_size=0.1)"
      ]
    },
    {
      "cell_type": "markdown",
      "metadata": {
        "id": "9kfZWSP5Gut5"
      },
      "source": [
        "Now we construct our model."
      ]
    },
    {
      "cell_type": "code",
      "execution_count": 5,
      "metadata": {
        "id": "XHM2IO_KGut6"
      },
      "outputs": [],
      "source": [
        "# Build the model\n",
        "\n",
        "from tensorflow.keras.models import Sequential\n",
        "from tensorflow.keras.layers import Dense\n",
        "\n",
        "model = tf.keras.Sequential([\n",
        "    Dense(128, activation='relu', input_shape=(train_data.shape[1],)),\n",
        "    Dense(64,activation='relu'),\n",
        "    tf.keras.layers.BatchNormalization(),\n",
        "    Dense(64, activation='relu'),\n",
        "    Dense(64, activation='relu'),\n",
        "    Dense(1)        \n",
        "])"
      ]
    },
    {
      "cell_type": "markdown",
      "metadata": {
        "id": "2g1d6UoLGut7"
      },
      "source": [
        "We now compile the model, with\n",
        "* Mean squared error as the loss function,\n",
        "* the Adam optimizer, and \n",
        "* Mean absolute error (`mae`) as a metric."
      ]
    },
    {
      "cell_type": "code",
      "execution_count": 6,
      "metadata": {
        "id": "ufJZb1nAGut7"
      },
      "outputs": [],
      "source": [
        "# Compile the model\n",
        "    \n",
        "model.compile(loss='mse', optimizer=\"adam\", metrics=['mae'])"
      ]
    },
    {
      "cell_type": "markdown",
      "metadata": {
        "id": "MXp2VIX6Gut8"
      },
      "source": [
        "### Defining a custom callback\n",
        "\n",
        "Now we define our custom callback using the `logs` dictionary to access the loss and metric values."
      ]
    },
    {
      "cell_type": "code",
      "execution_count": 7,
      "metadata": {
        "id": "YwTHrKRKGut8"
      },
      "outputs": [],
      "source": [
        "# Create the custom callback\n",
        "\n",
        "class LossAndMetricCallback(tf.keras.callbacks.Callback):\n",
        "\n",
        "    # Print the loss after every second batch in the training set\n",
        "    def on_train_batch_end(self, batch, logs=None):\n",
        "        if batch %2 ==0:\n",
        "            print('\\n After batch {}, the loss is {:7.2f}.'.format(batch, logs['loss']))\n",
        "    \n",
        "    # Print the loss after each batch in the test set\n",
        "    def on_test_batch_end(self, batch, logs=None):\n",
        "        print('\\n After batch {}, the loss is {:7.2f}.'.format(batch, logs['loss']))\n",
        "\n",
        "    # Print the loss and mean absolute error after each epoch\n",
        "    def on_epoch_end(self, epoch, logs=None):\n",
        "        print('Epoch {}: Average loss is {:7.2f}, mean absolute error is {:7.2f}.'.format(epoch, logs['loss'], logs['mae']))\n",
        "    \n",
        "    # Notify the user when prediction has finished on each batch\n",
        "    def on_predict_batch_end(self,batch, logs=None):\n",
        "        print(\"Finished prediction on batch {}!\".format(batch))"
      ]
    },
    {
      "cell_type": "markdown",
      "metadata": {
        "id": "kiElSdHNGut9"
      },
      "source": [
        "We now fit the model to the data, and specify that we would like to use our custom callback `LossAndMetricCallback()`."
      ]
    },
    {
      "cell_type": "code",
      "execution_count": 8,
      "metadata": {
        "colab": {
          "base_uri": "https://localhost:8080/"
        },
        "id": "gr9no1dIGut9",
        "outputId": "154c743b-05a9-42ca-87bb-bfac8b2f8f19"
      },
      "outputs": [
        {
          "output_type": "stream",
          "name": "stdout",
          "text": [
            "\n",
            " After batch 0, the loss is 26425.59.\n",
            "\n",
            " After batch 2, the loss is 28192.12.\n",
            "Epoch 0: Average loss is 28729.13, mean absolute error is  151.20.\n",
            "\n",
            " After batch 0, the loss is 31031.75.\n",
            "\n",
            " After batch 2, the loss is 28103.50.\n",
            "Epoch 1: Average loss is 28583.81, mean absolute error is  150.77.\n",
            "\n",
            " After batch 0, the loss is 26839.70.\n",
            "\n",
            " After batch 2, the loss is 28631.67.\n",
            "Epoch 2: Average loss is 28379.42, mean absolute error is  150.16.\n",
            "\n",
            " After batch 0, the loss is 23529.40.\n",
            "\n",
            " After batch 2, the loss is 27308.36.\n",
            "Epoch 3: Average loss is 28078.49, mean absolute error is  149.28.\n",
            "\n",
            " After batch 0, the loss is 26666.45.\n",
            "\n",
            " After batch 2, the loss is 27389.20.\n",
            "Epoch 4: Average loss is 27660.03, mean absolute error is  148.02.\n",
            "\n",
            " After batch 0, the loss is 28945.87.\n",
            "\n",
            " After batch 2, the loss is 27993.75.\n",
            "Epoch 5: Average loss is 27086.04, mean absolute error is  146.24.\n",
            "\n",
            " After batch 0, the loss is 26979.86.\n",
            "\n",
            " After batch 2, the loss is 26670.76.\n",
            "Epoch 6: Average loss is 26306.69, mean absolute error is  143.83.\n",
            "\n",
            " After batch 0, the loss is 23664.85.\n",
            "\n",
            " After batch 2, the loss is 25117.30.\n",
            "Epoch 7: Average loss is 25322.72, mean absolute error is  140.72.\n",
            "\n",
            " After batch 0, the loss is 17934.33.\n",
            "\n",
            " After batch 2, the loss is 23082.25.\n",
            "Epoch 8: Average loss is 24053.96, mean absolute error is  136.66.\n",
            "\n",
            " After batch 0, the loss is 21119.45.\n",
            "\n",
            " After batch 2, the loss is 23152.52.\n",
            "Epoch 9: Average loss is 22579.72, mean absolute error is  131.64.\n",
            "\n",
            " After batch 0, the loss is 22166.83.\n",
            "\n",
            " After batch 2, the loss is 21079.28.\n",
            "Epoch 10: Average loss is 20791.76, mean absolute error is  125.19.\n",
            "\n",
            " After batch 0, the loss is 22173.10.\n",
            "\n",
            " After batch 2, the loss is 18882.77.\n",
            "Epoch 11: Average loss is 18764.56, mean absolute error is  117.41.\n",
            "\n",
            " After batch 0, the loss is 18021.13.\n",
            "\n",
            " After batch 2, the loss is 16089.17.\n",
            "Epoch 12: Average loss is 16525.28, mean absolute error is  108.51.\n",
            "\n",
            " After batch 0, the loss is 13001.00.\n",
            "\n",
            " After batch 2, the loss is 14095.53.\n",
            "Epoch 13: Average loss is 14328.97, mean absolute error is   98.91.\n",
            "\n",
            " After batch 0, the loss is 12874.16.\n",
            "\n",
            " After batch 2, the loss is 12417.39.\n",
            "Epoch 14: Average loss is 11962.41, mean absolute error is   88.38.\n",
            "\n",
            " After batch 0, the loss is 10193.42.\n",
            "\n",
            " After batch 2, the loss is 10100.34.\n",
            "Epoch 15: Average loss is 9866.08, mean absolute error is   78.73.\n",
            "\n",
            " After batch 0, the loss is 8745.63.\n",
            "\n",
            " After batch 2, the loss is 8845.39.\n",
            "Epoch 16: Average loss is 8232.48, mean absolute error is   70.39.\n",
            "\n",
            " After batch 0, the loss is 7809.54.\n",
            "\n",
            " After batch 2, the loss is 6830.29.\n",
            "Epoch 17: Average loss is 6852.97, mean absolute error is   63.52.\n",
            "\n",
            " After batch 0, the loss is 5714.62.\n",
            "\n",
            " After batch 2, the loss is 5989.10.\n",
            "Epoch 18: Average loss is 5978.38, mean absolute error is   59.17.\n",
            "\n",
            " After batch 0, the loss is 6458.94.\n",
            "\n",
            " After batch 2, the loss is 5812.08.\n",
            "Epoch 19: Average loss is 5791.72, mean absolute error is   59.53.\n"
          ]
        }
      ],
      "source": [
        "# Train the model\n",
        "\n",
        "history = model.fit(train_data, train_targets, epochs=20,\n",
        "                    batch_size=100, callbacks=[LossAndMetricCallback()], verbose=False)"
      ]
    },
    {
      "cell_type": "markdown",
      "metadata": {
        "id": "CasGJNccGut9"
      },
      "source": [
        "We can also use our callback in the `evaluate` function..."
      ]
    },
    {
      "cell_type": "code",
      "execution_count": 9,
      "metadata": {
        "colab": {
          "base_uri": "https://localhost:8080/"
        },
        "id": "mnMw330YGut-",
        "outputId": "fbec6e75-3c87-4a71-baa8-aee59201ddc8"
      },
      "outputs": [
        {
          "output_type": "stream",
          "name": "stdout",
          "text": [
            "\n",
            " After batch 0, the loss is 24803.11.\n",
            "\n",
            " After batch 1, the loss is 22415.28.\n",
            "\n",
            " After batch 2, the loss is 18397.77.\n",
            "\n",
            " After batch 3, the loss is 19678.29.\n",
            "\n",
            " After batch 4, the loss is 20221.72.\n"
          ]
        }
      ],
      "source": [
        "# Evaluate the model\n",
        "\n",
        "model_eval = model.evaluate(test_data, test_targets, batch_size=10, \n",
        "                            callbacks=[LossAndMetricCallback()], verbose=False)"
      ]
    },
    {
      "cell_type": "markdown",
      "metadata": {
        "id": "KgDxPuchGut-"
      },
      "source": [
        "...And also the `predict` function."
      ]
    },
    {
      "cell_type": "code",
      "execution_count": 10,
      "metadata": {
        "colab": {
          "base_uri": "https://localhost:8080/"
        },
        "id": "bWpnrUNcGut-",
        "outputId": "fc190aea-76f4-488c-b1e3-81ed1c066ca9"
      },
      "outputs": [
        {
          "output_type": "stream",
          "name": "stdout",
          "text": [
            "Finished prediction on batch 0!\n",
            "Finished prediction on batch 1!\n",
            "Finished prediction on batch 2!\n",
            "Finished prediction on batch 3!\n",
            "Finished prediction on batch 4!\n"
          ]
        }
      ],
      "source": [
        "# Get predictions from the model\n",
        "\n",
        "model_pred = model.predict(test_data, batch_size=10,\n",
        "                           callbacks=[LossAndMetricCallback()], verbose=False)"
      ]
    },
    {
      "cell_type": "markdown",
      "metadata": {
        "id": "tLF7Ck1XGut-"
      },
      "source": [
        "### Application - learning rate scheduler\n",
        "Let's now look at a more sophisticated custom callback. \n",
        "\n",
        "We are going to define a callback to change the learning rate of the optimiser of a model during training. We will do this by specifying the epochs and new learning rates where we would like it to be changed.\n",
        "\n",
        "First we define the auxillary function that returns the learning rate for each epoch based on our schedule."
      ]
    },
    {
      "cell_type": "code",
      "execution_count": 11,
      "metadata": {
        "id": "kD50axezGut_"
      },
      "outputs": [],
      "source": [
        "# Define the learning rate schedule. The tuples below are (start_epoch, new_learning_rate)\n",
        "\n",
        "lr_schedule = [\n",
        "    (4, 0.03), (7, 0.02), (11, 0.005), (15, 0.007)\n",
        "]\n",
        "\n",
        "def get_new_epoch_lr(epoch, lr):\n",
        "    # Checks to see if the input epoch is listed in the learning rate schedule \n",
        "    # and if so, returns index in lr_schedule\n",
        "    epoch_in_sched = [i for i in range(len(lr_schedule)) if lr_schedule[i][0]==int(epoch)]\n",
        "    if len(epoch_in_sched)>0:\n",
        "        # If it is, return the learning rate corresponding to the epoch\n",
        "        return lr_schedule[epoch_in_sched[0]][1]\n",
        "    else:\n",
        "        # Otherwise, return the existing learning rate\n",
        "        return lr"
      ]
    },
    {
      "cell_type": "markdown",
      "metadata": {
        "id": "KB_l6VBXGut_"
      },
      "source": [
        "Let's now define the callback itself."
      ]
    },
    {
      "cell_type": "code",
      "execution_count": 12,
      "metadata": {
        "id": "0c-9-qHXGut_"
      },
      "outputs": [],
      "source": [
        "# Define the custom callback\n",
        "\n",
        "class LRScheduler(tf.keras.callbacks.Callback):\n",
        "    \n",
        "    def __init__(self, new_lr):\n",
        "        super(LRScheduler, self).__init__()\n",
        "        # Add the new learning rate function to our callback\n",
        "        self.new_lr = new_lr\n",
        "\n",
        "    def on_epoch_begin(self, epoch, logs=None):\n",
        "        # Make sure that the optimizer we have chosen has a learning rate, and raise an error if not\n",
        "        if not hasattr(self.model.optimizer, 'lr'):\n",
        "              raise ValueError('Error: Optimizer does not have a learning rate.')\n",
        "                \n",
        "        # Get the current learning rate\n",
        "        curr_rate = float(tf.keras.backend.get_value(self.model.optimizer.lr))\n",
        "        \n",
        "        # Call the auxillary function to get the scheduled learning rate for the current epoch\n",
        "        scheduled_rate = self.new_lr(epoch, curr_rate)\n",
        "\n",
        "        # Set the learning rate to the scheduled learning rate\n",
        "        tf.keras.backend.set_value(self.model.optimizer.lr, scheduled_rate)\n",
        "        print('Learning rate for epoch {} is {:7.3f}'.format(epoch, scheduled_rate))"
      ]
    },
    {
      "cell_type": "markdown",
      "metadata": {
        "id": "4WKEt8vrGut_"
      },
      "source": [
        "Let's now train the model again with our new callback. "
      ]
    },
    {
      "cell_type": "code",
      "execution_count": 13,
      "metadata": {
        "id": "R3_s1LhTGuuA"
      },
      "outputs": [],
      "source": [
        "# Build the same model as before\n",
        "\n",
        "new_model = tf.keras.Sequential([\n",
        "    Dense(128, activation='relu', input_shape=(train_data.shape[1],)),\n",
        "    Dense(64,activation='relu'),\n",
        "    tf.keras.layers.BatchNormalization(),\n",
        "    Dense(64, activation='relu'),\n",
        "    Dense(64, activation='relu'),\n",
        "    Dense(1)        \n",
        "])"
      ]
    },
    {
      "cell_type": "code",
      "execution_count": 14,
      "metadata": {
        "id": "EDjT2ir5GuuA"
      },
      "outputs": [],
      "source": [
        "# Compile the model\n",
        "\n",
        "new_model.compile(loss='mse',\n",
        "                optimizer=\"adam\",\n",
        "                metrics=['mae', 'mse'])"
      ]
    },
    {
      "cell_type": "code",
      "execution_count": 15,
      "metadata": {
        "colab": {
          "base_uri": "https://localhost:8080/"
        },
        "id": "crECYcVDGuuA",
        "outputId": "eb36725b-30d7-4f13-8f6e-e3a48715b4b7"
      },
      "outputs": [
        {
          "output_type": "stream",
          "name": "stdout",
          "text": [
            "Learning rate for epoch 0 is   0.001\n",
            "Learning rate for epoch 1 is   0.001\n",
            "Learning rate for epoch 2 is   0.001\n",
            "Learning rate for epoch 3 is   0.001\n",
            "Learning rate for epoch 4 is   0.030\n",
            "Learning rate for epoch 5 is   0.030\n",
            "Learning rate for epoch 6 is   0.030\n",
            "Learning rate for epoch 7 is   0.020\n",
            "Learning rate for epoch 8 is   0.020\n",
            "Learning rate for epoch 9 is   0.020\n",
            "Learning rate for epoch 10 is   0.020\n",
            "Learning rate for epoch 11 is   0.005\n",
            "Learning rate for epoch 12 is   0.005\n",
            "Learning rate for epoch 13 is   0.005\n",
            "Learning rate for epoch 14 is   0.005\n",
            "Learning rate for epoch 15 is   0.007\n",
            "Learning rate for epoch 16 is   0.007\n",
            "Learning rate for epoch 17 is   0.007\n",
            "Learning rate for epoch 18 is   0.007\n",
            "Learning rate for epoch 19 is   0.007\n"
          ]
        }
      ],
      "source": [
        "# Fit the model with our learning rate scheduler callback\n",
        "\n",
        "new_history = new_model.fit(train_data, train_targets, epochs=20,\n",
        "                            batch_size=100, callbacks=[LRScheduler(get_new_epoch_lr)], verbose=False)"
      ]
    },
    {
      "cell_type": "markdown",
      "metadata": {
        "id": "7SV910D8GuuA"
      },
      "source": [
        "### Further reading and resources\n",
        "* https://www.tensorflow.org/guide/keras/custom_callback\n",
        "* https://www.tensorflow.org/api_docs/python/tf/keras/callbacks/Callback"
      ]
    }
  ],
  "metadata": {
    "kernelspec": {
      "display_name": "Python 3",
      "language": "python",
      "name": "python3"
    },
    "language_info": {
      "codemirror_mode": {
        "name": "ipython",
        "version": 3
      },
      "file_extension": ".py",
      "mimetype": "text/x-python",
      "name": "python",
      "nbconvert_exporter": "python",
      "pygments_lexer": "ipython3",
      "version": "3.7.1"
    },
    "colab": {
      "provenance": [],
      "include_colab_link": true
    }
  },
  "nbformat": 4,
  "nbformat_minor": 0
}